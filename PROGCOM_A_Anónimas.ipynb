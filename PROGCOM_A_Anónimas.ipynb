{
  "nbformat": 4,
  "nbformat_minor": 0,
  "metadata": {
    "colab": {
      "provenance": []
    },
    "kernelspec": {
      "name": "python3",
      "display_name": "Python 3"
    },
    "language_info": {
      "name": "python"
    }
  },
  "cells": [
    {
      "cell_type": "markdown",
      "source": [
        "#ACTIVIDAD\n",
        "Del ejercicio 20-25 con lambda y def\n",
        "25. Crea un programa que calcule la potencia de un número sin usar el operador **.\n",
        "26. Escribe un programa que muestre todas las tablas de multiplicar del 1 al 10.\n",
        "27. Desarrolla un programa que encuentre todos los números perfectos hasta n.\n",
        "28. Crea un programa que genere un patrón de diamante con asteriscos.\n",
        "29. Escribe un programa que encuentre todos los números Armstrong hasta n.\n",
        "30. Desarrolla un programa que simule un reloj digital mostrando horas, minutos y segundos durante un período específico."
      ],
      "metadata": {
        "id": "_GtD7H37PSSu"
      }
    },
    {
      "cell_type": "code",
      "execution_count": null,
      "metadata": {
        "id": "_ItNINeXPAHU"
      },
      "outputs": [],
      "source": [
        "#25 Crea un programa que calcule la potencia de un número sin usar el operador **\n",
        "## Función normal\n",
        "\n",
        "def potencia():\n",
        "  base= int(input(\"Ingrese la base: \"))\n",
        "  exponente= int(input(\"Ingrese el exponente: \"))\n",
        "  resultado = 1\n",
        "\n",
        "  for _ in range(exponente):\n",
        "    resultado = resultado * base\n",
        "\n",
        "  print(f\"{base}^{exponente} = {resultado}\")\n",
        "\n",
        "potencia()"
      ]
    },
    {
      "cell_type": "code",
      "source": [
        "#25 Crea un programa que calcule la potencia de un número sin usar el operador **\n",
        "## Función lambda\n",
        "\n",
        "base= int(input(\"Ingrese la base: \"))\n",
        "exponente= int(input(\"Ingrese el exponente: \"))\n",
        "potencia= lambda b, e: 1 if e == 0 else b * potencia(b, e - 1)\n",
        "\n",
        "print(f\"{base}^{exponente} = {potencia(base,exponente)}\")"
      ],
      "metadata": {
        "id": "y1e9YM5tQwMM"
      },
      "execution_count": null,
      "outputs": []
    },
    {
      "cell_type": "code",
      "source": [
        "#Escribe un programa que muestre todas las tablas de multiplicar del 1 al 10.\n",
        "## Función normal\n",
        "\n",
        "def tablas():\n",
        "  for i in range(1,11):\n",
        "    print(f\"Tabla del {i}:\")\n",
        "    for j in range(1,11):\n",
        "      print(f\"{i} x {j} = {i*j}\")\n",
        "    print()\n",
        "\n",
        "tablas()"
      ],
      "metadata": {
        "colab": {
          "base_uri": "https://localhost:8080/"
        },
        "id": "kXZkuVJ5SCbh",
        "outputId": "4d7b9d91-652e-41d0-a4ef-56f68c9fad85"
      },
      "execution_count": null,
      "outputs": [
        {
          "output_type": "stream",
          "name": "stdout",
          "text": [
            "Tabla del 1:\n",
            "1 x 1 = 1\n",
            "1 x 2 = 2\n",
            "1 x 3 = 3\n",
            "1 x 4 = 4\n",
            "1 x 5 = 5\n",
            "1 x 6 = 6\n",
            "1 x 7 = 7\n",
            "1 x 8 = 8\n",
            "1 x 9 = 9\n",
            "1 x 10 = 10\n",
            "\n",
            "Tabla del 2:\n",
            "2 x 1 = 2\n",
            "2 x 2 = 4\n",
            "2 x 3 = 6\n",
            "2 x 4 = 8\n",
            "2 x 5 = 10\n",
            "2 x 6 = 12\n",
            "2 x 7 = 14\n",
            "2 x 8 = 16\n",
            "2 x 9 = 18\n",
            "2 x 10 = 20\n",
            "\n",
            "Tabla del 3:\n",
            "3 x 1 = 3\n",
            "3 x 2 = 6\n",
            "3 x 3 = 9\n",
            "3 x 4 = 12\n",
            "3 x 5 = 15\n",
            "3 x 6 = 18\n",
            "3 x 7 = 21\n",
            "3 x 8 = 24\n",
            "3 x 9 = 27\n",
            "3 x 10 = 30\n",
            "\n",
            "Tabla del 4:\n",
            "4 x 1 = 4\n",
            "4 x 2 = 8\n",
            "4 x 3 = 12\n",
            "4 x 4 = 16\n",
            "4 x 5 = 20\n",
            "4 x 6 = 24\n",
            "4 x 7 = 28\n",
            "4 x 8 = 32\n",
            "4 x 9 = 36\n",
            "4 x 10 = 40\n",
            "\n",
            "Tabla del 5:\n",
            "5 x 1 = 5\n",
            "5 x 2 = 10\n",
            "5 x 3 = 15\n",
            "5 x 4 = 20\n",
            "5 x 5 = 25\n",
            "5 x 6 = 30\n",
            "5 x 7 = 35\n",
            "5 x 8 = 40\n",
            "5 x 9 = 45\n",
            "5 x 10 = 50\n",
            "\n",
            "Tabla del 6:\n",
            "6 x 1 = 6\n",
            "6 x 2 = 12\n",
            "6 x 3 = 18\n",
            "6 x 4 = 24\n",
            "6 x 5 = 30\n",
            "6 x 6 = 36\n",
            "6 x 7 = 42\n",
            "6 x 8 = 48\n",
            "6 x 9 = 54\n",
            "6 x 10 = 60\n",
            "\n",
            "Tabla del 7:\n",
            "7 x 1 = 7\n",
            "7 x 2 = 14\n",
            "7 x 3 = 21\n",
            "7 x 4 = 28\n",
            "7 x 5 = 35\n",
            "7 x 6 = 42\n",
            "7 x 7 = 49\n",
            "7 x 8 = 56\n",
            "7 x 9 = 63\n",
            "7 x 10 = 70\n",
            "\n",
            "Tabla del 8:\n",
            "8 x 1 = 8\n",
            "8 x 2 = 16\n",
            "8 x 3 = 24\n",
            "8 x 4 = 32\n",
            "8 x 5 = 40\n",
            "8 x 6 = 48\n",
            "8 x 7 = 56\n",
            "8 x 8 = 64\n",
            "8 x 9 = 72\n",
            "8 x 10 = 80\n",
            "\n",
            "Tabla del 9:\n",
            "9 x 1 = 9\n",
            "9 x 2 = 18\n",
            "9 x 3 = 27\n",
            "9 x 4 = 36\n",
            "9 x 5 = 45\n",
            "9 x 6 = 54\n",
            "9 x 7 = 63\n",
            "9 x 8 = 72\n",
            "9 x 9 = 81\n",
            "9 x 10 = 90\n",
            "\n",
            "Tabla del 10:\n",
            "10 x 1 = 10\n",
            "10 x 2 = 20\n",
            "10 x 3 = 30\n",
            "10 x 4 = 40\n",
            "10 x 5 = 50\n",
            "10 x 6 = 60\n",
            "10 x 7 = 70\n",
            "10 x 8 = 80\n",
            "10 x 9 = 90\n",
            "10 x 10 = 100\n",
            "\n"
          ]
        }
      ]
    },
    {
      "cell_type": "code",
      "source": [
        "#Escribe un programa que muestre todas las tablas de multiplicar del 1 al 10.\n",
        "## Función lambda\n",
        "\n",
        "tabla= lambda n: [print(f\"{n} x {i} = {n*i}\") for i in range(1,11)]\n",
        "for i in range(1,11):\n",
        "  print(f\"Tabla del {i}:\")\n",
        "  tabla(i)\n",
        "  print()"
      ],
      "metadata": {
        "colab": {
          "base_uri": "https://localhost:8080/"
        },
        "id": "KK7Tx_emSQgZ",
        "outputId": "ed6e56f3-a73b-4f04-c988-a5fd99b8b4f5"
      },
      "execution_count": null,
      "outputs": [
        {
          "output_type": "stream",
          "name": "stdout",
          "text": [
            "Tabla del 1:\n",
            "1 x 1 = 1\n",
            "1 x 2 = 2\n",
            "1 x 3 = 3\n",
            "1 x 4 = 4\n",
            "1 x 5 = 5\n",
            "1 x 6 = 6\n",
            "1 x 7 = 7\n",
            "1 x 8 = 8\n",
            "1 x 9 = 9\n",
            "1 x 10 = 10\n",
            "\n",
            "Tabla del 2:\n",
            "2 x 1 = 2\n",
            "2 x 2 = 4\n",
            "2 x 3 = 6\n",
            "2 x 4 = 8\n",
            "2 x 5 = 10\n",
            "2 x 6 = 12\n",
            "2 x 7 = 14\n",
            "2 x 8 = 16\n",
            "2 x 9 = 18\n",
            "2 x 10 = 20\n",
            "\n",
            "Tabla del 3:\n",
            "3 x 1 = 3\n",
            "3 x 2 = 6\n",
            "3 x 3 = 9\n",
            "3 x 4 = 12\n",
            "3 x 5 = 15\n",
            "3 x 6 = 18\n",
            "3 x 7 = 21\n",
            "3 x 8 = 24\n",
            "3 x 9 = 27\n",
            "3 x 10 = 30\n",
            "\n",
            "Tabla del 4:\n",
            "4 x 1 = 4\n",
            "4 x 2 = 8\n",
            "4 x 3 = 12\n",
            "4 x 4 = 16\n",
            "4 x 5 = 20\n",
            "4 x 6 = 24\n",
            "4 x 7 = 28\n",
            "4 x 8 = 32\n",
            "4 x 9 = 36\n",
            "4 x 10 = 40\n",
            "\n",
            "Tabla del 5:\n",
            "5 x 1 = 5\n",
            "5 x 2 = 10\n",
            "5 x 3 = 15\n",
            "5 x 4 = 20\n",
            "5 x 5 = 25\n",
            "5 x 6 = 30\n",
            "5 x 7 = 35\n",
            "5 x 8 = 40\n",
            "5 x 9 = 45\n",
            "5 x 10 = 50\n",
            "\n",
            "Tabla del 6:\n",
            "6 x 1 = 6\n",
            "6 x 2 = 12\n",
            "6 x 3 = 18\n",
            "6 x 4 = 24\n",
            "6 x 5 = 30\n",
            "6 x 6 = 36\n",
            "6 x 7 = 42\n",
            "6 x 8 = 48\n",
            "6 x 9 = 54\n",
            "6 x 10 = 60\n",
            "\n",
            "Tabla del 7:\n",
            "7 x 1 = 7\n",
            "7 x 2 = 14\n",
            "7 x 3 = 21\n",
            "7 x 4 = 28\n",
            "7 x 5 = 35\n",
            "7 x 6 = 42\n",
            "7 x 7 = 49\n",
            "7 x 8 = 56\n",
            "7 x 9 = 63\n",
            "7 x 10 = 70\n",
            "\n",
            "Tabla del 8:\n",
            "8 x 1 = 8\n",
            "8 x 2 = 16\n",
            "8 x 3 = 24\n",
            "8 x 4 = 32\n",
            "8 x 5 = 40\n",
            "8 x 6 = 48\n",
            "8 x 7 = 56\n",
            "8 x 8 = 64\n",
            "8 x 9 = 72\n",
            "8 x 10 = 80\n",
            "\n",
            "Tabla del 9:\n",
            "9 x 1 = 9\n",
            "9 x 2 = 18\n",
            "9 x 3 = 27\n",
            "9 x 4 = 36\n",
            "9 x 5 = 45\n",
            "9 x 6 = 54\n",
            "9 x 7 = 63\n",
            "9 x 8 = 72\n",
            "9 x 9 = 81\n",
            "9 x 10 = 90\n",
            "\n",
            "Tabla del 10:\n",
            "10 x 1 = 10\n",
            "10 x 2 = 20\n",
            "10 x 3 = 30\n",
            "10 x 4 = 40\n",
            "10 x 5 = 50\n",
            "10 x 6 = 60\n",
            "10 x 7 = 70\n",
            "10 x 8 = 80\n",
            "10 x 9 = 90\n",
            "10 x 10 = 100\n",
            "\n"
          ]
        }
      ]
    },
    {
      "cell_type": "code",
      "source": [
        "#27 Desarrolla un programa que encuentre todos los números perfectos hasta n.\n",
        "## Función normal\n",
        "def es_numero_perfecto(num):\n",
        "    suma_divisores = sum(i for i in range(1, num) if num % i == 0)\n",
        "    return suma_divisores == num\n",
        "\n",
        "def encontrar_numeros_perfectos(n):\n",
        "    print(f\"Números perfectos hasta {n}:\")\n",
        "    for i in range(1, n + 1):\n",
        "        if es_numero_perfecto(i):\n",
        "            print(i)\n",
        "\n",
        "n = int(input(\"Ingrese un número: \"))\n",
        "encontrar_numeros_perfectos(n)"
      ],
      "metadata": {
        "id": "XBZE1z3VSx4X",
        "colab": {
          "base_uri": "https://localhost:8080/"
        },
        "outputId": "5d9a9c17-73e6-4d38-d727-2f2b1aa54a9e"
      },
      "execution_count": 2,
      "outputs": [
        {
          "output_type": "stream",
          "name": "stdout",
          "text": [
            "Ingrese un número: 30\n",
            "Números perfectos hasta 30:\n",
            "6\n",
            "28\n"
          ]
        }
      ]
    },
    {
      "cell_type": "code",
      "source": [
        "#27 Desarrolla un programa que encuentre todos los números perfectos hasta n.\n",
        "## Función lambda\n",
        "\n",
        "n = int(input(\"Ingrese un número: \"))\n",
        "\n",
        "es_perfecto = lambda num: num > 1 and sum(i for i in range(1, num) if num % i == 0) == num\n",
        "\n",
        "print(\"\\n\".join(map(str, filter(es_perfecto, range(1, n + 1)))))"
      ],
      "metadata": {
        "id": "JygZhvyuSxN_",
        "colab": {
          "base_uri": "https://localhost:8080/"
        },
        "outputId": "daffeffd-c890-4c3b-aeb3-8f66135c6afe"
      },
      "execution_count": 3,
      "outputs": [
        {
          "output_type": "stream",
          "name": "stdout",
          "text": [
            "Ingrese un número: 30\n",
            "6\n",
            "28\n"
          ]
        }
      ]
    },
    {
      "cell_type": "code",
      "source": [
        "#28 Crea un programa que genere un patrón de diamante con asteriscos.\n",
        "## Función normal\n",
        "\n",
        "def diamante():\n",
        "  n= int(input(\"Ingrese el número de filas: \"))\n",
        "  for i in range(1, n + 1):\n",
        "    print(\" \" * (n - i) + \"*\" * (2 * i - 1))\n",
        "  for i in range(n - 1, 0, -1):\n",
        "    print(\" \" * (n - i) + \"*\" * (2 * i - 1))\n",
        "\n",
        "diamante()"
      ],
      "metadata": {
        "colab": {
          "base_uri": "https://localhost:8080/"
        },
        "id": "DNfc3hQJS-sH",
        "outputId": "a0671251-eb69-469f-eb49-05ef9ee32033"
      },
      "execution_count": null,
      "outputs": [
        {
          "output_type": "stream",
          "name": "stdout",
          "text": [
            "Ingrese el número de filas: 5\n",
            "    *\n",
            "   ***\n",
            "  *****\n",
            " *******\n",
            "*********\n",
            " *******\n",
            "  *****\n",
            "   ***\n",
            "    *\n"
          ]
        }
      ]
    },
    {
      "cell_type": "code",
      "source": [
        "#28 Crea un programa que genere un patrón de diamante con asteriscos.\n",
        "## Función lambda\n",
        "\n",
        "diamante = lambda n: print(\"\\n\".join([\" \" * (n - i) + \"*\" * (2 * i - 1) for i in list(range(1, n + 1)) + list(range(n - 1, 0, -1))]))\n",
        "n = int(input(\"Ingrese el número de filas: \"))\n",
        "\n",
        "diamante(n)"
      ],
      "metadata": {
        "id": "AZlAoP7zS-f3",
        "colab": {
          "base_uri": "https://localhost:8080/"
        },
        "outputId": "f793a115-8dde-4917-8317-272a8e96d59f"
      },
      "execution_count": 9,
      "outputs": [
        {
          "output_type": "stream",
          "name": "stdout",
          "text": [
            "Ingrese el número de filas: 5\n",
            "    *\n",
            "   ***\n",
            "  *****\n",
            " *******\n",
            "*********\n",
            " *******\n",
            "  *****\n",
            "   ***\n",
            "    *\n"
          ]
        }
      ]
    },
    {
      "cell_type": "code",
      "source": [
        "#29 Escribe un programa que encuentre todos los números Armstrong hasta n.\n",
        "## Función normal\n",
        "\n",
        "def es_armstrong(num):\n",
        "    num_str = str(num)\n",
        "    num_digitos = len(num_str)\n",
        "    suma = sum(int(digito) ** num_digitos for digito in num_str)\n",
        "    return suma == num\n",
        "\n",
        "def encontrar_armstrong(n):\n",
        "    print(f\"Números Armstrong hasta {n}:\")\n",
        "    for i in range(1, n + 1):\n",
        "        if es_armstrong(i):\n",
        "            print(i)\n",
        "\n",
        "n = int(input(\"Ingrese un número: \"))\n",
        "encontrar_armstrong(n)"
      ],
      "metadata": {
        "id": "N-X6I5q0S-U_",
        "colab": {
          "base_uri": "https://localhost:8080/"
        },
        "outputId": "cbac52e5-6ad2-4215-b6f5-481e5d1ee6e1"
      },
      "execution_count": 10,
      "outputs": [
        {
          "output_type": "stream",
          "name": "stdout",
          "text": [
            "Ingrese un número: 500\n",
            "Números Armstrong hasta 500:\n",
            "1\n",
            "2\n",
            "3\n",
            "4\n",
            "5\n",
            "6\n",
            "7\n",
            "8\n",
            "9\n",
            "153\n",
            "370\n",
            "371\n",
            "407\n"
          ]
        }
      ]
    },
    {
      "cell_type": "code",
      "source": [
        "#29 Escribe un programa que encuentre todos los números Armstrong hasta n.\n",
        "## Función lambda\n",
        "\n",
        "n = int(input(\"Ingrese un número: \"))\n",
        "\n",
        "es_armstrong = lambda num: num == sum(int(d) ** len(str(num)) for d in str(num))\n",
        "\n",
        "print(\"\\n\".join(map(str, filter(es_armstrong, range(1, n + 1)))))"
      ],
      "metadata": {
        "id": "tZf6LhuvS-EX",
        "colab": {
          "base_uri": "https://localhost:8080/"
        },
        "outputId": "fac7be21-1d88-47eb-995b-1cadec5762ce"
      },
      "execution_count": 11,
      "outputs": [
        {
          "output_type": "stream",
          "name": "stdout",
          "text": [
            "Ingrese un número: 500\n",
            "1\n",
            "2\n",
            "3\n",
            "4\n",
            "5\n",
            "6\n",
            "7\n",
            "8\n",
            "9\n",
            "153\n",
            "370\n",
            "371\n",
            "407\n"
          ]
        }
      ]
    },
    {
      "cell_type": "code",
      "source": [
        "#30 Desarrolla un programa que simule un reloj digital mostrando horas, minutos y segundos durante un período específico.\n",
        "## Función normal\n",
        "import time\n",
        "\n",
        "def reloj_digital(horas, minutos, segundos, duracion):\n",
        "    for _ in range(duracion):\n",
        "        print(f\"\\r{horas:02}:{minutos:02}:{segundos:02}\", end=\"\", flush=True)\n",
        "        time.sleep(1)\n",
        "        segundos = segundos + 1\n",
        "        if segundos == 60:\n",
        "            segundos = 0\n",
        "            minutos = minutos + 1\n",
        "        if minutos == 60:\n",
        "            minutos = 0\n",
        "            horas = horas + 1\n",
        "        if horas == 24:\n",
        "            horas = 0\n",
        "\n",
        "duracion = int(input(\"Ingrese la duración de la simulación en segundos: \"))\n",
        "\n",
        "reloj_digital(1, 1, 30, duracion)"
      ],
      "metadata": {
        "id": "dJ9lAhJES96H",
        "colab": {
          "base_uri": "https://localhost:8080/"
        },
        "outputId": "019d78bf-1e41-46d2-990e-2fffda259e50"
      },
      "execution_count": 3,
      "outputs": [
        {
          "output_type": "stream",
          "name": "stdout",
          "text": [
            "Ingrese la duración de la simulación en segundos: 5\n",
            "01:01:34"
          ]
        }
      ]
    },
    {
      "cell_type": "code",
      "source": [
        "#30 Desarrolla un programa que simule un reloj digital mostrando horas, minutos y segundos durante un período específico.\n",
        "## Función lambda\n",
        "import time\n",
        "\n",
        "n = int(input(\"Ingrese la duración de la simulación en segundos: \"))\n",
        "\n",
        "h, m, s = 12, 30, 45\n",
        "\n",
        "\n",
        "incrementar_tiempo = lambda h, m, s: ((h + (m + (s + 1) // 60) // 60) % 24,(m + (s + 1) // 60) % 60, (s + 1) % 60)\n",
        "\n",
        "for _ in range(n):\n",
        "    print(f\"\\r{h:02}:{m:02}:{s:02}\", end=\"\", flush=True)\n",
        "    time.sleep(1)  # Espera un segundo\n",
        "    h, m, s = incrementar_tiempo(h, m, s)"
      ],
      "metadata": {
        "id": "2A_rvK6dS9sG",
        "colab": {
          "base_uri": "https://localhost:8080/"
        },
        "outputId": "b158271c-e54e-4890-9f10-dd0872377b04"
      },
      "execution_count": 5,
      "outputs": [
        {
          "output_type": "stream",
          "name": "stdout",
          "text": [
            "Ingrese la duración de la simulación en segundos: 5\n",
            "12:30:49"
          ]
        }
      ]
    }
  ]
}