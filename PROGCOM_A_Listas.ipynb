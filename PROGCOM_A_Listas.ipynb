{
  "nbformat": 4,
  "nbformat_minor": 0,
  "metadata": {
    "colab": {
      "provenance": []
    },
    "kernelspec": {
      "name": "python3",
      "display_name": "Python 3"
    },
    "language_info": {
      "name": "python"
    }
  },
  "cells": [
    {
      "cell_type": "markdown",
      "source": [
        "Resolver los ejercicios de la prueba diagnóstica (puntos del 15 al 25) empleando listas. Intente emplear las diferentes funciones vistas, y generar las listas por comprensión."
      ],
      "metadata": {
        "id": "dPU5r4qjmO7c"
      }
    },
    {
      "cell_type": "code",
      "execution_count": 13,
      "metadata": {
        "colab": {
          "base_uri": "https://localhost:8080/"
        },
        "id": "sMghzcYJmOQ5",
        "outputId": "4819dc2e-dd89-4b3a-f86b-b95499c31deb"
      },
      "outputs": [
        {
          "output_type": "stream",
          "name": "stdout",
          "text": [
            "Ingrese el primer número: 4\n",
            "Ingrese el segundo número: 5\n",
            "Ingrese el tercer número: 5\n",
            "Los números sí pueden formar un triángulo y su tipo es: Isósceles\n"
          ]
        }
      ],
      "source": [
        "#15 Desarrolla un programa que valide si tres números pueden formar un triángulo y de qué tipo es.\n",
        "n1 = int(input(\"Ingrese el primer número: \"))\n",
        "n2 = int(input(\"Ingrese el segundo número: \"))\n",
        "n3 = int(input(\"Ingrese el tercer número: \"))\n",
        "\n",
        "triangulos = [\"Equilátero\", \"Isósceles\", \"Escaleno\"]\n",
        "\n",
        "triangulo = n1 + n2 > n3 and n1 + n3 > n2 and n2 + n3 > n1\n",
        "\n",
        "tipo_triangulo = [triangulos[0] if n1 == n2 == n3 else triangulos[1] if n1 == n2 or n1 == n3 or n2 == n3 else triangulos[2]] if triangulo else []\n",
        "\n",
        "if triangulo:\n",
        "    print(f\"Los números sí pueden formar un triángulo y su tipo es: {tipo_triangulo[0]}\")\n",
        "else:\n",
        "    print(\"Los números no forman un triángulo\")"
      ]
    },
    {
      "cell_type": "code",
      "source": [
        "#16 Crea un programa que muestre la tabla de multiplicar de un número hasta el 10.\n",
        "y = int(input(\"Ingrese un número \\U0001F600: \"))\n",
        "tabla = [f\"{y} * {num} = {y * num}\" for num in range(1, 11)]\n",
        "\n",
        "for resultado in tabla:\n",
        "    print(resultado)"
      ],
      "metadata": {
        "colab": {
          "base_uri": "https://localhost:8080/"
        },
        "id": "ByicOySbmdUg",
        "outputId": "f849bf77-40ea-4470-d8b5-6a302ac42be2"
      },
      "execution_count": 1,
      "outputs": [
        {
          "output_type": "stream",
          "name": "stdout",
          "text": [
            "Ingrese un número 😀: 4\n",
            "4 * 1 = 4\n",
            "4 * 2 = 8\n",
            "4 * 3 = 12\n",
            "4 * 4 = 16\n",
            "4 * 5 = 20\n",
            "4 * 6 = 24\n",
            "4 * 7 = 28\n",
            "4 * 8 = 32\n",
            "4 * 9 = 36\n",
            "4 * 10 = 40\n"
          ]
        }
      ]
    },
    {
      "cell_type": "markdown",
      "source": [
        "ANOTACIONES:\n",
        "1. La función sum() en Python se usa para sumar todos los elementos de un iterable, como una lista o un rango.\n",
        "2. El método .append(valor) agrega un elemento al final de una lista.\n",
        "3. [:n] es \"slicing\" (rebanado) en Python.\n",
        "Significa que estamos obteniendo los primeros n elementos de la lista.\n",
        "4. enumerate() es una función en Python que se usa para iterar sobre una lista (o cualquier iterable) y al mismo tiempo obtener el índice de cada elemento.\n",
        "5. start=1 define el número desde donde empieza la numeración.\n",
        "6. .join() es un método de Python que se usa para unir elementos de una lista en una sola cadena de texto, separándolos con el carácter o cadena especificada."
      ],
      "metadata": {
        "id": "_LjDwnOfpL8b"
      }
    },
    {
      "cell_type": "code",
      "source": [
        "#17 Escribe un programa que calcule la suma de números naturales hasta n.\n",
        "n = int(input(\"Ingrese un número: \"))\n",
        "suma = sum([i for i in range(1, n + 1)])\n",
        "\n",
        "print(f\"La suma de los números naturales desde 1 hasta {n} es: {suma}\")"
      ],
      "metadata": {
        "colab": {
          "base_uri": "https://localhost:8080/"
        },
        "id": "RuxBnZgYmp8S",
        "outputId": "500c454c-5510-47d1-9ee8-f971f21a2261"
      },
      "execution_count": 2,
      "outputs": [
        {
          "output_type": "stream",
          "name": "stdout",
          "text": [
            "Ingrese un número: 5\n",
            "La suma de los números naturales desde 1 hasta 5 es: 15\n"
          ]
        }
      ]
    },
    {
      "cell_type": "code",
      "source": [
        "#18 Desarrolla un programa que calcule el factorial de un número. Recuerda que el factorial de 0 es 1 y no existen factoriales negativos.\n",
        "x = int(input(\"Ingrese un número: \"))\n",
        "factorial = 1 if x == 0 else sum([i for i in range(1, x + 1)])\n",
        "\n",
        "print(f\"El factorial de {x} es: {factorial}\")"
      ],
      "metadata": {
        "colab": {
          "base_uri": "https://localhost:8080/"
        },
        "id": "sUS75wwgmsSY",
        "outputId": "6d87c0d7-0a31-43c8-9342-f97660b11746"
      },
      "execution_count": 3,
      "outputs": [
        {
          "output_type": "stream",
          "name": "stdout",
          "text": [
            "Ingrese un número: 3\n",
            "El factorial de 3 es: 6\n"
          ]
        }
      ]
    },
    {
      "cell_type": "code",
      "source": [
        "#19 Crea un programa que muestre los primeros n números de la serie Fibonacci.\n",
        "n = int(input(\"Ingrese la cantidad de números de la serie Fibonacci que desea ver: \"))\n",
        "fibonacci = [0, 1]\n",
        "[fibonacci.append(fibonacci[-1] + fibonacci[-2]) for _ in range(n - 2)] if n > 1 else False\n",
        "\n",
        "print(fibonacci[:n])"
      ],
      "metadata": {
        "colab": {
          "base_uri": "https://localhost:8080/"
        },
        "id": "Xmvtn01smwjA",
        "outputId": "f53d9248-72b8-4431-9e12-7aef505347d7"
      },
      "execution_count": 5,
      "outputs": [
        {
          "output_type": "stream",
          "name": "stdout",
          "text": [
            "Ingrese la cantidad de números de la serie Fibonacci que desea ver: 5\n",
            "[0, 1, 1, 2, 3]\n"
          ]
        }
      ]
    },
    {
      "cell_type": "code",
      "source": [
        "#20 Escribe un programa que adivine entre un conjunto de diez colores definidos por el usuario, con un máximo de 10 intentos.\n",
        "import random\n",
        "print (\"Ingresa 10 colores ;): \")\n",
        "colores = [input(\"Color: \") for i in range(10)]\n",
        "color_usuario = input(\"Elige un color secreto: \")\n",
        "print(\"Ahora intentaré adivinarlo, solo tendré 10 intentos, deseame suerte\")\n",
        "\n",
        "intentos = [random.choice(colores) for _ in range(10)]\n",
        "\n",
        "for i, intento in enumerate(intentos, start=1):\n",
        "    print(f\"Intento {i}: Será el color {intento}?\")\n",
        "\n",
        "    if intento == color_usuario:\n",
        "        print(f\"Pude adivinar tu color en {i} intentos, y el color era {intento}\")\n",
        "        break\n",
        "    else:\n",
        "        print(f\"El color no era {intento}, trataré otra vez (si puedo)\")\n",
        "        colores.remove(intento)\n",
        "else:\n",
        "    print(f\"No pude adivinar tu color, el color era {color_usuario}\")"
      ],
      "metadata": {
        "colab": {
          "base_uri": "https://localhost:8080/"
        },
        "id": "l0iqlTrBmy9L",
        "outputId": "1c1e928a-73b8-49f0-f0dd-5ff7f1af75c7"
      },
      "execution_count": 10,
      "outputs": [
        {
          "output_type": "stream",
          "name": "stdout",
          "text": [
            "Ingresa 10 colores ;): \n",
            "Color: rojo\n",
            "Color: amarillo\n",
            "Color: verde\n",
            "Color: azul\n",
            "Color: naranja\n",
            "Color: azul oscuro\n",
            "Color: morado\n",
            "Color: rosado\n",
            "Color: negro\n",
            "Color: blanco\n",
            "Elige un color secreto: verde\n",
            "Ahora intentaré adivinarlo, solo tendré 10 intentos, deseame suerte\n",
            "Intento 1: Será el color rosado?\n",
            "El color no era rosado, trataré otra vez (si puedo)\n",
            "Intento 2: Será el color azul?\n",
            "El color no era azul, trataré otra vez (si puedo)\n",
            "Intento 3: Será el color verde?\n",
            "Pude adivinar tu color en 3 intentos, y el color era verde\n"
          ]
        }
      ]
    },
    {
      "cell_type": "code",
      "source": [
        "#21 Desarrolla un programa que muestre los números pares del 1 al 100.\n",
        "## Para usar reverse y sort, puse la misma lista pero en orden decendente.\n",
        "numeros_pares = [num for num in range(1, 101) if num % 2 == 0]\n",
        "\n",
        "print(\"Lista original de números pares:\", numeros_pares)\n",
        "\n",
        "numeros_pares.sort(reverse=True)\n",
        "print(\"Lista ordenada en orden descendente:\", numeros_pares)"
      ],
      "metadata": {
        "colab": {
          "base_uri": "https://localhost:8080/"
        },
        "id": "hpsOodZlm1Go",
        "outputId": "e075ac25-4784-4ca4-9f20-ef8c2ef3fb4f"
      },
      "execution_count": 6,
      "outputs": [
        {
          "output_type": "stream",
          "name": "stdout",
          "text": [
            "Lista original de números pares: [2, 4, 6, 8, 10, 12, 14, 16, 18, 20, 22, 24, 26, 28, 30, 32, 34, 36, 38, 40, 42, 44, 46, 48, 50, 52, 54, 56, 58, 60, 62, 64, 66, 68, 70, 72, 74, 76, 78, 80, 82, 84, 86, 88, 90, 92, 94, 96, 98, 100]\n",
            "Lista ordenada en orden descendente: [100, 98, 96, 94, 92, 90, 88, 86, 84, 82, 80, 78, 76, 74, 72, 70, 68, 66, 64, 62, 60, 58, 56, 54, 52, 50, 48, 46, 44, 42, 40, 38, 36, 34, 32, 30, 28, 26, 24, 22, 20, 18, 16, 14, 12, 10, 8, 6, 4, 2]\n"
          ]
        }
      ]
    },
    {
      "cell_type": "code",
      "source": [
        "#22 Crea un programa que calcule la suma de los dígitos de un número.\n",
        "n = input(\"Ingrese un número: \")\n",
        "\n",
        "digitos = [int(digito) for digito in n]\n",
        "print(\"Lista de dígitos:\", digitos)\n",
        "\n",
        "suma_digitos = sum(digitos)\n",
        "print(\"Suma de los dígitos:\", suma_digitos)"
      ],
      "metadata": {
        "colab": {
          "base_uri": "https://localhost:8080/"
        },
        "id": "Y9bgj81Mm3M1",
        "outputId": "a5dc78d7-8bd8-4a69-b38e-fcff68b4f9e7"
      },
      "execution_count": 7,
      "outputs": [
        {
          "output_type": "stream",
          "name": "stdout",
          "text": [
            "Ingrese un número: 677\n",
            "Lista de dígitos: [6, 7, 7]\n",
            "Suma de los dígitos: 20\n"
          ]
        }
      ]
    },
    {
      "cell_type": "code",
      "source": [
        "#23 Escribe un programa que determine si un número es primo.\n",
        "numero = int(input(\"Ingrese un número: \"))\n",
        "\n",
        "divisores = [i for i in range(1, numero + 1) if numero % i == 0]\n",
        "print(\"Lista de divisores:\", divisores)\n",
        "\n",
        "primo = len(divisores) == 2\n",
        "print(f\"El número {numero} {'es primo' if primo else 'no es primo'}\")"
      ],
      "metadata": {
        "colab": {
          "base_uri": "https://localhost:8080/"
        },
        "id": "pWqLZRX9m5O5",
        "outputId": "8ec1e126-7332-43ad-db6e-b4cdaf9499fe"
      },
      "execution_count": 8,
      "outputs": [
        {
          "output_type": "stream",
          "name": "stdout",
          "text": [
            "Ingrese un número: 7\n",
            "Lista de divisores: [1, 7]\n",
            "El número 7 es primo\n"
          ]
        }
      ]
    },
    {
      "cell_type": "code",
      "source": [
        "#24 Desarrolla un programa que muestre el patrón de un triángulo con asteriscos.\n",
        "## Suponiendo que es un triángulo rectángulo\n",
        "altura = int(input(\"Ingrese la altura del triángulo: \"))\n",
        "\n",
        "triangulo = ['*' * (i + 1) for i in range(altura)]\n",
        "\n",
        "print(\"\\n\".join(triangulo))"
      ],
      "metadata": {
        "colab": {
          "base_uri": "https://localhost:8080/"
        },
        "id": "cCuGJzw2m7QW",
        "outputId": "f58d06f7-de96-4fd0-959b-03dd633c6d46"
      },
      "execution_count": 9,
      "outputs": [
        {
          "output_type": "stream",
          "name": "stdout",
          "text": [
            "Ingrese la altura del triángulo: 7\n",
            "*\n",
            "**\n",
            "***\n",
            "****\n",
            "*****\n",
            "******\n",
            "*******\n"
          ]
        }
      ]
    },
    {
      "cell_type": "code",
      "source": [
        "#25 Crea un programa que calcule la potencia de un número sin usar el operador **\n",
        "base = int(input(\"Ingrese la base: \"))\n",
        "exponente = int(input(\"Ingrese el exponente: \"))\n",
        "\n",
        "potencia = [base for _ in range(exponente)]\n",
        "resultado = 1\n",
        "for num in potencia:\n",
        "    resultado *= num\n",
        "\n",
        "print(f\"{base} elevado a la {exponente} es: {resultado}\")"
      ],
      "metadata": {
        "colab": {
          "base_uri": "https://localhost:8080/"
        },
        "id": "f3xqGKZXm-Vn",
        "outputId": "3fd5972f-a637-4517-cfd9-84f30da2c8c5"
      },
      "execution_count": 11,
      "outputs": [
        {
          "output_type": "stream",
          "name": "stdout",
          "text": [
            "Ingrese la base: 2\n",
            "Ingrese el exponente: 4\n",
            "2 elevado a la 4 es: 16\n"
          ]
        }
      ]
    }
  ]
}