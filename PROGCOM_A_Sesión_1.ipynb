{
  "nbformat": 4,
  "nbformat_minor": 0,
  "metadata": {
    "colab": {
      "provenance": []
    },
    "kernelspec": {
      "name": "python3",
      "display_name": "Python 3"
    },
    "language_info": {
      "name": "python"
    }
  },
  "cells": [
    {
      "cell_type": "markdown",
      "source": [
        "#Angélica Lucía Picón Pérez\n",
        "##U00181171\n",
        "\n",
        "\n",
        "##estructura if\n",
        "if (condición): la condición debe ser verdadera si se desea que pase algo\n",
        "if TRUE\n",
        "\n",
        "## estructura ternaria del if\n",
        "se cumple la condición *if* condición *else* si no cumple la condición"
      ],
      "metadata": {
        "id": "8bz_e1XjqRCc"
      }
    },
    {
      "cell_type": "code",
      "execution_count": null,
      "metadata": {
        "colab": {
          "base_uri": "https://localhost:8080/"
        },
        "id": "rSzbfAg9nlpc",
        "outputId": "19939ce7-d00a-485d-e627-2106c85d44fe"
      },
      "outputs": [
        {
          "output_type": "stream",
          "name": "stdout",
          "text": [
            "ingrese la base del triángulo:2\n",
            "ingresa la altura del triángulo:3\n",
            "el area del triángulo es: 3.0\n"
          ]
        }
      ],
      "source": [
        "#calcular base de un triángulo\n",
        "base=float(input(\"ingrese la base del triángulo:\"))\n",
        "altura=float(input(\"ingresa la altura del triángulo:\"))\n",
        "print(f\"el area del triángulo es: {base*altura/2}\")"
      ]
    },
    {
      "cell_type": "code",
      "source": [
        "#convierte grados Celsius a Fahrenheit\n",
        "num= int(input(\"ingrese la temperatura en grados Celsius:\"))\n",
        "print(f\"la temperatura en grados Fahrenheit es: {num*+32}\")"
      ],
      "metadata": {
        "colab": {
          "base_uri": "https://localhost:8080/"
        },
        "id": "qwFaFwHpswFz",
        "outputId": "6f1610dc-03b7-4154-fbf9-2b4956648d91"
      },
      "execution_count": null,
      "outputs": [
        {
          "output_type": "stream",
          "name": "stdout",
          "text": [
            "ingrese la temperatura en grados Celsius:56\n",
            "la temperatura en grados Fahrenheit es: 132.8\n"
          ]
        }
      ]
    },
    {
      "cell_type": "code",
      "source": [
        "#Desarrolla un programa que calcule el promedio de tres números ingresados por el usuario.\n",
        "n1=float(input(\"ingrese el primer número:\"))\n",
        "n2=float(input(\"ingrese el segundo número:\"))\n",
        "n3=float(input(\"ingrese el tercer número:\"))\n",
        "print(f\"el promedio de los números es: {(n1+n2+n3)/3}\")"
      ],
      "metadata": {
        "id": "h9Nn2HcytOaV",
        "colab": {
          "base_uri": "https://localhost:8080/"
        },
        "outputId": "a83ca31e-4d7c-47bd-bfd2-542b3a6371e7"
      },
      "execution_count": null,
      "outputs": [
        {
          "output_type": "stream",
          "name": "stdout",
          "text": [
            "ingrese el primer número:1\n",
            "ingrese el segundo número:1\n",
            "ingrese el tercer número:1\n",
            "el promedio de los números es: 1.0\n"
          ]
        }
      ]
    },
    {
      "cell_type": "code",
      "source": [
        "#Escribe un programa que calcule el perímetro y área de un círculo dado su radio.\n",
        "r=float(input(\"ingrese el radio del círculo:\"))\n",
        "print(f\"el perímetro del círculo es: {2*3.1416*r}\")\n",
        "print(f\"el área del círculo es: {3.1416*r**2}\")"
      ],
      "metadata": {
        "colab": {
          "base_uri": "https://localhost:8080/"
        },
        "id": "DJke1WiNuCSS",
        "outputId": "02c4f6bf-b0ca-4f8a-8fcd-1e14e31f6d39"
      },
      "execution_count": null,
      "outputs": [
        {
          "output_type": "stream",
          "name": "stdout",
          "text": [
            "ingrese el radio del círculo:2\n",
            "el perímetro del círculo es: 12.5664\n",
            "el área del círculo es: 12.5664\n"
          ]
        }
      ]
    },
    {
      "cell_type": "code",
      "source": [
        "#Crea un programa que resuelva una ecuación cuadrática (ax² + bx + c = 0) pidiendo los valores de a, b y c.\n",
        "a=float(input(\"ingrese el valor de a:\"))\n",
        "b=float(input(\"ingrese el valor de b:\"))\n",
        "c=float(input(\"ingrese el valor de c:\"))\n",
        "print(f\"la ecuación es: {a}x²+{b}x+{c}=0\")\n",
        "print(f\"la solución de la ecuación es: {(-b+(b**2-4*a*c)**1/2)/(2*a)} y {(-b-(b**2-4*a*c)**1/2)/(2*a)}\")"
      ],
      "metadata": {
        "colab": {
          "base_uri": "https://localhost:8080/"
        },
        "id": "hVwbr35sufTQ",
        "outputId": "725bd443-90dc-48c4-caa8-f8f525a42ead"
      },
      "execution_count": null,
      "outputs": [
        {
          "output_type": "stream",
          "name": "stdout",
          "text": [
            "ingrese el valor de a:2\n",
            "ingrese el valor de b:5\n",
            "ingrese el valor de c:4\n",
            "la ecuación es: 2.0x²+5.0x+4.0=0\n",
            "la solución de la ecuación es: -2.125 y -0.375\n"
          ]
        }
      ]
    },
    {
      "cell_type": "code",
      "source": [
        "#Desarrolla un programa que determine si un número es par o impar.\n",
        "#if normal\n",
        "num=int(input(\"ingrese un número:\"))\n",
        "if num%2==0:\n",
        "    print(f\"{num} es par\")\n",
        "else:\n",
        "    print(f\"{num} es impar\")"
      ],
      "metadata": {
        "id": "J902cSVAu8-v"
      },
      "execution_count": null,
      "outputs": []
    },
    {
      "cell_type": "code",
      "source": [
        "#Desarrolla un programa que determine si un número es par o impar.\n",
        "#if ternario\n",
        "num= int(input(\"ingrese un número:\"))\n",
        "print(f\"{num} es par\") if num%2==0 else (f\"{num} es impar\")"
      ],
      "metadata": {
        "colab": {
          "base_uri": "https://localhost:8080/",
          "height": 52
        },
        "id": "k93ptLMqqQR5",
        "outputId": "b522bfa6-e19a-4026-ca1e-5bfef4fb1b2f"
      },
      "execution_count": null,
      "outputs": [
        {
          "name": "stdout",
          "output_type": "stream",
          "text": [
            "ingrese un número:67\n"
          ]
        },
        {
          "output_type": "execute_result",
          "data": {
            "text/plain": [
              "'67 es impar'"
            ],
            "application/vnd.google.colaboratory.intrinsic+json": {
              "type": "string"
            }
          },
          "metadata": {},
          "execution_count": 6
        }
      ]
    },
    {
      "cell_type": "code",
      "source": [
        "#Crea un programa que determine si un año es bisiesto (divisible por 4 y no por 100, o divisible por 400).\n",
        "#if normal\n",
        "año=int(input(\"ingrese un año:\"))\n",
        "if año%4==0 and año%100!=0:\n",
        "  print(f\"{año} es bisiesto\")\n",
        "else:\n",
        "  print(f\"{año} no es bisiesto\")"
      ],
      "metadata": {
        "colab": {
          "base_uri": "https://localhost:8080/"
        },
        "id": "d8kzT1mtvSYY",
        "outputId": "219e10aa-7e3f-45f4-a934-355b12bc9288"
      },
      "execution_count": null,
      "outputs": [
        {
          "output_type": "stream",
          "name": "stdout",
          "text": [
            "ingrese un año:1980\n",
            "1980 es bisiesto\n"
          ]
        }
      ]
    },
    {
      "cell_type": "code",
      "source": [
        "#Crea un programa que determine si un año es bisiesto (divisible por 4 y no por 100, o divisible por 400).\n",
        "#if ternario\n",
        "año=int(input(\"ingrese un año:\"))\n",
        "print(f\"{año} es bisiesto\") if año%4==0 and año%100!=0 else print(f\"{año} no es bisiesto\")"
      ],
      "metadata": {
        "id": "d77trYulv1nh"
      },
      "execution_count": null,
      "outputs": []
    },
    {
      "cell_type": "code",
      "source": [
        "#Escribe un programa que solicite el nombre del usuario y determine si una persona pertenece a la tercera edad (70 años o más) y si se cumple la condición, imprima que se le da prioridad en la fila.\n",
        "#if normal\n",
        "nom=input(\"ingrese su nombre:\")\n",
        "edad=int(input(\"ingrese su edad:\"))\n",
        "if edad>=70:\n",
        "  print(f\"{nom}, usted se encuentra en la tercera edad y se le da prioridad en la fila.\")\n",
        "else:\n",
        "  print(f\"{nom}, usted no tiene prioridad en la fila, espere en la fila.\")"
      ],
      "metadata": {
        "colab": {
          "base_uri": "https://localhost:8080/"
        },
        "id": "L6t4CrAKwBi8",
        "outputId": "5370eff9-8f33-4187-b950-5c24b3068f25"
      },
      "execution_count": null,
      "outputs": [
        {
          "output_type": "stream",
          "name": "stdout",
          "text": [
            "ingrese su nombre:Ange\n",
            "ingrese su edad:18\n",
            "Ange, usted no tiene prioridad en la fila, espere en la fila\n"
          ]
        }
      ]
    },
    {
      "cell_type": "code",
      "source": [
        "#Escribe un programa que solicite el nombre del usuario y determine si una persona pertenece a la tercera edad (70 años o más) y si se cumple la condición, imprima que se le da prioridad en la fila.\n",
        "#if ternario\n",
        "nom= input(\"ingrese su nombre:\")\n",
        "edad= int(input(\"ingrese su edad:\"))\n",
        "print(f\"{nom}, usted se encuentra en la tercera edad y se le da prioridad en la fila.\") if edad>=70 else print(f\"{nom}, usted no tiene prioridad en la fila, espere en la fila.\")"
      ],
      "metadata": {
        "colab": {
          "base_uri": "https://localhost:8080/"
        },
        "id": "3nEB6VBIwsMV",
        "outputId": "dfa1a5e4-0f22-4c1d-b91d-3fc1099a9cab"
      },
      "execution_count": null,
      "outputs": [
        {
          "output_type": "stream",
          "name": "stdout",
          "text": [
            "ingrese su nombre:Ange\n",
            "ingrese su edad:78\n",
            "Ange, usted se encuentra en la tercera edad y se le da prioridad en la fila.\n"
          ]
        }
      ]
    },
    {
      "cell_type": "code",
      "source": [
        "#Desarrolla un programa que compare tres números y muestre el mayor.\n",
        "#if normal\n",
        "n1=float(input(\"ingrese el primer número:\"))\n",
        "n2=float(input(\"ingrese el segundo número:\"))\n",
        "n3=float(input(\"ingrese el tercer número:\"))\n",
        "if n1>n2 and n2>n3:\n",
        "  print(f\"el número mayor es: {n1}\")\n",
        "else:\n",
        "  if n2>n1 and n2>n3:\n",
        "    print(f\"el número mayor es: {n2}\")\n",
        "  else:\n",
        "    print(f\"el número mayor es: {n3}\")"
      ],
      "metadata": {
        "colab": {
          "base_uri": "https://localhost:8080/"
        },
        "id": "Dkm4cmRIxIEe",
        "outputId": "4e04d959-da61-49c3-9ef7-f6c93af16cf0"
      },
      "execution_count": null,
      "outputs": [
        {
          "output_type": "stream",
          "name": "stdout",
          "text": [
            "ingrese el primer número:2\n",
            "ingrese el segundo número:3\n",
            "ingrese el tercer número:4\n",
            "el número mayor es: 4.0\n"
          ]
        }
      ]
    },
    {
      "cell_type": "code",
      "source": [
        "#Desarrolla un programa que compare tres números y muestre el mayor.\n",
        "#if ternario\n",
        "n1=float(input(\"ingrese el primer número:\"))\n",
        "n2=float(input(\"ingrese el segundo número:\"))\n",
        "n3=float(input(\"ingrese el tercer número:\"))\n",
        "print(f\"el número mayor es: {n1}\") if n1>n2 and n2>n3 else print(f\"el número mayor es: {n2}\") if n2>n1 and n2>n3 else print(f\"el número mayor es: {n3}\")"
      ],
      "metadata": {
        "colab": {
          "base_uri": "https://localhost:8080/"
        },
        "id": "B7AUHdwFxz4H",
        "outputId": "33724219-5aa9-46ed-9e6e-e2294333bcc7"
      },
      "execution_count": null,
      "outputs": [
        {
          "output_type": "stream",
          "name": "stdout",
          "text": [
            "ingrese el primer número:3\n",
            "ingrese el segundo número:5\n",
            "ingrese el tercer número:4\n",
            "el número mayor es: 5.0\n"
          ]
        }
      ]
    },
    {
      "cell_type": "code",
      "source": [
        "#Crea un programa que determine si un triángulo es equilátero, isósceles o escaleno según sus lados.\n",
        "#if normal\n",
        "l1=float(input(\"ingrese el primer lado del triángulo:\"))\n",
        "l2=float(input(\"ingrese el segundo lado del triángulo:\"))\n",
        "l3=float(input(\"ingrese el tercer lado del triángulo:\"))\n",
        "if l1==l2 and l2==l3:\n",
        "  print(\"el triángulo es equilátero\")\n",
        "else:\n",
        "  if l1==l2 or l2==l3 or l1==l3:\n",
        "    print(\"el triángulo es isósceles\")\n",
        "  else:\n",
        "    print(\"el triángulo es escaleno\")"
      ],
      "metadata": {
        "colab": {
          "base_uri": "https://localhost:8080/"
        },
        "id": "ztgHmENzyLpD",
        "outputId": "1b5850cc-35f5-4280-f948-819f09a63e5d"
      },
      "execution_count": null,
      "outputs": [
        {
          "output_type": "stream",
          "name": "stdout",
          "text": [
            "ingrese el primer lado del triángulo:3\n",
            "ingrese el segundo lado del triángulo:4\n",
            "ingrese el tercer lado del triángulo:5\n",
            "el triángulo es escaleno\n"
          ]
        }
      ]
    },
    {
      "cell_type": "code",
      "source": [
        "#Crea un programa que determine si un triángulo es equilátero, isósceles o escaleno según sus lados.\n",
        "#if ternario\n",
        "l1=float(input(\"ingrese el primer lado del triángulo:\"))\n",
        "l2=float(input(\"ingrese el segundo lado del triángulo:\"))\n",
        "l3=float(input(\"ingrese el tercer lado del triángulo:\"))\n",
        "print(\"el triángulo es equilátero\") if l1==l2 and l2==l3 else print(\"el triángulo es isósceles\") if l1==l2 or l2==l3 or l1==l3 else print(\"el triángulo es escaleno\")"
      ],
      "metadata": {
        "colab": {
          "base_uri": "https://localhost:8080/"
        },
        "id": "NwlYkElxyWTS",
        "outputId": "6dfd0763-989b-4ea8-e4dd-b99bc59abecb"
      },
      "execution_count": null,
      "outputs": [
        {
          "output_type": "stream",
          "name": "stdout",
          "text": [
            "ingrese el primer lado del triángulo:4\n",
            "ingrese el segundo lado del triángulo:5\n",
            "ingrese el tercer lado del triángulo:5\n",
            "el triángulo es isósceles\n"
          ]
        }
      ]
    }
  ]
}