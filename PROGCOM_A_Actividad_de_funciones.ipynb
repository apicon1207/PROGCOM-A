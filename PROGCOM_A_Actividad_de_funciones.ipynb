{
  "nbformat": 4,
  "nbformat_minor": 0,
  "metadata": {
    "colab": {
      "provenance": []
    },
    "kernelspec": {
      "name": "python3",
      "display_name": "Python 3"
    },
    "language_info": {
      "name": "python"
    }
  },
  "cells": [
    {
      "cell_type": "markdown",
      "source": [
        "Crea un programa que resuelva una ecuación cuadrática (ax² + bx + c = 0) pidiendo los valores de a, b y c.\n",
        "\n",
        "Desarrolla un programa que determine si un número es par o impar.\n",
        "\n",
        "Crea un programa que determine si un año es bisiesto (divisible por 4 y no por 100, o divisible por 400).\n",
        "\n",
        "Escribe un programa que solicite el nombre del usuario y determine si una persona pertenece a la tercera edad (70 años o más) y si se cumple la condición, imprima que se le da prioridad en la fila.\n",
        "\n",
        "Desarrolla un programa que compare tres números y muestre el mayor.\n",
        "\n",
        "Crea un programa que determine si un triángulo es equilátero, isósceles o escaleno según sus lados.\n",
        "\n",
        "Escribe un programa que calcule el índice de masa corporal (IMC) y determine la categoría (bajo peso, normal, sobrepeso, obesidad). Al final, el programa debe imprimir: el nombre del usuario, su categoría y una breve descripción de lo que debe hacer de acuerdo a su categoría.\n",
        "\n",
        "Desarrolla un programa que simule una calculadora simple (+, -, *, /) con dos números.\n",
        "\n",
        "Crea un programa que determine la calificación en letras (A, B, C, D, F) según una nota numérica (0-100).\n",
        "\n",
        "Escribe un programa que determine el día de la semana según un número (1-7).\n",
        "\n",
        "Desarrolla un programa que valide si tres números pueden formar un triángulo y de qué tipo es.\n",
        "\n",
        "Crea un programa que muestre la tabla de multiplicar de un número hasta el 10.\n",
        "\n",
        "Escribe un programa que calcule la suma de números naturales hasta n.\n",
        "\n",
        "Desarrolla un programa que calcule el factorial de un número. Recuerda que el factorial de 0 es 1 y no existen factoriales negativos.\n",
        "\n",
        "Crea un programa que muestre los primeros n números de la serie Fibonacci.\n",
        "\n",
        "Escribe un programa que adivine entre un conjunto de diez colores definidos por el usuario, con un máximo de 10 intentos."
      ],
      "metadata": {
        "id": "nexPqM8eGT4T"
      }
    },
    {
      "cell_type": "code",
      "source": [
        "# 5 Crea un programa que resuelva una ecuación cuadrática (ax² + bx + c = 0) pidiendo los valores de a, b y c.\n",
        "\n",
        "def ecuacion():\n",
        "  a=float(input(\"ingrese el valor de a:\"))\n",
        "  b=float(input(\"ingrese el valor de b:\"))\n",
        "  c=float(input(\"ingrese el valor de c:\"))\n",
        "  print(f\"la ecuación es: {a}x²+{b}x+{c}=0\")\n",
        "  print(f\"la solución de la ecuación es: {(-b+(b**2-4*a*c)**1/2)/(2*a)} y {(-b-(b**2-4*a*c)**1/2)/(2*a)}\")"
      ],
      "metadata": {
        "id": "9oT_r_lxRSEL"
      },
      "execution_count": 51,
      "outputs": []
    },
    {
      "cell_type": "code",
      "source": [
        "ecuacion()"
      ],
      "metadata": {
        "colab": {
          "base_uri": "https://localhost:8080/"
        },
        "id": "sLENXw4cRufp",
        "outputId": "235cef11-db54-4250-8e8a-2be3fe16a51c"
      },
      "execution_count": 53,
      "outputs": [
        {
          "output_type": "stream",
          "name": "stdout",
          "text": [
            "ingrese el valor de a:2\n",
            "ingrese el valor de b:3\n",
            "ingrese el valor de c:5\n",
            "la ecuación es: 2.0x²+3.0x+5.0=0\n",
            "la solución de la ecuación es: -4.625 y 3.125\n"
          ]
        }
      ]
    },
    {
      "cell_type": "code",
      "source": [
        "# 6 Desarrolla un programa que determine si un número es par o impar.\n",
        "\n",
        "def par_impar():\n",
        "  num= int(input(\"Ingrese un número.\"))\n",
        "  if num%2==0:\n",
        "    print(f\"{num} es par\")\n",
        "  else:\n",
        "    print(f\"{num} es impar\")"
      ],
      "metadata": {
        "id": "fJ9vfWyUQ6eq"
      },
      "execution_count": 49,
      "outputs": []
    },
    {
      "cell_type": "code",
      "source": [
        "par_impar()"
      ],
      "metadata": {
        "colab": {
          "base_uri": "https://localhost:8080/"
        },
        "id": "FgAu1b0pRNUS",
        "outputId": "da766eb0-26c0-4cbc-90c3-6ec43afde7fe"
      },
      "execution_count": 50,
      "outputs": [
        {
          "output_type": "stream",
          "name": "stdout",
          "text": [
            "Ingrese un número.5\n",
            "5 es impar\n"
          ]
        }
      ]
    },
    {
      "cell_type": "code",
      "source": [
        "# 7 Crea un programa que determine si un año es bisiesto (divisible por 4 y no por 100, o divisible por 400).\n",
        "\n",
        "def año():\n",
        "  año= int(input(\"Ingrese un año.\"))\n",
        "  return año\n",
        "\n",
        "def bisiesto(año):\n",
        "  match año%4:\n",
        "    case 0:\n",
        "      print(f\"{año} es bisiesto\")\n",
        "    case _:\n",
        "      print(f\"{año} no es bisiesto\")"
      ],
      "metadata": {
        "id": "uzZCCvaJQYqb"
      },
      "execution_count": 46,
      "outputs": []
    },
    {
      "cell_type": "code",
      "source": [
        "año= año()\n",
        "bisiesto(año)"
      ],
      "metadata": {
        "colab": {
          "base_uri": "https://localhost:8080/"
        },
        "id": "BuKxlMb-Qiu6",
        "outputId": "eb08d4a4-e1db-4070-ec5b-a831b0a75d23"
      },
      "execution_count": 48,
      "outputs": [
        {
          "output_type": "stream",
          "name": "stdout",
          "text": [
            "Ingrese un año.1890\n",
            "1890 no es bisiesto\n"
          ]
        }
      ]
    },
    {
      "cell_type": "code",
      "source": [
        "# 8 Escribe un programa que solicite el nombre del usuario y determine si una persona pertenece a la tercera edad (70 años o más) y si se cumple la condición, imprima que se le da prioridad en la fila.\n",
        "\n",
        "def data():\n",
        "  nom= input(\"Ingrese su nombre \")\n",
        "  edad= int(input(\"Ingrese su edad \"))\n",
        "  return nom, edad\n",
        "\n",
        "def prioridad(nom, edad):\n",
        "  if edad>=70:\n",
        "    print(f\"{nom} usted tiene prioridad en la fila\")\n",
        "  else:\n",
        "    print(f\"{nom} no tiene prioridad en la fila, espere\")"
      ],
      "metadata": {
        "id": "3HOcAzv5QC7T"
      },
      "execution_count": 41,
      "outputs": []
    },
    {
      "cell_type": "code",
      "source": [
        "nom, edad = data()\n",
        "prioridad(nom, edad)"
      ],
      "metadata": {
        "colab": {
          "base_uri": "https://localhost:8080/"
        },
        "id": "WLUfnGKeQT0i",
        "outputId": "af50c600-5dd5-4b85-cd18-6db5002bb3f6"
      },
      "execution_count": 42,
      "outputs": [
        {
          "output_type": "stream",
          "name": "stdout",
          "text": [
            "Ingrese su nombre Estelia\n",
            "Ingrese su edad 50\n",
            "Estelia no tiene prioridad en la fila, espere\n"
          ]
        }
      ]
    },
    {
      "cell_type": "code",
      "source": [
        "# 9 Desarrolla un programa que compare tres números y muestre el mayor.\n",
        "\n",
        "def num():\n",
        "  n1= int(input(\"Ingrese el primer número.\"))\n",
        "  n2= int(input(\"Ingrese el segundo número.\"))\n",
        "  n3= int(input(\"Ingrese el tercer número.\"))\n",
        "  return n1, n2, n3\n",
        "\n",
        "def opciones(n1, n2, n3):\n",
        "  if n1>n2 and n1>n3:\n",
        "    print(f\"{n1} es el número mayor\")\n",
        "  elif n2>n1 and n2>n3:\n",
        "    print(f\"{n2} es el número mayor\")\n",
        "  elif n3>n1 and n3>n2:\n",
        "    print(f\"{n3} es el número mayor\")\n",
        "  elif n1==n2 and n2<n3:\n",
        "    print(f\"{n1} y {n2} son iguales y el mayor es {n3}\")\n",
        "  elif n1==n3 and n3<n2:\n",
        "    print(f\"{n1} y {n3} son iguales y el mayor es {n2}\")\n",
        "  elif n2==n3 and n3<n1:\n",
        "    print(f\"{n2} y {n3} son iguales y el mayor es {n1}\")\n",
        "  elif n1==n2 and n2>n3:\n",
        "    print(f\"{n1} y {n2} son iguales, el número mayor es {n1} y el menor {n3}\")\n",
        "  elif n1==n3 and n3>n2:\n",
        "    print(f\"{n1} y {n3} son iguales, el número mayor es {n1} y el menor {n2}\")\n",
        "  elif n2==n3 and n3>n1:\n",
        "    print(f\"{n2} y {n3} son iguales, el número mayor es {n2} y el menor {n1}\")\n",
        "  else:\n",
        "    print(\"Todos los números son iguales\")"
      ],
      "metadata": {
        "id": "z3atOz2nPe6L"
      },
      "execution_count": 38,
      "outputs": []
    },
    {
      "cell_type": "code",
      "source": [
        "n1, n2, n3 = num()\n",
        "opciones(n1, n2, n3)"
      ],
      "metadata": {
        "colab": {
          "base_uri": "https://localhost:8080/"
        },
        "id": "oHNCz8K3P-tF",
        "outputId": "78bcc4b7-bfdf-42a3-fadf-d83ba9880da9"
      },
      "execution_count": 40,
      "outputs": [
        {
          "output_type": "stream",
          "name": "stdout",
          "text": [
            "Ingrese el primer número.3\n",
            "Ingrese el segundo número.2\n",
            "Ingrese el tercer número.1\n",
            "3 es el número mayor\n"
          ]
        }
      ]
    },
    {
      "cell_type": "code",
      "source": [
        "# 10 Crea un programa que determine si un triángulo es equilátero, isósceles o escaleno según sus lados.\n",
        "\n",
        "def lados():\n",
        "  l1= int(input(\"Ingrese el primer lado.\"))\n",
        "  l2= int(input(\"Ingrese el segundo lado.\"))\n",
        "  l3= int(input(\"Ingrese el tercer lado.\"))\n",
        "  return l1, l2, l3\n",
        "\n",
        "def triangulo(l1,l2,l3):\n",
        "  if l1==l2 and l2==l3:\n",
        "    print(\"El triángulo es equilátero\")\n",
        "  elif l1 != l2 and l2 != l3 and l1 != l3:\n",
        "    print(\"El triángulo es escaleno\")\n",
        "  else:\n",
        "    print(\"El triángulo es isósceles\")"
      ],
      "metadata": {
        "id": "SHCYUaiLOmm2"
      },
      "execution_count": 35,
      "outputs": []
    },
    {
      "cell_type": "code",
      "source": [
        "l1, l2, l3 = lados()\n",
        "triangulo(l1, l2, l3)"
      ],
      "metadata": {
        "colab": {
          "base_uri": "https://localhost:8080/"
        },
        "id": "Vfk853mHPN2r",
        "outputId": "19ddb5c4-2341-4b23-fa84-d17c19cd153d"
      },
      "execution_count": 37,
      "outputs": [
        {
          "output_type": "stream",
          "name": "stdout",
          "text": [
            "Ingrese el primer lado.3\n",
            "Ingrese el segundo lado.3\n",
            "Ingrese el tercer lado.3\n",
            "El triángulo es equilátero\n"
          ]
        }
      ]
    },
    {
      "cell_type": "code",
      "source": [
        "# 11 Escribe un programa que calcule el índice de masa corporal (IMC) y determine la categoría (bajo peso, normal, sobrepeso, obesidad). Al final, el programa debe imprimir: el nombre del usuario, su categoría y una breve descripción de lo que debe hacer de acuerdo a su categoría.\n",
        "\n",
        "\n",
        "def datos():\n",
        "  nombre= input(\"Ingrese su nombre: \")\n",
        "  peso= float(input(\"Ingrese su peso en kg: \"))\n",
        "  estatura= float(input(\"Ingrese su estatura en metros: \"))\n",
        "\n",
        "  IMC= peso/(estatura**2)\n",
        "  return nombre, peso, estatura, IMC\n",
        "\n",
        "def categorias(IMC):\n",
        "  categorias= [\"bajo peso\", \"normal\", \"sobrepeso\", \"obesidad\"]\n",
        "  rango= [18.5, 24.9, 29.9, float('inf')]\n",
        "\n",
        "  for i in range(len(categorias)):\n",
        "    if IMC < rango[i]:\n",
        "      categoria = categorias[i]\n",
        "      break\n",
        "  return categoria\n",
        "\n",
        "def recomendaciones(nombre, IMC, categoria):\n",
        "  recomendaciones = {\"bajo peso\": \"Le recomendamos consultar un nutricionista que le ayude a subir de peso de manera saludable.\", \"normal\": \"¡Felicidades!, usted está en su peso ideal.\", \"sobrepeso\": \"Le recomendamos aumentar actividad física y disminuir consumo de calorías.\", \"obesidad\": \"Le recomendamos consultar un especialista en salud que le ayude a bajar de peso.\"}\n",
        "\n",
        "  print(f\"{nombre}, su IMC es de {IMC}, está en la categoria: {categoria}.\")\n",
        "  print(recomendaciones[categoria])"
      ],
      "metadata": {
        "id": "sTqJCoM4NzaE"
      },
      "execution_count": 33,
      "outputs": []
    },
    {
      "cell_type": "code",
      "source": [
        "nombre, peso, estatura, IMC = datos()\n",
        "categoria = categorias(IMC)\n",
        "recomendaciones(nombre, IMC, categoria)"
      ],
      "metadata": {
        "colab": {
          "base_uri": "https://localhost:8080/"
        },
        "id": "rWHk26nWOZfL",
        "outputId": "719bb69e-f6d1-4834-c609-1d0d3e96f35b"
      },
      "execution_count": 34,
      "outputs": [
        {
          "output_type": "stream",
          "name": "stdout",
          "text": [
            "Ingrese su nombre: Angélica\n",
            "Ingrese su peso en kg: 62\n",
            "Ingrese su estatura en metros: 1.66\n",
            "Angélica, su IMC es de 22.49963710262738, está en la categoria: normal.\n",
            "¡Felicidades!, usted está en su peso ideal.\n"
          ]
        }
      ]
    },
    {
      "cell_type": "code",
      "source": [
        "# 12 Desarrolla un programa que simule una calculadora simple (+, -, *, /) con dos números.\n",
        "\n",
        "def numeros():\n",
        "  n1= float(input(\"Ingrese el primer numero: \"))\n",
        "  n2= float(input(\"Ingrese el segundo numero: \"))\n",
        "  return n1, n2\n",
        "\n",
        "def calculadora(n1,n2):\n",
        "  operaciones= [\"suma\", \"resta\", \"multiplicacion\", \"division\"]\n",
        "  i= 0\n",
        "\n",
        "  while i < len(operaciones):\n",
        "    if i == 0:\n",
        "      print(f\"{n1} + {n2} = {n1+n2}\")\n",
        "    elif i == 1:\n",
        "      print(f\"{n1} - {n2} = {n1-n2}\")\n",
        "    elif i == 2:\n",
        "      print(f\"{n1} * {n2} = {n1*n2}\")\n",
        "    else:\n",
        "      print(f\"{n1} / {n2} = {n1/n2}\")\n",
        "    i= i + 1"
      ],
      "metadata": {
        "id": "-WZyK8zPM8O1"
      },
      "execution_count": 31,
      "outputs": []
    },
    {
      "cell_type": "code",
      "source": [
        "n1, n2 = numeros()\n",
        "calculadora(n1,n2)"
      ],
      "metadata": {
        "colab": {
          "base_uri": "https://localhost:8080/"
        },
        "id": "nIvDuUQ-NYJG",
        "outputId": "1dcf0ff3-fdd1-4e5c-f359-5377711900f9"
      },
      "execution_count": 32,
      "outputs": [
        {
          "output_type": "stream",
          "name": "stdout",
          "text": [
            "Ingrese el primer numero: 2\n",
            "Ingrese el segundo numero: 4\n",
            "2.0 + 4.0 = 6.0\n",
            "2.0 - 4.0 = -2.0\n",
            "2.0 * 4.0 = 8.0\n",
            "2.0 / 4.0 = 0.5\n"
          ]
        }
      ]
    },
    {
      "cell_type": "code",
      "source": [
        "# 13 Crea un programa que determine la calificación en letras (A, B, C, D, F) según una nota numérica (0-100).\n",
        "\n",
        "def calificacion():\n",
        "  nota= int(input(\"Ingrese su nota(0-100): \"))\n",
        "  calificaciones= [\"A\", \"B\", \"C\", \"D\", \"F\"]\n",
        "  rango= [80, 70, 50, 20, 0]\n",
        "  return nota, calificaciones, rango\n",
        "\n",
        "def nota_calificacion(nota, calificaciones, rango):\n",
        "  for i in range(len(calificaciones)):\n",
        "    if nota >= rango[i]:\n",
        "      calificacion = calificaciones[i]\n",
        "      break\n",
        "\n",
        "  print(f\"Su calificacion es: {calificacion}\")"
      ],
      "metadata": {
        "id": "E2fzP24iMd53"
      },
      "execution_count": 26,
      "outputs": []
    },
    {
      "cell_type": "code",
      "source": [
        "nota, calificaciones, rango = calificacion()\n",
        "nota_calificacion(nota, calificaciones, rango)"
      ],
      "metadata": {
        "colab": {
          "base_uri": "https://localhost:8080/"
        },
        "id": "b0Ce28KsM3Al",
        "outputId": "7931261a-01ea-46af-8b9b-1207b144dc88"
      },
      "execution_count": 27,
      "outputs": [
        {
          "output_type": "stream",
          "name": "stdout",
          "text": [
            "Ingrese su nota(0-100): 89\n",
            "Su calificacion es: A\n"
          ]
        }
      ]
    },
    {
      "cell_type": "code",
      "source": [
        "# 14 Escribe un programa que determine el día de la semana según un número (1-7).\n",
        "\n",
        "def numero_semana():\n",
        "  numero= int(input(\"Ingrese un numero del 1 al 7: \"))\n",
        "  dias= [\"Lunes \\U0001F62C\", \"Martes\", \"Miercoles\", \"Jueves\", \"Viernes \\U0001F929\", \"Sabado \\U0001F929\", \"Domingo \\U0001F929\"]\n",
        "  return numero, dias\n",
        "\n",
        "def dia_semana(numero, dias):\n",
        "  i= 0\n",
        "  while i < len(dias):\n",
        "    if numero == i + 1:\n",
        "      dia = dias[i]\n",
        "      break\n",
        "    i= i + 1\n",
        "  print(f\"El dia de la semana es: {dia}\")"
      ],
      "metadata": {
        "id": "8YJ19fxqL-ug"
      },
      "execution_count": 24,
      "outputs": []
    },
    {
      "cell_type": "code",
      "source": [
        "numero, dias = numero_semana()\n",
        "dia_semana(numero, dias)"
      ],
      "metadata": {
        "colab": {
          "base_uri": "https://localhost:8080/"
        },
        "id": "Y1X7os95MYnt",
        "outputId": "76a9a04f-9886-4645-8c09-d8f55a58b1b0"
      },
      "execution_count": 25,
      "outputs": [
        {
          "output_type": "stream",
          "name": "stdout",
          "text": [
            "Ingrese un numero del 1 al 7: 5\n",
            "El dia de la semana es: Viernes 🤩\n"
          ]
        }
      ]
    },
    {
      "cell_type": "code",
      "source": [
        "# 15 Desarrolla un programa que valide si tres números pueden formar un triángulo y de qué tipo es.\n",
        "\n",
        "def numeros_usuario():\n",
        "  n1= int(input(\"Ingrese el primer numero: \"))\n",
        "  n2= int(input(\"Ingrese el segundo numero: \"))\n",
        "  n3= int(input(\"Ingrese el tercer numero: \"))\n",
        "\n",
        "  triangulos= [\"Equilatero\", \"Isosceles\", \"Escaleno\"]\n",
        "  return n1, n2, n3, triangulos\n",
        "\n",
        "def tipo_triangulo(n1,n2,n3,triangulos):\n",
        "  if n1+ n2 > n3 and n1+ n3 > n2 and n2+ n3 > n1:\n",
        "    for i in range(len(triangulos)):\n",
        "      if n1 == n2 == n3:\n",
        "        triangulo = triangulos[0]\n",
        "      elif n1 == n2 or n1 == n3 or n2 == n3:\n",
        "        triangulo = triangulos[1]\n",
        "      else:\n",
        "        triangulo = triangulos[2]\n",
        "    print(f\"Los números si pueden formar un triángulo y su tipo es: {triangulo}\")\n",
        "\n",
        "  else:\n",
        "    print(f\"Los números no forman un triángulo\")"
      ],
      "metadata": {
        "id": "mj09CFJtLU7G"
      },
      "execution_count": 22,
      "outputs": []
    },
    {
      "cell_type": "code",
      "source": [
        "n1,n2,n3,triangulos = numeros_usuario()\n",
        "tipo_triangulo(n1,n2,n3,triangulos)"
      ],
      "metadata": {
        "colab": {
          "base_uri": "https://localhost:8080/"
        },
        "id": "_0ZcqrRwL0N-",
        "outputId": "ae943108-7dae-4f20-f56e-818e96f9a16d"
      },
      "execution_count": 23,
      "outputs": [
        {
          "output_type": "stream",
          "name": "stdout",
          "text": [
            "Ingrese el primer numero: 4\n",
            "Ingrese el segundo numero: 3\n",
            "Ingrese el tercer numero: 3\n",
            "Los números si pueden formar un triángulo y su tipo es: Isosceles\n"
          ]
        }
      ]
    },
    {
      "cell_type": "code",
      "source": [
        "# 16 Crea un programa que muestre la tabla de multiplicar de un número hasta el 10.\n",
        "\n",
        "def tabla_multiplicar():\n",
        "  y=int(input(\"Ingrese un numero\\U0001F600: \"))\n",
        "  for num in range(1,11):\n",
        "    print(f\"{y}*{num}={y*num}\")"
      ],
      "metadata": {
        "id": "dfutNJNFLArO"
      },
      "execution_count": 19,
      "outputs": []
    },
    {
      "cell_type": "code",
      "source": [
        "tabla_multiplicar()"
      ],
      "metadata": {
        "colab": {
          "base_uri": "https://localhost:8080/"
        },
        "id": "aRllBmItLPgf",
        "outputId": "43e18552-3dd7-4983-82a9-efc8501dafe8"
      },
      "execution_count": 20,
      "outputs": [
        {
          "output_type": "stream",
          "name": "stdout",
          "text": [
            "Ingrese un numero😀: 4\n",
            "4*1=4\n",
            "4*2=8\n",
            "4*3=12\n",
            "4*4=16\n",
            "4*5=20\n",
            "4*6=24\n",
            "4*7=28\n",
            "4*8=32\n",
            "4*9=36\n",
            "4*10=40\n"
          ]
        }
      ]
    },
    {
      "cell_type": "code",
      "source": [
        "# 17 Escribe un programa que calcule la suma de números naturales hasta n.\n",
        "\n",
        "def suma_naturales():\n",
        "  n = int(input(\"Ingrese un número: \"))\n",
        "  suma= 0\n",
        "  return n, suma\n",
        "\n",
        "def calculo(n, suma):\n",
        "  i= 1\n",
        "  while i<= n:\n",
        "    suma= suma + i\n",
        "    i= i + 1\n",
        "\n",
        "  print(f\"La suma de los números naturales desde 1 hasta {n} es: {suma}\")"
      ],
      "metadata": {
        "id": "F-unPZq0KV4_"
      },
      "execution_count": 17,
      "outputs": []
    },
    {
      "cell_type": "code",
      "source": [
        "n, suma = suma_naturales()\n",
        "calculo(n,suma)"
      ],
      "metadata": {
        "colab": {
          "base_uri": "https://localhost:8080/"
        },
        "id": "mcwbPlkhK533",
        "outputId": "c751270c-4ea4-414c-90cb-981314ad1bcb"
      },
      "execution_count": 18,
      "outputs": [
        {
          "output_type": "stream",
          "name": "stdout",
          "text": [
            "Ingrese un número: 4\n",
            "La suma de los números naturales desde 1 hasta 4 es: 10\n"
          ]
        }
      ]
    },
    {
      "cell_type": "code",
      "source": [
        "# 18 Desarrolla un programa que calcule el factorial de un número. Recuerda que el factorial de 0 es 1 y no existen factoriales negativos.\n",
        "\n",
        "def factorial():\n",
        "  x= int(input(\"Ingrese un número: \"))\n",
        "  return x\n",
        "\n",
        "def calcular_factorial(x):\n",
        "  factorial = 1\n",
        "\n",
        "  for i in range(1, x + 1):\n",
        "    factorial = factorial * i\n",
        "\n",
        "  print(f\"El factorial de {x} es: {factorial}\")"
      ],
      "metadata": {
        "id": "FGPEPBaxJ83n"
      },
      "execution_count": 14,
      "outputs": []
    },
    {
      "cell_type": "code",
      "source": [
        "x= factorial()\n",
        "calcular_factorial(x)"
      ],
      "metadata": {
        "colab": {
          "base_uri": "https://localhost:8080/"
        },
        "id": "G4pjfBnBKQiW",
        "outputId": "7e8adb95-e0dd-444b-f041-4357c987a2be"
      },
      "execution_count": 15,
      "outputs": [
        {
          "output_type": "stream",
          "name": "stdout",
          "text": [
            "Ingrese un número: 4\n",
            "El factorial de 4 es: 24\n"
          ]
        }
      ]
    },
    {
      "cell_type": "code",
      "source": [
        "# 19 Crea un programa que muestre los primeros n números de la serie Fibonacci.\n",
        "\n",
        "def numeros_fibonacci():\n",
        "  n= int(input(\"Ingrese la cantidad de números de la serie Fibonacci que desea ver: \"))\n",
        "  a, b = 0, 1\n",
        "  return n, a, b\n",
        "\n",
        "def fibonacci(n,a,b):\n",
        "  for i in range(n):\n",
        "    print(a)\n",
        "    a, b = b, a + b"
      ],
      "metadata": {
        "id": "MF4wGoGfJQTI"
      },
      "execution_count": 12,
      "outputs": []
    },
    {
      "cell_type": "code",
      "source": [
        "n,a,b = numeros_fibonacci()\n",
        "fibonacci(n,a,b)"
      ],
      "metadata": {
        "colab": {
          "base_uri": "https://localhost:8080/"
        },
        "id": "tpWf0N6GJsMP",
        "outputId": "2024051d-4795-490c-8e79-feec53b4814d"
      },
      "execution_count": 13,
      "outputs": [
        {
          "output_type": "stream",
          "name": "stdout",
          "text": [
            "Ingrese la cantidad de números de la serie Fibonacci que desea ver: 4\n",
            "0\n",
            "1\n",
            "1\n",
            "2\n"
          ]
        }
      ]
    },
    {
      "cell_type": "code",
      "execution_count": 6,
      "metadata": {
        "id": "QiNOhB0rGR8B"
      },
      "outputs": [],
      "source": [
        "# 20 Escribe un programa que adivine entre un conjunto de diez colores definidos por el usuario, con un máximo de 10 intentos.\n",
        "\n",
        "def adivinar_color():\n",
        "\n",
        "  print (\"Ingresa 10 colores ;): \")\n",
        "  colores = [input(\"Color: \") for i in range(10)]\n",
        "\n",
        "  color_usuario = input(\"Elige un color secreto: \")\n",
        "  print(\"Ahora intentaré adivinarlo, solo tendré 10 intentos, deseame suerte\")\n",
        "  return colores, color_usuario\n",
        "\n",
        "def intentos(colores, color_usuario):\n",
        "\n",
        "  import random\n",
        "\n",
        "  i= 1\n",
        "\n",
        "  while i <= 10:\n",
        "    intento_adivinar= random.choice(colores)\n",
        "    print(f\"intento {i}: Será el color {intento_adivinar}?\")\n",
        "\n",
        "    if intento_adivinar == color_usuario:\n",
        "      print(f\"Pude adivinar tu color en {i} intentos, y el color era el {intento_adivinar}\")\n",
        "      break\n",
        "\n",
        "    else:\n",
        "      print(f\"El color no era {intento_adivinar}, trataré otra vez (si puedo)\")\n",
        "      colores.remove(intento_adivinar)\n",
        "      i= i + 1\n",
        "\n",
        "  else:\n",
        "    print(f\"No pude adivinar tu color, el color era {color_usuario}\")"
      ]
    },
    {
      "cell_type": "code",
      "source": [
        "a, b = adivinar_color()\n",
        "intentos(a,b)"
      ],
      "metadata": {
        "colab": {
          "base_uri": "https://localhost:8080/"
        },
        "id": "nww4bHOSIOYc",
        "outputId": "39ce18f3-18d8-4056-e0e5-521eebd0b656"
      },
      "execution_count": 9,
      "outputs": [
        {
          "output_type": "stream",
          "name": "stdout",
          "text": [
            "Ingresa 10 colores ;): \n",
            "Color: verde\n",
            "Color: azul\n",
            "Color: rojo\n",
            "Color: rosa\n",
            "Color: morado\n",
            "Color: militar\n",
            "Color: negro\n",
            "Color: blanco\n",
            "Color: amarillo\n",
            "Color: naranja\n",
            "Elige un color secreto: rojo\n",
            "Ahora intentaré adivinarlo, solo tendré 10 intentos, deseame suerte\n",
            "intento 1: Será el color amarillo?\n",
            "El color no era amarillo, trataré otra vez (si puedo)\n",
            "intento 2: Será el color naranja?\n",
            "El color no era naranja, trataré otra vez (si puedo)\n",
            "intento 3: Será el color azul?\n",
            "El color no era azul, trataré otra vez (si puedo)\n",
            "intento 4: Será el color morado?\n",
            "El color no era morado, trataré otra vez (si puedo)\n",
            "intento 5: Será el color negro?\n",
            "El color no era negro, trataré otra vez (si puedo)\n",
            "intento 6: Será el color blanco?\n",
            "El color no era blanco, trataré otra vez (si puedo)\n",
            "intento 7: Será el color rojo?\n",
            "Pude adivinar tu color en 7 intentos, y el color era el rojo\n"
          ]
        }
      ]
    }
  ]
}