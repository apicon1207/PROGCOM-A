{
  "nbformat": 4,
  "nbformat_minor": 0,
  "metadata": {
    "colab": {
      "provenance": []
    },
    "kernelspec": {
      "name": "python3",
      "display_name": "Python 3"
    },
    "language_info": {
      "name": "python"
    }
  },
  "cells": [
    {
      "cell_type": "markdown",
      "source": [
        "#Funciones lambda o anónimas\n",
        "- Declaran funciones pequeñas, sencillas y de acceso rápido.\n",
        "- Puede contener sólo **UNA** expresión, por lo que no son las más adecuadas para que funcione con instrucciones de flujo.\n",
        "- LAS FUNCIONES LAMBDA PUEDEN TENER N NÚMERO DE ARGUMENTOS PERO SOLO UNA EXPRESIÓN.\n",
        "\n",
        "Se define\n",
        "```\n",
        "lambda (argumento o parámetros): expresión\n",
        "```\n",
        "\n"
      ],
      "metadata": {
        "id": "eRv_fHKWx621"
      }
    },
    {
      "cell_type": "code",
      "execution_count": null,
      "metadata": {
        "colab": {
          "base_uri": "https://localhost:8080/"
        },
        "id": "VaAzA0JUx4U5",
        "outputId": "dd8337f1-8036-4c1d-9cd1-0853b6dbf7ae"
      },
      "outputs": [
        {
          "output_type": "stream",
          "name": "stdout",
          "text": [
            "100\n"
          ]
        }
      ],
      "source": [
        "#Función tradicional para cuadrado de un número\n",
        "def cuadrado(num):\n",
        "  return num**2\n",
        "\n",
        "print(cuadrado(10))"
      ]
    },
    {
      "cell_type": "code",
      "source": [
        "#Función lambda para calcular cuadrado de un número\n",
        "cuadrado1=lambda num: num**2\n",
        "\n",
        "print(cuadrado1(10))"
      ],
      "metadata": {
        "colab": {
          "base_uri": "https://localhost:8080/"
        },
        "id": "BJSwIZNZzM6a",
        "outputId": "542ac604-c0ec-4eab-eae2-1f84133a17a1"
      },
      "execution_count": null,
      "outputs": [
        {
          "output_type": "stream",
          "name": "stdout",
          "text": [
            "100\n"
          ]
        }
      ]
    },
    {
      "cell_type": "code",
      "source": [
        "#Funcion si num**n es mayor que 10 regrese True y si no un False\n",
        "\n",
        "def numero(x,n):\n",
        "  if x**n > 10:\n",
        "    return True\n",
        "  else:\n",
        "    return False\n",
        "\n",
        "print(numero(8,2))"
      ],
      "metadata": {
        "colab": {
          "base_uri": "https://localhost:8080/"
        },
        "id": "yKYFIhbMz3Pu",
        "outputId": "c3d12ba3-4514-4c5f-8e3d-cea05cd2e197"
      },
      "execution_count": null,
      "outputs": [
        {
          "output_type": "stream",
          "name": "stdout",
          "text": [
            "True\n"
          ]
        }
      ]
    },
    {
      "cell_type": "code",
      "source": [
        "#Funcion si num**n es mayor que 10 regrese True y si no un False con lambda\n",
        "\n",
        "cuadradon= lambda x,n: True if x**n >10 else False\n",
        "\n",
        "print(cuadradon(8,2))"
      ],
      "metadata": {
        "colab": {
          "base_uri": "https://localhost:8080/"
        },
        "id": "uRoaAlrd1C09",
        "outputId": "339b0464-47b2-4137-ad0d-2fb19a2c5198"
      },
      "execution_count": 65,
      "outputs": [
        {
          "output_type": "stream",
          "name": "stdout",
          "text": [
            "True\n"
          ]
        }
      ]
    },
    {
      "cell_type": "markdown",
      "source": [
        "## Función MAP\n"
      ],
      "metadata": {
        "id": "o8uu5dbW13xk"
      }
    },
    {
      "cell_type": "code",
      "source": [
        "from re import M\n",
        "#Función con lambda con map\n",
        "##diccionario dias de la semana junto con la temp de ese día\n",
        "dias= [\"Lunes\", \"Martes\", \"Miercoles\", \"Jueves\", \"Viernes\", \"Sábado\", \"Domingo\"]\n",
        "temp= [18,17,23,24,35,30,27]\n",
        "\n",
        "temp_semana={dias:temp for (dias,temp) in zip(dias,temp)}\n",
        "print(temp_semana)"
      ],
      "metadata": {
        "colab": {
          "base_uri": "https://localhost:8080/"
        },
        "id": "4eJyHPSi1ncG",
        "outputId": "6e2fcc37-7d81-4c10-bbff-04c6adcbe280"
      },
      "execution_count": 64,
      "outputs": [
        {
          "output_type": "stream",
          "name": "stdout",
          "text": [
            "{'Lunes': 18, 'Martes': 17, 'Miercoles': 23, 'Jueves': 24, 'Viernes': 35, 'Sábado': 30, 'Domingo': 27}\n"
          ]
        }
      ]
    },
    {
      "cell_type": "code",
      "source": [
        "clima1= dict(temp_semana)\n",
        "clima1"
      ],
      "metadata": {
        "colab": {
          "base_uri": "https://localhost:8080/"
        },
        "id": "BevG1ijV3dqk",
        "outputId": "550aae18-fd95-4214-a630-3f09e99f30a1"
      },
      "execution_count": 66,
      "outputs": [
        {
          "output_type": "execute_result",
          "data": {
            "text/plain": [
              "{'Lunes': 18,\n",
              " 'Martes': 17,\n",
              " 'Miercoles': 23,\n",
              " 'Jueves': 24,\n",
              " 'Viernes': 35,\n",
              " 'Sábado': 30,\n",
              " 'Domingo': 27}"
            ]
          },
          "metadata": {},
          "execution_count": 66
        }
      ]
    },
    {
      "cell_type": "code",
      "source": [
        "#con rangos de temp\n",
        "\n",
        "def clima(temp):\n",
        "  temp_resultado=[]\n",
        "  for i in temp:\n",
        "    if i < 20:\n",
        "      temp_resultado.append((i, \"Temperatura fría.\"))\n",
        "    elif i>=20 and i<30:\n",
        "      temp_resultado.append((i, \"Temperatura normalita.\"))\n",
        "    else:\n",
        "      temp_resultado.append((i, \"Temperatura caliente ¡MUCHO CALOR!.\"))\n",
        "  return temp_resultado\n",
        "\n",
        "clima(temp)"
      ],
      "metadata": {
        "colab": {
          "base_uri": "https://localhost:8080/"
        },
        "id": "yKpd9fcI3tx9",
        "outputId": "57d5c9b8-27fe-4581-fc58-eb3af286c512"
      },
      "execution_count": 67,
      "outputs": [
        {
          "output_type": "execute_result",
          "data": {
            "text/plain": [
              "[(18, 'Temperatura fría.'),\n",
              " (17, 'Temperatura fría.'),\n",
              " (23, 'Temperatura normalita.'),\n",
              " (24, 'Temperatura normalita.'),\n",
              " (35, 'Temperatura caliente ¡MUCHO CALOR!.'),\n",
              " (30, 'Temperatura caliente ¡MUCHO CALOR!.'),\n",
              " (27, 'Temperatura normalita.')]"
            ]
          },
          "metadata": {},
          "execution_count": 67
        }
      ]
    },
    {
      "cell_type": "markdown",
      "source": [
        "## DECLARANDO FUNCIÓN MAP\n",
        "\n",
        "\n",
        "```\n",
        "elemento a regresar(map(función a mapear, parámetros a mapear))\n",
        "\n",
        "#EJEMPLO:\n",
        "\n",
        "dict(map(función: parámetro))\n",
        "```\n",
        "elemento a regresar: tupla - tuple, conjunto - set, diccionario - dict, lista - list\n"
      ],
      "metadata": {
        "id": "sCxUdTyj6RXC"
      }
    },
    {
      "cell_type": "code",
      "source": [
        "#Mismo ejercicio, con funciones\n",
        "\n",
        "def clima2(l1,l2):\n",
        "  y2=clima(l2)\n",
        "  return dict(map(lambda x,y:(x,y), l1, y2))\n",
        "\n",
        "clima2(dias, temp)"
      ],
      "metadata": {
        "colab": {
          "base_uri": "https://localhost:8080/"
        },
        "id": "0xBdbjWj5Fkk",
        "outputId": "f1637bac-2483-409c-c5db-cbf52ab38cfb"
      },
      "execution_count": null,
      "outputs": [
        {
          "output_type": "execute_result",
          "data": {
            "text/plain": [
              "{'Lunes': (18, 'Temperatura fría.'),\n",
              " 'Martes': (17, 'Temperatura fría.'),\n",
              " 'Miercoles': (23, 'Temperatura normalita.'),\n",
              " 'Jueves': (24, 'Temperatura normalita.'),\n",
              " 'Viernes': (35, 'Temperatura caliente ¡MUCHA CALOR!.'),\n",
              " 'Sábado': (30, 'Temperatura caliente ¡MUCHA CALOR!.'),\n",
              " 'Domingo': (27, 'Temperatura normalita.')}"
            ]
          },
          "metadata": {},
          "execution_count": 19
        }
      ]
    },
    {
      "cell_type": "code",
      "source": [
        "a1= lambda x: \"Temperatura fría.\" if x<20 else (\"Temperatura normalita.\" if x>=20 and x<30 else \"Temperatura caliente ¡MUCHO CALOR!\")\n",
        "t1= []\n",
        "for i in temp: t1.append((i,a1(i)))\n",
        "t1"
      ],
      "metadata": {
        "colab": {
          "base_uri": "https://localhost:8080/"
        },
        "id": "ndJyhwQ37ChJ",
        "outputId": "b9cc3deb-9bf9-41c9-eca0-81057137627b"
      },
      "execution_count": 68,
      "outputs": [
        {
          "output_type": "execute_result",
          "data": {
            "text/plain": [
              "[(18, 'Temperatura fría.'),\n",
              " (17, 'Temperatura fría.'),\n",
              " (23, 'Temperatura normalita.'),\n",
              " (24, 'Temperatura normalita.'),\n",
              " (35, 'Temperatura caliente ¡MUCHO CALOR!'),\n",
              " (30, 'Temperatura caliente ¡MUCHO CALOR!'),\n",
              " (27, 'Temperatura normalita.')]"
            ]
          },
          "metadata": {},
          "execution_count": 68
        }
      ]
    },
    {
      "cell_type": "code",
      "source": [
        "t2=list(map(lambda x: (x,\"Temperatura fría.\") if x<20 else ((x,\"Temperatura normalita.\") if x>=20 and x<30 else (x,\"Temperatura caliente ¡MUCHA CALOR!\")),temp))\n",
        "t2"
      ],
      "metadata": {
        "colab": {
          "base_uri": "https://localhost:8080/"
        },
        "id": "FYP4JVy58hJ2",
        "outputId": "a549fee0-8946-4edf-f8bf-5cf6cb3b61f9"
      },
      "execution_count": null,
      "outputs": [
        {
          "output_type": "execute_result",
          "data": {
            "text/plain": [
              "[(18, 'Temperatura fría.'),\n",
              " (17, 'Temperatura fría.'),\n",
              " (23, 'Temperatura normalita.'),\n",
              " (24, 'Temperatura normalita.'),\n",
              " (35, 'Temperatura caliente ¡MUCHA CALOR!'),\n",
              " (30, 'Temperatura caliente ¡MUCHA CALOR!'),\n",
              " (27, 'Temperatura normalita.')]"
            ]
          },
          "metadata": {},
          "execution_count": 26
        }
      ]
    },
    {
      "cell_type": "code",
      "source": [
        "t3= dict(map(lambda x,y: (x,y), dias, t2))\n",
        "t3"
      ],
      "metadata": {
        "colab": {
          "base_uri": "https://localhost:8080/"
        },
        "id": "nuuBEV3a_A4e",
        "outputId": "ff30e9da-15ae-425f-b16d-ca6a7e675c67"
      },
      "execution_count": null,
      "outputs": [
        {
          "output_type": "execute_result",
          "data": {
            "text/plain": [
              "{'Lunes': (18, 'Temperatura fría.'),\n",
              " 'Martes': (17, 'Temperatura fría.'),\n",
              " 'Miercoles': (23, 'Temperatura normalita.'),\n",
              " 'Jueves': (24, 'Temperatura normalita.'),\n",
              " 'Viernes': (35, 'Temperatura caliente ¡MUCHA CALOR!'),\n",
              " 'Sábado': (30, 'Temperatura caliente ¡MUCHA CALOR!'),\n",
              " 'Domingo': (27, 'Temperatura normalita.')}"
            ]
          },
          "metadata": {},
          "execution_count": 28
        }
      ]
    },
    {
      "cell_type": "markdown",
      "source": [
        "# ACTIVIDAD 20-25 CON ANÓNIMAS"
      ],
      "metadata": {
        "id": "W7s8UCOL_umm"
      }
    },
    {
      "cell_type": "code",
      "source": [
        "#20 Escribe un programa que adivine entre un conjunto de diez colores definidos por el usuario, con un máximo de 10 intentos.\n",
        "## FUNCIÓN NORMAL\n",
        "\n",
        "def colores_usuario():\n",
        "  print(\"Introduce 10 colores que tengo que adivinar.\")\n",
        "  colores= [input(\"Color: \") for i in range (10)]\n",
        "  color_usuario= input(\"Introduce un color secreto para que lo pueda adivinar: \")\n",
        "  return colores, color_usuario\n",
        "\n",
        "def adivinar(colores,color_usuario):\n",
        "  import random\n",
        "  i=1\n",
        "  while i<10:\n",
        "    intento_adivinar= random.choice(colores)\n",
        "    if intento_adivinar==color_usuario:\n",
        "      print(f\"Adiviné el color en {i} intentos y el color era: {intento_adivinar}\")\n",
        "      break\n",
        "    else:\n",
        "      print(f\"No era el color {intento_adivinar}, seguiré intentando (si puedo)\")\n",
        "      colores.remove(intento_adivinar)\n",
        "      i= i + 1\n",
        "  else:\n",
        "    print(f\"No pude adivinar tu color, el color era: {color_usuario}\")\n",
        "\n",
        "colores, color_usuario= colores_usuario()\n",
        "adivinar(colores,color_usuario)"
      ],
      "metadata": {
        "colab": {
          "base_uri": "https://localhost:8080/"
        },
        "id": "yAc2Z3JmSZ2j",
        "outputId": "fe4cc1e6-9a0d-4524-c73a-9c4196146aa4"
      },
      "execution_count": 71,
      "outputs": [
        {
          "output_type": "stream",
          "name": "stdout",
          "text": [
            "Introduce 10 colores que tengo que adivinar.\n",
            "Color: rojo\n",
            "Color: naranja\n",
            "Color: amarillo\n",
            "Color: verde\n",
            "Color: azul\n",
            "Color: azul oscuro\n",
            "Color: morado\n",
            "Color: rosado\n",
            "Color: negro\n",
            "Color: blanco\n",
            "Introduce un color secreto para que lo pueda adivinar: azul\n",
            "No era el color azul oscuro, seguiré intentando (si puedo)\n",
            "No era el color negro, seguiré intentando (si puedo)\n",
            "No era el color naranja, seguiré intentando (si puedo)\n",
            "Adiviné el color en 4 intentos y el color era: azul\n"
          ]
        }
      ]
    },
    {
      "cell_type": "code",
      "source": [
        "#20 Escribe un programa que adivine entre un conjunto de diez colores definidos por el usuario, con un máximo de 10 intentos.\n",
        "## CON ANÓNIMAS\n",
        "\n",
        "import random\n",
        "colorines= lambda: ([input(\"Color: \") for _ in range(10)], input(\"Introduce un color secreto para que lo pueda adivinar: \"))\n",
        "adivinar = lambda colores, color_usuario, i=1:  (print(f\"Adiviné el color en {i} intentos, y el color era {color_usuario}\") if (intento := random.choice(colores)) == color_usuario else (colores.remove(intento) or print(f\"No era el color {intento}, seguiré intentando (si puedo)\") or (adivinar(colores, color_usuario, i + 1) if i<=10 else print(f\"No pude adivinar tu color, el color era {color_usuario}\"))))\n",
        "\n",
        "colores, color_usuario = colorines()\n",
        "adivinar(colores, color_usuario)"
      ],
      "metadata": {
        "colab": {
          "base_uri": "https://localhost:8080/"
        },
        "id": "MRde7cmBU9m7",
        "outputId": "abce49bf-8a4d-4415-fb12-fca550e0d667"
      },
      "execution_count": 72,
      "outputs": [
        {
          "output_type": "stream",
          "name": "stdout",
          "text": [
            "Color: rojo\n",
            "Color: naranja\n",
            "Color: amarillo\n",
            "Color: verde\n",
            "Color: azul\n",
            "Color: azul oscuro\n",
            "Color: morado\n",
            "Color: rosado\n",
            "Color: negro\n",
            "Color: blanco\n",
            "Introduce un color secreto para que lo pueda adivinar: azul\n",
            "No era el color rosado, seguiré intentando (si puedo)\n",
            "Adiviné el color en 2 intentos, y el color era azul\n"
          ]
        }
      ]
    },
    {
      "cell_type": "code",
      "source": [
        "#21 Desarrolla un programa que muestre los números pares del 1 al 100.\n",
        "## Función normal\n",
        "\n",
        "def pares():\n",
        "  num_par = [num for num in range(1, 101) if num % 2 == 0]\n",
        "  print(num_par)\n",
        "\n",
        "pares()"
      ],
      "metadata": {
        "id": "f2kkgdNgipuM",
        "colab": {
          "base_uri": "https://localhost:8080/"
        },
        "outputId": "2a8927b5-cf9e-4829-91cb-85f104610461"
      },
      "execution_count": 22,
      "outputs": [
        {
          "output_type": "stream",
          "name": "stdout",
          "text": [
            "[2, 4, 6, 8, 10, 12, 14, 16, 18, 20, 22, 24, 26, 28, 30, 32, 34, 36, 38, 40, 42, 44, 46, 48, 50, 52, 54, 56, 58, 60, 62, 64, 66, 68, 70, 72, 74, 76, 78, 80, 82, 84, 86, 88, 90, 92, 94, 96, 98, 100]\n"
          ]
        }
      ]
    },
    {
      "cell_type": "code",
      "source": [
        "#21 Desarrolla un programa que muestre los números pares del 1 al 100.\n",
        "## Función lambda\n",
        "\n",
        "num_par2= lambda: [num for num in range(1, 101) if num % 2 == 0]\n",
        "print(num_par2())"
      ],
      "metadata": {
        "colab": {
          "base_uri": "https://localhost:8080/"
        },
        "id": "YmaBO5HPn5f2",
        "outputId": "1af47b20-5053-495f-aa8f-dc3e03fe8981"
      },
      "execution_count": 43,
      "outputs": [
        {
          "output_type": "stream",
          "name": "stdout",
          "text": [
            "[2, 4, 6, 8, 10, 12, 14, 16, 18, 20, 22, 24, 26, 28, 30, 32, 34, 36, 38, 40, 42, 44, 46, 48, 50, 52, 54, 56, 58, 60, 62, 64, 66, 68, 70, 72, 74, 76, 78, 80, 82, 84, 86, 88, 90, 92, 94, 96, 98, 100]\n"
          ]
        }
      ]
    },
    {
      "cell_type": "code",
      "source": [
        "#22 Crea un programa que calcule la suma de los dígitos de un número.\n",
        "## Función normal\n",
        "\n",
        "def suma():\n",
        "  n= input(\"Ingrese un número para calcular la suma de sus dígitos: \")\n",
        "  suma_digitos = sum(int(digito) for digito in n)\n",
        "  print(f\"La suma de los dígitos es: {suma_digitos}\")\n",
        "\n",
        "suma()"
      ],
      "metadata": {
        "colab": {
          "base_uri": "https://localhost:8080/"
        },
        "id": "OEaiiXcly3W0",
        "outputId": "342bf172-68e2-4722-e433-51448c2cebba"
      },
      "execution_count": 34,
      "outputs": [
        {
          "output_type": "stream",
          "name": "stdout",
          "text": [
            "Ingrese un número para calcular la suma de sus dígitos: 56\n",
            "La suma de los dígitos es: 11\n"
          ]
        }
      ]
    },
    {
      "cell_type": "code",
      "source": [
        "#22 Crea un programa que calcule la suma de los dígitos de un número.\n",
        "## Función lambda\n",
        "\n",
        "n1= lambda: sum(int(digito) for digito in input(\"Ingrese un número para calcular la suma de sus dígitos: \"))\n",
        "print(f\"La suma de los dígitos es: {n1()}\")"
      ],
      "metadata": {
        "colab": {
          "base_uri": "https://localhost:8080/"
        },
        "id": "n9D18Wza00Zb",
        "outputId": "092f5858-042f-40da-ca3e-55084879d5c1"
      },
      "execution_count": 33,
      "outputs": [
        {
          "output_type": "stream",
          "name": "stdout",
          "text": [
            "Ingrese un número para calcular la suma de sus dígitos: 56\n",
            "La suma de los dígitos es: 11\n"
          ]
        }
      ]
    },
    {
      "cell_type": "code",
      "source": [
        "#23 Escribe un programa que determine si un número es primo.\n",
        "## Función normal\n",
        "\n",
        "def primo():\n",
        "  num= int(input(\"Ingrese un número: \"))\n",
        "  div= [i for i in range(1, num + 1) if num % i == 0]\n",
        "  primo = len(div) == 2\n",
        "  print(f\"El número {num} es primo\" if primo else f\"El número {num} no es primo\")\n",
        "\n",
        "primo()"
      ],
      "metadata": {
        "colab": {
          "base_uri": "https://localhost:8080/"
        },
        "id": "HrA6B43q1RGK",
        "outputId": "6c27a45c-dee2-4bde-9fc4-b45c68e3f41f"
      },
      "execution_count": 42,
      "outputs": [
        {
          "output_type": "stream",
          "name": "stdout",
          "text": [
            "Ingrese un número: 4\n",
            "El número 4 no es primo\n"
          ]
        }
      ]
    },
    {
      "cell_type": "code",
      "source": [
        "#23 Escribe un programa que determine si un número es primo.\n",
        "## Función lambda\n",
        "\n",
        "num= int(input(\"Ingrese un número: \"))\n",
        "primo= lambda n: len([i for i in range(1, num + 1) if num % i == 0]) == 2\n",
        "\n",
        "print(f\"El número {num} es primo\" if primo(num) else f\"El número {num} no es primo\")"
      ],
      "metadata": {
        "colab": {
          "base_uri": "https://localhost:8080/"
        },
        "id": "kg-pJh9Q2jAW",
        "outputId": "6e91ed46-eab6-4f32-df3b-6c6efc3f6418"
      },
      "execution_count": 47,
      "outputs": [
        {
          "output_type": "stream",
          "name": "stdout",
          "text": [
            "Ingrese un número: 2\n",
            "El número 2 es primo\n"
          ]
        }
      ]
    },
    {
      "cell_type": "code",
      "source": [
        "#24 Desarrolla un programa que muestre el patrón de un triángulo con asteriscos.\n",
        "## Función normal\n",
        "\n",
        "def triangulo():\n",
        "  altura= int(input(\"Ingrese la altura deseada para el triángulo: \"))\n",
        "  for i in range(1, altura + 1):\n",
        "    print(\"*\" * i)\n",
        "\n",
        "triangulo()"
      ],
      "metadata": {
        "colab": {
          "base_uri": "https://localhost:8080/"
        },
        "id": "AbwYi7Ym3_fp",
        "outputId": "b3aa144f-2b1b-4ac4-ad0b-e72d927ee100"
      },
      "execution_count": 48,
      "outputs": [
        {
          "output_type": "stream",
          "name": "stdout",
          "text": [
            "Ingrese la altura deseada para el triángulo: 4\n",
            "*\n",
            "**\n",
            "***\n",
            "****\n"
          ]
        }
      ]
    },
    {
      "cell_type": "code",
      "source": [
        "#24 Desarrolla un programa que muestre el patrón de un triángulo con asteriscos.\n",
        "## Función lambda\n",
        "\n",
        "altura = int(input(\"Ingrese la altura deseada para el triángulo: \"))\n",
        "triangulo = lambda h: \"\\n\".join(\"*\" * i for i in range(1, h + 1))\n",
        "\n",
        "print(triangulo(altura))"
      ],
      "metadata": {
        "colab": {
          "base_uri": "https://localhost:8080/"
        },
        "id": "_p-ARwH74V7A",
        "outputId": "79204f89-bc44-448f-eb3d-2936bca24b6b"
      },
      "execution_count": 54,
      "outputs": [
        {
          "output_type": "stream",
          "name": "stdout",
          "text": [
            "Ingrese la altura deseada para el triángulo: 4\n",
            "*\n",
            "**\n",
            "***\n",
            "****\n"
          ]
        }
      ]
    },
    {
      "cell_type": "code",
      "source": [
        "#25 Crea un programa que calcule la potencia de un número sin usar el operador **\n",
        "## Función normal\n",
        "\n",
        "def potencia():\n",
        "  base= int(input(\"Ingrese la base: \"))\n",
        "  exponente= int(input(\"Ingrese el exponente: \"))\n",
        "  resultado = 1\n",
        "\n",
        "  for _ in range(exponente):\n",
        "    resultado = resultado * base\n",
        "\n",
        "  print(f\"{base}^{exponente} = {resultado}\")\n",
        "\n",
        "potencia()"
      ],
      "metadata": {
        "colab": {
          "base_uri": "https://localhost:8080/"
        },
        "id": "3kZ_r6C-5J4o",
        "outputId": "483ccc6d-b40c-478c-e338-dab1582e1cf8"
      },
      "execution_count": 57,
      "outputs": [
        {
          "output_type": "stream",
          "name": "stdout",
          "text": [
            "Ingrese la base: 3\n",
            "Ingrese el exponente: 3\n",
            "3^3 = 27\n"
          ]
        }
      ]
    },
    {
      "cell_type": "code",
      "source": [
        "#25 Crea un programa que calcule la potencia de un número sin usar el operador **\n",
        "## Función lambda\n",
        "\n",
        "base= int(input(\"Ingrese la base: \"))\n",
        "exponente= int(input(\"Ingrese el exponente: \"))\n",
        "potencia= lambda b, e: 1 if e == 0 else b * potencia(b, e - 1)\n",
        "\n",
        "print(f\"{base}^{exponente} = {potencia(base,exponente)}\")"
      ],
      "metadata": {
        "colab": {
          "base_uri": "https://localhost:8080/"
        },
        "id": "Ldg88afi6lAr",
        "outputId": "338c9803-3e6e-44f7-ffef-030564b11b65"
      },
      "execution_count": 61,
      "outputs": [
        {
          "output_type": "stream",
          "name": "stdout",
          "text": [
            "Ingrese la base: 3\n",
            "Ingrese el exponente: 3\n",
            "3^3 = 27\n"
          ]
        }
      ]
    }
  ]
}