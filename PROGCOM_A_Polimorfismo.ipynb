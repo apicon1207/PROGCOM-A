{
  "nbformat": 4,
  "nbformat_minor": 0,
  "metadata": {
    "colab": {
      "provenance": []
    },
    "kernelspec": {
      "name": "python3",
      "display_name": "Python 3"
    },
    "language_info": {
      "name": "python"
    }
  },
  "cells": [
    {
      "cell_type": "markdown",
      "source": [
        "## Taller sobre Polimorfismo\n",
        "###1. Define qué es el polimorfismo en programación orientada a objetos.\n",
        "\n",
        "El polimorfismo es una característica de la programación orientada a objetos que permite que diferentes clases puedan responder a la misma interfaz o método de manera distinta. En otras palabras, una misma operación puede comportarse de manera diferente en distintos tipos de objetos.\n",
        "\n",
        "###2. Menciona y describe brevemente los dos tipos principales de polimorfismo.\n",
        "\n",
        "- Polimorfismo en tiempo de compilación (sobrecarga): Se refiere a la capacidad de definir múltiples métodos con el mismo nombre pero con diferentes parámetros dentro de una misma clase. No es común en Python, ya que este lenguaje no soporta sobrecarga como lo hacen otros lenguajes como Java o C++.\n",
        "\n",
        "- Polimorfismo en tiempo de ejecución (sobrescritura): Ocurre cuando una clase hija redefine un método que ya existe en su clase base, permitiendo que el comportamiento sea específico según el tipo del objeto. Este tipo de polimorfismo es muy común en Python.\n",
        "\n",
        "###3. Explica las ventajas de usar polimorfismo en el desarrollo de software.\n",
        "- Reutilización de código: Permite escribir código más genérico y flexible.\n",
        "\n",
        "- Mantenimiento sencillo: Es más fácil de mantener y extender sin modificar mucho el código existente.\n",
        "\n",
        "- Escalabilidad: Facilita la implementación de nuevas funcionalidades mediante nuevas clases sin cambiar el código base.\n",
        "\n",
        "- Legibilidad y claridad: Promueve una estructura de código más clara y coherente.\n"
      ],
      "metadata": {
        "id": "8cY-T-haRv--"
      }
    },
    {
      "cell_type": "code",
      "execution_count": 2,
      "metadata": {
        "colab": {
          "base_uri": "https://localhost:8080/"
        },
        "id": "VNXrO5CVReua",
        "outputId": "2a8f5941-7670-4c9e-9b6f-f2a01f62d374"
      },
      "outputs": [
        {
          "output_type": "stream",
          "name": "stdout",
          "text": [
            "Estoy programando\n",
            "Estoy diseñando\n",
            "La guitarra está tocando un solo de rock.\n",
            "El piano está tocando una melodía clásica.\n"
          ]
        }
      ],
      "source": [
        "#4. Programa en Python una clase base Empleado con un método trabajar() que imprima un mensaje genérico.\n",
        "# Luego crea dos clases derivadas Programador y Diseñador que sobrescriban el método trabajar() para imprimir mensajes\n",
        "# específicos. Finalmente, crea objetos de ambas clases y llama al método trabajar() en cada uno.\n",
        "\n",
        "class Empleado:\n",
        "    def trabajar(self):\n",
        "        print(\"Estoy trabajando\")\n",
        "\n",
        "class Programador(Empleado):\n",
        "    def trabajar(self):\n",
        "        print(\"Estoy programando\")\n",
        "\n",
        "class Diseñador(Empleado):\n",
        "    def trabajar(self):\n",
        "        print(\"Estoy diseñando\")\n",
        "\n",
        "emp1 = Programador()\n",
        "emp2 = Diseñador()\n",
        "\n",
        "emp1.trabajar()\n",
        "emp2.trabajar()\n",
        "\n",
        "#5. Crea en Python una clase abstracta InstrumentoMusical con un método abstracto tocar().\n",
        "# Después, crea dos clases que hereden de ella, como Guitarra y Piano, implementando el método tocar() con mensajes\n",
        "# diferentes. Crea una lista con objetos de estas clases y llama al método tocar() para cada uno.\n",
        "\n",
        "from abc import ABC, abstractmethod\n",
        "\n",
        "class InstrumentoMusical(ABC):\n",
        "    @abstractmethod\n",
        "    def tocar(self):\n",
        "        pass\n",
        "\n",
        "class Guitarra(InstrumentoMusical):\n",
        "    def tocar(self):\n",
        "        print(\"La guitarra está tocando un solo de rock.\")\n",
        "\n",
        "class Piano(InstrumentoMusical):\n",
        "    def tocar(self):\n",
        "        print(\"El piano está tocando una melodía clásica.\")\n",
        "\n",
        "instrumentos = [Guitarra(), Piano()]\n",
        "\n",
        "for instrumento in instrumentos:\n",
        "    instrumento.tocar()\n"
      ]
    }
  ]
}