{
  "nbformat": 4,
  "nbformat_minor": 0,
  "metadata": {
    "colab": {
      "provenance": []
    },
    "kernelspec": {
      "name": "python3",
      "display_name": "Python 3"
    },
    "language_info": {
      "name": "python"
    }
  },
  "cells": [
    {
      "cell_type": "markdown",
      "source": [
        "### DICCIONARIOS\n",
        "Los diccionarios tienen las siguientes características:\n",
        "\n",
        "1. No poseen indexación. Para poder acceder a los valores, sólo es necesario colocar el valor entre []\n",
        "2. Los valores almacenados puede ser cualquier tipo de datos.\n",
        "3. A diferencia de las listas no es mutable."
      ],
      "metadata": {
        "id": "G5KaiI_QIW8P"
      }
    },
    {
      "cell_type": "code",
      "execution_count": 1,
      "metadata": {
        "colab": {
          "base_uri": "https://localhost:8080/"
        },
        "id": "OW9oeHZ2IGgo",
        "outputId": "28b49911-09bb-447c-b36e-0c4b6e4e5cd3"
      },
      "outputs": [
        {
          "output_type": "execute_result",
          "data": {
            "text/plain": [
              "['Clark Ken', 'Diana Prince', 'Bruce Wayne']"
            ]
          },
          "metadata": {},
          "execution_count": 1
        }
      ],
      "source": [
        "#Ejemplo\n",
        "#Tenemos un diccionario de superhéroes, en donde muestra su personalidad secreta y su nombre de superhéroe\n",
        "heroes={\"Nombres\":[\"Clark Ken\", \"Diana Prince\",\"Bruce Wayne\"],\n",
        "        \"Superhéroe\":[\"Superman\",\"Mujer maravilla\",\"Batman\"]}\n",
        "heroes[\"Nombres\"]"
      ]
    },
    {
      "cell_type": "code",
      "source": [
        "#Cómo podría imprimirse únicamente el nombre de Diana Prince?\n",
        "heroes[\"Nombres\"][1]"
      ],
      "metadata": {
        "colab": {
          "base_uri": "https://localhost:8080/",
          "height": 35
        },
        "id": "kGFkmulXJAY-",
        "outputId": "dfde9ebf-eb9e-4405-a7e9-3aac4307e08d"
      },
      "execution_count": 3,
      "outputs": [
        {
          "output_type": "execute_result",
          "data": {
            "text/plain": [
              "'Diana Prince'"
            ],
            "application/vnd.google.colaboratory.intrinsic+json": {
              "type": "string"
            }
          },
          "metadata": {},
          "execution_count": 3
        }
      ]
    },
    {
      "cell_type": "code",
      "source": [
        "#Podrías explicar este error?\n",
        "heroes[\"nombres\"]"
      ],
      "metadata": {
        "colab": {
          "base_uri": "https://localhost:8080/",
          "height": 159
        },
        "id": "aKQ7RxDfJKbv",
        "outputId": "35493c06-2031-40e0-aa00-330cb5c999f5"
      },
      "execution_count": 4,
      "outputs": [
        {
          "output_type": "error",
          "ename": "KeyError",
          "evalue": "'nombres'",
          "traceback": [
            "\u001b[0;31m---------------------------------------------------------------------------\u001b[0m",
            "\u001b[0;31mKeyError\u001b[0m                                  Traceback (most recent call last)",
            "\u001b[0;32m<ipython-input-4-70db21a894e3>\u001b[0m in \u001b[0;36m<cell line: 0>\u001b[0;34m()\u001b[0m\n\u001b[1;32m      1\u001b[0m \u001b[0;31m#Podrías explicar este error?\u001b[0m\u001b[0;34m\u001b[0m\u001b[0;34m\u001b[0m\u001b[0m\n\u001b[0;32m----> 2\u001b[0;31m \u001b[0mheroes\u001b[0m\u001b[0;34m[\u001b[0m\u001b[0;34m\"nombres\"\u001b[0m\u001b[0;34m]\u001b[0m\u001b[0;34m\u001b[0m\u001b[0;34m\u001b[0m\u001b[0m\n\u001b[0m",
            "\u001b[0;31mKeyError\u001b[0m: 'nombres'"
          ]
        }
      ]
    },
    {
      "cell_type": "code",
      "source": [
        "## El error es porque pusimos la llave mal, debería ser \"Nombres\", con la n mayuscula.\n",
        "heroes[\"Nombres\"]"
      ],
      "metadata": {
        "colab": {
          "base_uri": "https://localhost:8080/"
        },
        "id": "X03Fe3DYJj0Q",
        "outputId": "e381546d-1c89-4530-beb0-d61d1c31229c"
      },
      "execution_count": 5,
      "outputs": [
        {
          "output_type": "execute_result",
          "data": {
            "text/plain": [
              "['Clark Ken', 'Diana Prince', 'Bruce Wayne']"
            ]
          },
          "metadata": {},
          "execution_count": 5
        }
      ]
    },
    {
      "cell_type": "markdown",
      "source": [
        "5. Las llaves pueden ser cualquier tipo de variable, lo mismo para los valores.\n",
        "6. Los diccionarios son ordenados a partir de Python 3.7.\n",
        "7. La flunción len(D) retorna el número de combinaciones llave: valor contenidas en el diccionario D"
      ],
      "metadata": {
        "id": "CQebhhjgJ6jU"
      }
    },
    {
      "cell_type": "markdown",
      "source": [
        "## EJERCICIO\n",
        "Generar los siguientes diccionarios:\n",
        "\n",
        "1. Un diccionario que almacena n nombres de usuarios, sus alturas, pesos, IMC y descripción\n",
        "2. Un diccionario que almacena n códigos, sus respectivas 5 notas y su promedio\n",
        "3. Un diccionario que almacena n códigos de productos de una tienda, sus respectivos precios y su % de descuento"
      ],
      "metadata": {
        "id": "odun5FYqKP8t"
      }
    },
    {
      "cell_type": "code",
      "source": [
        "# Un diccionario que almacena n nombres de usuarios, sus alturas, pesos, IMC y descripción\n",
        "\n",
        "def datos():\n",
        "\n",
        "  nom = input(\"Ingrese su nombre: \")\n",
        "  al = float(input(\"Ingrese su altura en m: \"))\n",
        "  pe = float(input(\"Ingrese su peso en kg: \"))\n",
        "\n",
        "  imc = pe / (al**2)\n",
        "\n",
        "  categorias = [\"bajo peso\", \"normal\", \"sobrepeso\", \"obesidad\"]\n",
        "  rango = [18.5, 24.9, 29.9, float('inf')]\n",
        "\n",
        "  for i in range(len(categorias)):\n",
        "    if imc < rango[i]:\n",
        "      categoria = categorias[i]\n",
        "      break\n",
        "\n",
        "  usuario = {\"Nombre\": nom, \"Altura\": al, \"Peso\": pe, \"IMC\": imc, \"Descripción\": categoria}\n",
        "  return usuario\n",
        "\n",
        "usuarios = []\n",
        "\n",
        "while True:\n",
        "  continuar = input(\"¿Desea agregar un usuario? (s/n): \")\n",
        "  if continuar.lower() == \"s\":\n",
        "    usuario = datos()\n",
        "    usuarios.append(usuario)\n",
        "  else:\n",
        "    print(\"Gracias por usar el programa\")\n",
        "    break\n",
        "\n",
        "for usuario in usuarios:\n",
        "    print(usuario)"
      ],
      "metadata": {
        "colab": {
          "base_uri": "https://localhost:8080/"
        },
        "id": "aEq8zPvvLSfb",
        "outputId": "4662e52c-1775-4676-e89b-fdecd805a5c6"
      },
      "execution_count": 29,
      "outputs": [
        {
          "output_type": "stream",
          "name": "stdout",
          "text": [
            "¿Desea agregar un usuario? (s/n): s\n",
            "Ingrese su nombre: Ange\n",
            "Ingrese su altura en m: 1.65\n",
            "Ingrese su peso en kg: 62\n",
            "¿Desea agregar un usuario? (s/n): n\n",
            "Gracias por usar el programa\n",
            "{'Nombre': 'Ange', 'Altura': 1.65, 'Peso': 62.0, 'IMC': 22.77318640955005, 'Descripción': 'normal'}\n"
          ]
        }
      ]
    },
    {
      "cell_type": "code",
      "source": [
        "#Un diccionario que almacena n códigos, sus respectivas 5 notas y su promedio\n",
        "\n",
        "def agregar_estudiante(estudiantes):\n",
        "\n",
        "  codigo = input(\"Ingrese el código del estudiante: \")\n",
        "  notas = []\n",
        "  for i in range(5):\n",
        "    nota = float(input(f\"Ingrese la nota {i + 1}: \"))\n",
        "    notas.append(nota)\n",
        "  promedio = sum(notas) / len(notas)\n",
        "  estudiantes[codigo] = {\"notas\": notas, \"promedio\": promedio}\n",
        "\n",
        "estudiantes = {}\n",
        "\n",
        "while True:\n",
        "  continuar = input(\"¿Desea agregar un estudiante? (s/n): \")\n",
        "  if continuar == \"s\":\n",
        "    agregar_estudiante(estudiantes)\n",
        "  else:\n",
        "    break\n",
        "\n",
        "print(\"Estudiantes:\")\n",
        "\n",
        "for codigo, datos in estudiantes.items():\n",
        "  print(f\"Código: {codigo}, Notas: {datos['notas']}, Promedio: {datos['promedio']}\")"
      ],
      "metadata": {
        "colab": {
          "base_uri": "https://localhost:8080/"
        },
        "id": "c4_jYl80O22g",
        "outputId": "bf268409-eb15-4935-9674-fdf08423e357"
      },
      "execution_count": 30,
      "outputs": [
        {
          "output_type": "stream",
          "name": "stdout",
          "text": [
            "¿Desea agregar un estudiante? (s/n): s\n",
            "Ingrese el código del estudiante: 1092\n",
            "Ingrese la nota 1: 2\n",
            "Ingrese la nota 2: 3\n",
            "Ingrese la nota 3: 3\n",
            "Ingrese la nota 4: 5\n",
            "Ingrese la nota 5: 5\n",
            "¿Desea agregar un estudiante? (s/n): n\n",
            "Estudiantes:\n",
            "Código: 1092, Notas: [2.0, 3.0, 3.0, 5.0, 5.0], Promedio: 3.6\n"
          ]
        }
      ]
    },
    {
      "cell_type": "code",
      "source": [
        "#Un diccionario que almacena n códigos de productos de una tienda, sus respectivos precios y su % de descuento\n",
        "\n",
        "def agregar_producto(productos):\n",
        "  codigo = input(\"Ingrese el código del producto: \")\n",
        "  precio = float(input(\"Ingrese el precio del producto: \"))\n",
        "  descuento = float(input(\"Ingrese el porcentaje de descuento: \"))\n",
        "\n",
        "  productos[codigo] = {\"precio\": precio, \"descuento\": descuento}\n",
        "\n",
        "productos = {}\n",
        "\n",
        "while True:\n",
        "  continuar = input(\"¿Desea agregar un producto? (s/n): \")\n",
        "  if continuar== \"s\":\n",
        "    agregar_producto(productos)\n",
        "  else:\n",
        "    break\n",
        "\n",
        "print(\"Productos:\")\n",
        "\n",
        "for codigo, datos in productos.items():\n",
        "  print(f\"Código: {codigo}, Precio: {datos['precio']}, Descuento: {datos['descuento']}%\")"
      ],
      "metadata": {
        "colab": {
          "base_uri": "https://localhost:8080/"
        },
        "id": "2OPKp8-rQwSX",
        "outputId": "0842e182-27ef-4a41-ac54-9f7ae6a8b94d"
      },
      "execution_count": 32,
      "outputs": [
        {
          "output_type": "stream",
          "name": "stdout",
          "text": [
            "¿Desea agregar un producto? (s/n): s\n",
            "Ingrese el código del producto: 38\n",
            "Ingrese el precio del producto: 70000\n",
            "Ingrese el porcentaje de descuento: 50\n",
            "¿Desea agregar un producto? (s/n): n\n",
            "Productos:\n",
            "Código: 38, Precio: 70000.0, Descuento: 50.0%\n"
          ]
        }
      ]
    },
    {
      "cell_type": "code",
      "source": [
        "anidado1 = {\"a\": 1, \"b\": 2}\n",
        "anidado2 = {\"a\": 1, \"b\": 2}\n",
        "d = {\n",
        "  \"anidado1\" : anidado1,\n",
        "  \"anidado2\" : anidado2\n",
        "}\n",
        "print(d)"
      ],
      "metadata": {
        "colab": {
          "base_uri": "https://localhost:8080/"
        },
        "id": "SgpWXfy8J3KN",
        "outputId": "fd42a8b7-2924-4373-8b4e-8d6065d9f231"
      },
      "execution_count": 6,
      "outputs": [
        {
          "output_type": "stream",
          "name": "stdout",
          "text": [
            "{'anidado1': {'a': 1, 'b': 2}, 'anidado2': {'a': 1, 'b': 2}}\n"
          ]
        }
      ]
    },
    {
      "cell_type": "code",
      "source": [
        "#Cómo se podría obtener el valor de la clave b de anidado 2?\n",
        "d[\"anidado2\"][\"b\"]"
      ],
      "metadata": {
        "colab": {
          "base_uri": "https://localhost:8080/"
        },
        "id": "UIqdnEOWKuzx",
        "outputId": "7d51c5f6-f31a-44eb-a887-1644ab8e9191"
      },
      "execution_count": 34,
      "outputs": [
        {
          "output_type": "execute_result",
          "data": {
            "text/plain": [
              "2"
            ]
          },
          "metadata": {},
          "execution_count": 34
        }
      ]
    },
    {
      "cell_type": "markdown",
      "source": [
        "##MÉTODOS EN PHYTON\n",
        "### Diccionarios\n",
        "1. **copy():** El método copy() es una función incorporada que permite copiar diccionarios en Python. Los programadores suelen utilizarlo cuando quieren realizar cambios solo en los elementos copiados y no en los elementos originales del diccionario.\n",
        "\n",
        "```\n",
        "# Ejemplo\n",
        "\n",
        "original = {'a': 1, 'b': 2}\n",
        "copia = original.copy()\n",
        "\n",
        "copia['c'] = 3\n",
        "\n",
        "print(original)  # {'a': 1, 'b': 2}\n",
        "print(copia)     # {'a': 1, 'b': 2, 'c': 3}\n",
        "\n",
        "```\n",
        "\n",
        "2. **clear():** El método clear() en Python se utiliza para eliminar todos los elementos de un diccionario. Después de llamar a este método, el diccionario quedará vacío, pero seguirá existiendo como un objeto diccionario.\n",
        "\n",
        "```\n",
        "# Ejemplo\n",
        "diccionario = {'a': 1, 'b': 2}\n",
        "diccionario.clear()\n",
        "print(diccionario)  # {}\n",
        "```\n",
        "\n",
        "3. **fromkeys():** El método fromkeys() en Python es un método incorporado de los diccionarios que se utiliza para crear un nuevo diccionario a partir de una secuencia de claves con un valor predeterminado opcional. El método fromkeys() en Python devuelve un diccionario con las claves especificadas y el valor especificado.\n",
        "\n",
        "```\n",
        "# Ejemplo\n",
        "diccionario = {'a': 1, 'b': 2}\n",
        "diccionario.clear()\n",
        "print(diccionario)  # {}\n",
        "```\n",
        "\n",
        "4. **items():** El método . items() de un diccionario de Python devuelve una lista de tuplas para cada par clave-valor de un diccionario.\n",
        "\n",
        "```\n",
        "# Ejemplo\n",
        "diccionario = {'a': 1, 'b': 2}\n",
        "\n",
        "print(diccionario.items())  # dict_items([('a', 1), ('b', 2)])\n",
        "```\n",
        "\n",
        "5. **get():** El método get() devuelve el valor para una clave especificada, o un valor predeterminado si la clave no existe.\n",
        "\n",
        "```\n",
        "# Ejemplo\n",
        "diccionario = {'a': 1, 'b': 2}\n",
        "\n",
        "print(diccionario.get('a'))  # 1\n",
        "print(diccionario.get('c', 'No existe'))  # No existe\n",
        "```\n",
        "\n",
        "6. **keys():** El método keys() devuelve una vista de las claves del diccionario.\n",
        "\n",
        "```\n",
        "# Ejemplo\n",
        "diccionario = {'a': 1, 'b': 2}\n",
        "\n",
        "print(diccionario.keys())  # dict_keys(['a', 'b'])\n",
        "```\n",
        "\n",
        "7. **pop():** El método pop() elimina y devuelve el valor de una clave específica. Si la clave no existe, lanza una excepción.\n",
        "\n",
        "```\n",
        "# Ejemplo\n",
        "diccionario = {'a': 1, 'b': 2}\n",
        "valor = diccionario.pop('a')\n",
        "\n",
        "print(valor)  # 1\n",
        "print(diccionario)  # {'b': 2}\n",
        "```\n",
        "\n",
        "8. **values():** El método values() devuelve una vista de los valores del diccionario.\n",
        "\n",
        "```\n",
        "# Ejemplo\n",
        "diccionario = {'a': 1, 'b': 2}\n",
        "\n",
        "print(diccionario.values())  # dict_values([1, 2])\n",
        "```\n",
        "\n",
        "9. **update():** El método update() actualiza el diccionario con los elementos de otro diccionario o iterable de pares clave-valor.\n",
        "\n",
        "```\n",
        "# Ejemplo\n",
        "diccionario = {'a': 1, 'b': 2}\n",
        "\n",
        "diccionario.update({'b': 3, 'c': 4})\n",
        "\n",
        "print(diccionario)  # {'a': 1, 'b': 3, 'c': 4}\n",
        "```\n",
        "\n",
        "\n",
        "10. **isetdefault():** El método setdefault() devuelve el valor de la clave si existe, o establece la clave con un valor predeterminado si no existe.\n",
        "\n",
        "```\n",
        "# Ejemplo\n",
        "diccionario = {'a': 1}\n",
        "\n",
        "print(diccionario.setdefault('a', 100))  # 1\n",
        "\n",
        "print(diccionario.setdefault('b', 100))  # 100\n",
        "\n",
        "print(diccionario)  # {'a': 1, 'b': 100}\n",
        "```\n",
        "\n",
        "\n",
        "11. **popitem(): ** El método popitem() elimina y devuelve el último par clave-valor del diccionario.\n",
        "\n",
        "```\n",
        "# Ejemplo\n",
        "diccionario = {'a': 1, 'b': 2}\n",
        "par = diccionario.popitem()\n",
        "\n",
        "print(par)  # ('b', 2)\n",
        "print(diccionario)  # {'a': 1}\n",
        "```\n",
        "\n"
      ],
      "metadata": {
        "id": "IgVx6iKJRniO"
      }
    },
    {
      "cell_type": "markdown",
      "source": [
        "## ACTIVIDAD FINAL\n",
        "Resolver los ejercicios de la prueba diagnóstica (puntos del 15 al 25) empleando únicamente diccionarios. Introducir una lista en un diccionario está permitido."
      ],
      "metadata": {
        "id": "IiZccHd6Sby0"
      }
    },
    {
      "cell_type": "code",
      "source": [],
      "metadata": {
        "id": "XMbfCRc6LPFj"
      },
      "execution_count": null,
      "outputs": []
    }
  ]
}