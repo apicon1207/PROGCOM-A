{
  "nbformat": 4,
  "nbformat_minor": 0,
  "metadata": {
    "colab": {
      "provenance": []
    },
    "kernelspec": {
      "name": "python3",
      "display_name": "Python 3"
    },
    "language_info": {
      "name": "python"
    }
  },
  "cells": [
    {
      "cell_type": "markdown",
      "source": [
        "## ACTIVIDAD FINAL\n",
        "Resolver los ejercicios de la prueba diagnóstica (puntos del 15 al 25) empleando únicamente diccionarios. Introducir una lista en un diccionario está permitido."
      ],
      "metadata": {
        "id": "I3J1t6-PWASx"
      }
    },
    {
      "cell_type": "code",
      "source": [
        "# 15 Desarrolla un programa que valide si tres números pueden formar un triángulo y de qué tipo es.\n",
        "\n",
        "lados = {\"n1\": int(input(\"Ingrese el primer numero: \")), \"n2\": int(input(\"Ingrese el segundo numero: \")), \"n3\": int(input(\"Ingrese el tercer numero: \"))}\n",
        "\n",
        "\n",
        "tipos_triangulos= {\"Equilatero\" : \"Equilatero\", \"Isosceles\" : \"Isosceles\", \"Escaleno\":\"Escaleno\"}\n",
        "\n",
        "if (lados[\"n1\"]+ lados[\"n2\"] > lados[\"n3\"] and lados[\"n1\"]+ lados[\"n3\"] > lados[\"n2\"] and lados[\"n2\"]+ lados[\"n3\"] > lados[\"n1\"]):\n",
        "  if lados[\"n1\"] == lados[\"n2\"] == lados[\"n3\"]:\n",
        "    tipo = tipos_triangulos[\"Equilatero\"]\n",
        "  elif (lados[\"n1\"] == lados[\"n2\"] or lados[\"n1\"] == lados[\"n3\"] or lados[\"n2\"] == lados[\"n3\"]):\n",
        "    tipo = tipos_triangulos[\"Isosceles\"]\n",
        "  else:\n",
        "    tipo = tipos_triangulos[\"Escaleno\"]\n",
        "  print(f\"Los números si pueden formar un triángulo y su tipo es: {tipo}\")\n",
        "\n",
        "else:\n",
        "  print(f\"Los números no forman un triángulo\")"
      ],
      "metadata": {
        "colab": {
          "base_uri": "https://localhost:8080/"
        },
        "id": "-nC6xT9g43tV",
        "outputId": "47bbd525-0ee0-414f-ec14-64444230cc28"
      },
      "execution_count": 6,
      "outputs": [
        {
          "output_type": "stream",
          "name": "stdout",
          "text": [
            "Ingrese el primer numero: 3\n",
            "Ingrese el segundo numero: 4\n",
            "Ingrese el tercer numero: 4\n",
            "Los números si pueden formar un triángulo y su tipo es: Isosceles\n"
          ]
        }
      ]
    },
    {
      "cell_type": "code",
      "source": [
        "# 16 Crea un programa que muestre la tabla de multiplicar de un número hasta el 10.\n",
        "\n",
        "numero= {\"y\": int(input(\"Ingrese un numero\\U0001F600: \"))}\n",
        "for num in range(1,11):\n",
        "  print(f\"{numero['y']}*{num}={numero['y']*num}\")"
      ],
      "metadata": {
        "colab": {
          "base_uri": "https://localhost:8080/"
        },
        "id": "3zljWqLc5IXE",
        "outputId": "79b48602-f8da-41c5-8794-676dac0eaa13"
      },
      "execution_count": 14,
      "outputs": [
        {
          "output_type": "stream",
          "name": "stdout",
          "text": [
            "Ingrese un numero😀: 8\n",
            "8*1=8\n",
            "8*2=16\n",
            "8*3=24\n",
            "8*4=32\n",
            "8*5=40\n",
            "8*6=48\n",
            "8*7=56\n",
            "8*8=64\n",
            "8*9=72\n",
            "8*10=80\n"
          ]
        }
      ]
    },
    {
      "cell_type": "code",
      "source": [
        "# 17 Escribe un programa que calcule la suma de números naturales hasta n.\n",
        "\n",
        "calculos= {\"n\" : int(input(\"Ingrese un número: \")), \"suma\" : 0, \"i\" : 1}\n",
        "\n",
        "while calculos[\"i\"]<= calculos[\"n\"]:\n",
        "  calculos[\"suma\"] = calculos[\"suma\"] + calculos[\"i\"]\n",
        "  calculos[\"i\"] = calculos[\"i\"] + 1\n",
        "\n",
        "print(f\"La suma de los números naturales desde 1 hasta {calculos['n']} es: {calculos['suma']}\")"
      ],
      "metadata": {
        "colab": {
          "base_uri": "https://localhost:8080/"
        },
        "id": "tbBsA0zx5Nh0",
        "outputId": "f21ee444-83f8-4dda-fdd9-83166d36f243"
      },
      "execution_count": 18,
      "outputs": [
        {
          "output_type": "stream",
          "name": "stdout",
          "text": [
            "Ingrese un número: 6\n",
            "La suma de los números naturales desde 1 hasta 6 es: 21\n"
          ]
        }
      ]
    },
    {
      "cell_type": "code",
      "source": [
        "#18 Desarrolla un programa que calcule el factorial de un número. Recuerda que el factorial de 0 es 1 y no existen factoriales negativos.\n",
        "\n",
        "factoriales = {\"x\": int(input(\"Ingrese un número: \")), \"factorial\" : 1}\n",
        "\n",
        "for i in range(1, factoriales[\"x\"] + 1):\n",
        "  factoriales[\"factorial\"] = factoriales[\"factorial\"] * i\n",
        "\n",
        "print(f\"El factorial de {factoriales['x']} es: {factoriales['factorial']}\")"
      ],
      "metadata": {
        "colab": {
          "base_uri": "https://localhost:8080/"
        },
        "id": "XL2i6EwO5yVH",
        "outputId": "61cc4489-9b29-47c8-faae-3cbbae1aabf8"
      },
      "execution_count": 20,
      "outputs": [
        {
          "output_type": "stream",
          "name": "stdout",
          "text": [
            "Ingrese un número: 7\n",
            "El factorial de 7 es: 5040\n"
          ]
        }
      ]
    },
    {
      "cell_type": "code",
      "source": [
        "#19 Crea un programa que muestre los primeros n números de la serie Fibonacci.\n",
        "\n",
        "Fibonacci = {\"n\": int(input(\"Ingrese la cantidad de números de la serie Fibonacci que desea ver: \")), \"a\" : 0, \"b\" : 1}\n",
        "\n",
        "for i in range(Fibonacci[\"n\"]):\n",
        "  print(Fibonacci[\"a\"])\n",
        "  Fibonacci[\"a\"], Fibonacci[\"b\"] = Fibonacci[\"b\"], Fibonacci[\"a\"] + Fibonacci[\"b\"]"
      ],
      "metadata": {
        "colab": {
          "base_uri": "https://localhost:8080/"
        },
        "id": "FX7-NrmI52q9",
        "outputId": "05c43137-b0ea-4738-cdfd-d024c918b241"
      },
      "execution_count": 21,
      "outputs": [
        {
          "output_type": "stream",
          "name": "stdout",
          "text": [
            "Ingrese la cantidad de números de la serie Fibonacci que desea ver: 6\n",
            "0\n",
            "1\n",
            "1\n",
            "2\n",
            "3\n",
            "5\n"
          ]
        }
      ]
    },
    {
      "cell_type": "code",
      "source": [
        "#20 Escribe un programa que adivine entre un conjunto de diez colores definidos por el usuario, con un máximo de 10 intentos.\n",
        "\n",
        "import random\n",
        "\n",
        "print (\"Ingresa 10 colores ;): \")\n",
        "colorines= {\"colores\" : [input(\"Color: \") for i in range(10)], \"color_usuario\" : input(\"Elige un color secreto: \")}\n",
        "\n",
        "print(\"Ahora intentaré adivinarlo, solo tendré 10 intentos, deseame suerte\")\n",
        "\n",
        "for intento in range (1,11):\n",
        "  intento_adivinar= random.choice(colorines[\"colores\"])\n",
        "  print(f\"intento {intento}: Será el color {intento_adivinar}?\")\n",
        "\n",
        "  if intento_adivinar == colorines[\"color_usuario\"]:\n",
        "    print(f\"Pude adivinar tu color en {intento} intentos, y el color era el {intento_adivinar}\")\n",
        "    break\n",
        "\n",
        "  else:\n",
        "    print(f\"El color no era {intento_adivinar}, trataré otra vez (si puedo)\")\n",
        "    colorines[\"colores\"].remove(intento_adivinar)\n",
        "\n",
        "else:\n",
        "  print(f\"No pude adivinar tu color, el color era {colorines['color_usuario']}\")"
      ],
      "metadata": {
        "colab": {
          "base_uri": "https://localhost:8080/"
        },
        "id": "repLFHwH58kr",
        "outputId": "ad5af71f-eeeb-4751-90a7-10e538081131"
      },
      "execution_count": 24,
      "outputs": [
        {
          "output_type": "stream",
          "name": "stdout",
          "text": [
            "Ingresa 10 colores ;): \n",
            "Color: rojo\n",
            "Color: azul\n",
            "Color: negro\n",
            "Color: naranja\n",
            "Color: morado\n",
            "Color: verde\n",
            "Color: piel\n",
            "Color: blanco\n",
            "Color: rosado\n",
            "Color: marrón\n",
            "Elige un color secreto: azul\n",
            "Ahora intentaré adivinarlo, solo tendré 10 intentos, deseame suerte\n",
            "intento 1: Será el color marrón?\n",
            "El color no era marrón, trataré otra vez (si puedo)\n",
            "intento 2: Será el color azul?\n",
            "Pude adivinar tu color en 2 intentos, y el color era el azul\n"
          ]
        }
      ]
    },
    {
      "cell_type": "code",
      "source": [
        "#21 Desarrolla un programa que muestre los números pares del 1 al 100.\n",
        "\n",
        "num_par= {\"numeros_pares\" : [num for num in range(1, 101) if num % 2 == 0]}\n",
        "\n",
        "print(\"Lista de números pares:\", num_par[\"numeros_pares\"])"
      ],
      "metadata": {
        "colab": {
          "base_uri": "https://localhost:8080/"
        },
        "id": "wTZPamtq6DwW",
        "outputId": "1a8ef0e4-da6f-4f1e-fef6-68b3ea13160b"
      },
      "execution_count": 27,
      "outputs": [
        {
          "output_type": "stream",
          "name": "stdout",
          "text": [
            "Lista de números pares: [2, 4, 6, 8, 10, 12, 14, 16, 18, 20, 22, 24, 26, 28, 30, 32, 34, 36, 38, 40, 42, 44, 46, 48, 50, 52, 54, 56, 58, 60, 62, 64, 66, 68, 70, 72, 74, 76, 78, 80, 82, 84, 86, 88, 90, 92, 94, 96, 98, 100]\n"
          ]
        }
      ]
    },
    {
      "cell_type": "code",
      "source": [
        "#22 Crea un programa que calcule la suma de los dígitos de un número.\n",
        "\n",
        "numero= input(\"Ingrese un número: \")\n",
        "\n",
        "suma= {\"n\" : numero , \"digitos\" : [int(digito) for digito in numero]}\n",
        "\n",
        "print(\"Lista de dígitos:\", suma[\"digitos\"])\n",
        "\n",
        "suma_digitos = sum(suma[\"digitos\"])\n",
        "print(\"Suma de los dígitos:\", suma_digitos)"
      ],
      "metadata": {
        "colab": {
          "base_uri": "https://localhost:8080/"
        },
        "id": "ExMLDnIY6MLY",
        "outputId": "ad3e5688-bac8-4157-db9b-74ceb047c23a"
      },
      "execution_count": 31,
      "outputs": [
        {
          "output_type": "stream",
          "name": "stdout",
          "text": [
            "Ingrese un número: 5667\n",
            "Lista de dígitos: [5, 6, 6, 7]\n",
            "Suma de los dígitos: 24\n"
          ]
        }
      ]
    },
    {
      "cell_type": "code",
      "source": [
        "#23 Escribe un programa que determine si un número es primo.\n",
        "numero = int(input(\"Ingrese un número: \"))\n",
        "\n",
        "div = {\"divisores\": [i for i in range(1, numero + 1) if numero % i == 0]}\n",
        "\n",
        "print(\"Lista de divisores:\", div[\"divisores\"])\n",
        "\n",
        "primo = len(div[\"divisores\"]) == 2\n",
        "print(f\"El número {numero} {'es primo' if primo else 'no es primo'}\")"
      ],
      "metadata": {
        "colab": {
          "base_uri": "https://localhost:8080/"
        },
        "id": "-rz-jq0J6RgC",
        "outputId": "c2a8df36-369a-4cd8-fc7e-66a5a1bec1d1"
      },
      "execution_count": 32,
      "outputs": [
        {
          "output_type": "stream",
          "name": "stdout",
          "text": [
            "Ingrese un número: 2\n",
            "Lista de divisores: [1, 2]\n",
            "El número 2 es primo\n"
          ]
        }
      ]
    },
    {
      "cell_type": "code",
      "source": [
        "#24 Desarrolla un programa que muestre el patrón de un triángulo con asteriscos.\n",
        "## Suponiendo que es un triángulo rectángulo\n",
        "\n",
        "altura = int(input(\"Ingrese la altura del triángulo: \"))\n",
        "\n",
        "triangulo = {\"t\": ['*' * (i + 1) for i in range(altura)]}\n",
        "\n",
        "print(\"\\n\".join(triangulo['t']))"
      ],
      "metadata": {
        "colab": {
          "base_uri": "https://localhost:8080/"
        },
        "id": "Z5ce4-4w6SQr",
        "outputId": "417c73a1-5aff-42ed-b2b3-14022e31233d"
      },
      "execution_count": 33,
      "outputs": [
        {
          "output_type": "stream",
          "name": "stdout",
          "text": [
            "Ingrese la altura del triángulo: 7\n",
            "*\n",
            "**\n",
            "***\n",
            "****\n",
            "*****\n",
            "******\n",
            "*******\n"
          ]
        }
      ]
    },
    {
      "cell_type": "code",
      "source": [
        "#25 Crea un programa que calcule la potencia de un número sin usar el operador **\n",
        "\n",
        "partes= {\"base\" : int(input(\"Ingrese la base: \")), \"exponente\" : int(input(\"Ingrese el exponente: \"))}\n",
        "\n",
        "potencia = [partes[\"base\"] for _ in range(partes[\"exponente\"])]\n",
        "resultado = 1\n",
        "for num in potencia:\n",
        "    resultado *= num\n",
        "\n",
        "print(f\"{partes['base']} elevado a la {partes['exponente']} es: {resultado}\")"
      ],
      "metadata": {
        "colab": {
          "base_uri": "https://localhost:8080/"
        },
        "id": "d8MmUVXE6XAC",
        "outputId": "d433fad1-70e7-434e-80f6-7b3a2d240cb8"
      },
      "execution_count": 34,
      "outputs": [
        {
          "output_type": "stream",
          "name": "stdout",
          "text": [
            "Ingrese la base: 5\n",
            "Ingrese el exponente: 2\n",
            "5 elevado a la 2 es: 25\n"
          ]
        }
      ]
    }
  ]
}