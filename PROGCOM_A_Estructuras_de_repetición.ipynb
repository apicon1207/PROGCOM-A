{
  "nbformat": 4,
  "nbformat_minor": 0,
  "metadata": {
    "colab": {
      "provenance": []
    },
    "kernelspec": {
      "name": "python3",
      "display_name": "Python 3"
    },
    "language_info": {
      "name": "python"
    }
  },
  "cells": [
    {
      "cell_type": "markdown",
      "source": [
        "#EJERCICIOS 11-20 CON PARA Y MIENTRAS\n",
        "\n",
        "FORMA GENERAL\n",
        "\n",
        "```\n",
        "For (variable) in range (valor inicial, valor final +1, paso):\n",
        "  aquí se coloca todo lo que se va a repetir n veces\n",
        "```\n",
        "FORMA ESPECÍFICA (# DE VECES)\n",
        "\n",
        "\n",
        "```\n",
        "for (variable) in range (n):\n",
        "  aquí se coloca todo lo que se va a repetir n veces\n",
        "```\n",
        "TRABAJANDO CON LISTAS-DICCIONARIOS\n",
        "\n",
        "\n",
        "```\n",
        "for (variable) in lista:\n",
        "  aquí se coloca todo lo que se va a repetir n veces\n",
        "```\n"
      ],
      "metadata": {
        "id": "aSNZbJ06m2eA"
      }
    },
    {
      "cell_type": "code",
      "execution_count": null,
      "metadata": {
        "colab": {
          "base_uri": "https://localhost:8080/"
        },
        "id": "02iwWzy_lsH-",
        "outputId": "0c86f4cf-6b51-4d2c-d4e2-3cb8781920ec"
      },
      "outputs": [
        {
          "output_type": "stream",
          "name": "stdout",
          "text": [
            "ingrese un numero😀: 7\n",
            "7*1=7\n",
            "7*2=14\n",
            "7*3=21\n",
            "7*4=28\n",
            "7*5=35\n",
            "7*6=42\n",
            "7*7=49\n",
            "7*8=56\n",
            "7*9=63\n",
            "7*10=70\n"
          ]
        }
      ],
      "source": [
        "#hacer la tabla d emultiplicar del número n\n",
        "x=int(input(\"ingrese un numero\\U0001F600: \"))\n",
        "for num in range(1,11,1):\n",
        "  print(f\"{x}*{num}={x*num}\")"
      ]
    },
    {
      "cell_type": "code",
      "source": [
        "#hacer la tabla d emultiplicar del número n\n",
        "x=int(input(\"ingrese un numero\\U0001F600: \"))\n",
        "for num in range(1,11):\n",
        "  print(f\"{x}*{num}={x*num}\")"
      ],
      "metadata": {
        "colab": {
          "base_uri": "https://localhost:8080/"
        },
        "id": "ydoHaWQcp47u",
        "outputId": "94093519-2915-4812-aaae-8348d649dafa"
      },
      "execution_count": null,
      "outputs": [
        {
          "output_type": "stream",
          "name": "stdout",
          "text": [
            "ingrese un numero😀: 8\n",
            "8*1=8\n",
            "8*2=16\n",
            "8*3=24\n",
            "8*4=32\n",
            "8*5=40\n",
            "8*6=48\n",
            "8*7=56\n",
            "8*8=64\n",
            "8*9=72\n",
            "8*10=80\n"
          ]
        }
      ]
    },
    {
      "cell_type": "code",
      "source": [
        "lista= [1,2,3,4,5,6,7,8,9,10]\n",
        "for num in lista:\n",
        "  print(f\"{x}*{num}={x*num}\")"
      ],
      "metadata": {
        "colab": {
          "base_uri": "https://localhost:8080/"
        },
        "id": "XyDHcI_wnlDg",
        "outputId": "a0ec13fb-d0fe-40c8-d4e3-46b96f4bdb22"
      },
      "execution_count": null,
      "outputs": [
        {
          "output_type": "stream",
          "name": "stdout",
          "text": [
            "8*1=8\n",
            "8*2=16\n",
            "8*3=24\n",
            "8*4=32\n",
            "8*5=40\n",
            "8*6=48\n",
            "8*7=56\n",
            "8*8=64\n",
            "8*9=72\n",
            "8*10=80\n"
          ]
        }
      ]
    },
    {
      "cell_type": "code",
      "source": [
        "#hacer la tabla d emultiplicar del número n\n",
        "print( \"tabla del 2 \\U0001F600: \")\n",
        "for num in range(2,21,2):\n",
        "  print(f\"2 * {int(num/2)} = {num}\")"
      ],
      "metadata": {
        "colab": {
          "base_uri": "https://localhost:8080/"
        },
        "id": "nmYzYmi1qEa8",
        "outputId": "c388c6b5-379f-4979-f37b-f963c1760509"
      },
      "execution_count": null,
      "outputs": [
        {
          "output_type": "stream",
          "name": "stdout",
          "text": [
            "tabla del 2 😀: \n",
            "2 * 1 = 2\n",
            "2 * 2 = 4\n",
            "2 * 3 = 6\n",
            "2 * 4 = 8\n",
            "2 * 5 = 10\n",
            "2 * 6 = 12\n",
            "2 * 7 = 14\n",
            "2 * 8 = 16\n",
            "2 * 9 = 18\n",
            "2 * 10 = 20\n"
          ]
        }
      ]
    },
    {
      "cell_type": "markdown",
      "source": [
        "##MÉTODO BREAK\n",
        "Se emplea para romper estructuras de repetición"
      ],
      "metadata": {
        "id": "tH5oBCJYrV_r"
      }
    },
    {
      "cell_type": "code",
      "source": [
        "import random\n",
        "colores= [\"azul\", \"negro\", \"verde\", \"rojo\", \"blanco\"]\n",
        "color_cpu= colores[random.randint(0,4)]"
      ],
      "metadata": {
        "id": "-gbMiReTyZce"
      },
      "execution_count": null,
      "outputs": []
    },
    {
      "cell_type": "code",
      "source": [
        "for i in range (5):\n",
        "  opc=input(\"Adivina el color en el que estoy pensando \\U0001F61C: \")\n",
        "  if opc == color_cpu:\n",
        "    print(f\"El color era {color_cpu} \\U0001F972, ¡ADIVINASTE!\")\n",
        "    break\n",
        "  else:\n",
        "    print(f\"¡PERDISTE LOSER! \\U0001F923\")"
      ],
      "metadata": {
        "colab": {
          "base_uri": "https://localhost:8080/"
        },
        "id": "skzfLPxArpob",
        "outputId": "a313a22f-3279-4709-8e0f-b6bb4fadc491"
      },
      "execution_count": null,
      "outputs": [
        {
          "output_type": "stream",
          "name": "stdout",
          "text": [
            "Adivina el color en el que estoy pensando 😜: azul\n",
            "¡PERDISTE LOSER! 🤣\n",
            "Adivina el color en el que estoy pensando 😜: blanco\n",
            "¡PERDISTE LOSER! 🤣\n",
            "Adivina el color en el que estoy pensando 😜: verde\n",
            "¡PERDISTE LOSER! 🤣\n",
            "Adivina el color en el que estoy pensando 😜: negro\n",
            "El color era negro 🥲, ¡ADIVINASTE!\n"
          ]
        }
      ]
    },
    {
      "cell_type": "markdown",
      "source": [
        "##Estructura de repetición MIENTRAS - WHILE\n",
        "Se emplea cuando **NO** se sabe cuantas veces se debe repetir una operación\n",
        "1. Una condición inicial\n",
        "2. Una codición final\n",
        "3. Un mecanismo que altere la condición inicial\n",
        "\n",
        "```\n",
        "ci = condición inicial\n",
        "while (cf):\n",
        "  operaciones...\n",
        "  mecanismo de alteración de ci\n",
        "```\n",
        "a veces la condición final se remplaza por true\n",
        "se usan banderas que alteran true a false\n",
        "\n",
        "```\n",
        "while True:\n",
        "  El modificado de condición inicial debe dar\n",
        "  False\n",
        "```\n",
        " ANOTACIONES :\n",
        " 1. float('inf') es una constante en Python que representa el infinito positivo. Es un valor numérico que es mayor que cualquier otro número finito.\n",
        " 2. En Python, len es una función incorporada (built-in function) que se utiliza para obtener la longitud o el número de elementos en un objeto, como una cadena de texto, una lista, una tupla, un diccionario, etc.\n",
        " 3. Se utilizan llaves {} para definir el diccionario"
      ],
      "metadata": {
        "id": "1ugyteT4wWlX"
      }
    },
    {
      "cell_type": "code",
      "source": [
        "opc=input(\"Adivina el color en el que estoy pensando \\U0001F61C: \")#condición inicial\n",
        "while opc!= color_cpu: #condición final\n",
        "  print(f\"¡PERDISTE LOSER! \\U0001F923\")\n",
        "  opc=input(\"Adivina el color en el que estoy pensando \\U0001F61C: \") #modificador\n",
        "\n",
        "print(f\"El color era {color_cpu} \\U0001F972, ¡ADIVINASTE!\")"
      ],
      "metadata": {
        "colab": {
          "base_uri": "https://localhost:8080/"
        },
        "id": "1ZWxOPvWwTNp",
        "outputId": "a5e59132-e2e9-41d9-8eb3-045d4f50eb63"
      },
      "execution_count": null,
      "outputs": [
        {
          "output_type": "stream",
          "name": "stdout",
          "text": [
            "Adivina el color en el que estoy pensando 😜: azul\n",
            "¡PERDISTE LOSER! 🤣\n",
            "Adivina el color en el que estoy pensando 😜: verde\n",
            "¡PERDISTE LOSER! 🤣\n",
            "Adivina el color en el que estoy pensando 😜: negro\n",
            "El color era negro 🥲, ¡ADIVINASTE!\n"
          ]
        }
      ]
    },
    {
      "cell_type": "code",
      "source": [
        "#Escribe un programa que calcule el índice de masa corporal (IMC) y determine la categoría (bajo peso, normal, sobrepeso, obesidad).\n",
        "#Al final, el programa debe imprimir: el nombre del usuario, su categoría y una breve descripción de lo que debe hacer de acuerdo a su categoría.\n",
        "## FOR\n",
        "\n",
        "nombre= input(\"Ingrese su nombre: \")\n",
        "peso= float(input(\"Ingrese su peso en kg: \"))\n",
        "estatura= float(input(\"Ingrese su estatura en metros: \"))\n",
        "\n",
        "IMC= peso/(estatura**2)\n",
        "\n",
        "categorias= [\"bajo peso\", \"normal\", \"sobrepeso\", \"obesidad\"]\n",
        "rango= [18.5, 24.9, 29.9, float('inf')]\n",
        "\n",
        "for i in range(len(categorias)):\n",
        "  if IMC < rango[i]:\n",
        "    categoria = categorias[i]\n",
        "    break\n",
        "\n",
        "recomendaciones = {\"bajo peso\": \"Le recomendamos consultar un nutricionista que le ayude a subir de peso de manera saludable.\", \"normal\": \"¡Felicidades!, usted está en su peso ideal.\", \"sobrepeso\": \"Le recomendamos aumentar actividad física y disminuir consumo de calorías.\", \"obesidad\": \"Le recomendamos consultar un especialista en salud que le ayude a bajar de peso.\"}\n",
        "\n",
        "print(f\"{nombre}, su IMC es de {IMC}, está en la categoria: {categoria}.\")\n",
        "print(recomendaciones[categoria])"
      ],
      "metadata": {
        "id": "t5dh17zizXE2",
        "colab": {
          "base_uri": "https://localhost:8080/"
        },
        "outputId": "713aa0e7-14b2-4bd3-906e-697d481c52ec"
      },
      "execution_count": null,
      "outputs": [
        {
          "output_type": "stream",
          "name": "stdout",
          "text": [
            "Ingrese su nombre: Angélica\n",
            "Ingrese su peso en kg: 62\n",
            "Ingrese su estatura en metros: 1.65\n",
            "Angélica, su IMC es de 22.77318640955005, está en la categoria: normal.\n",
            "¡Felicidades!, usted está en su peso ideal.\n"
          ]
        }
      ]
    },
    {
      "cell_type": "code",
      "source": [
        "#Escribe un programa que calcule el índice de masa corporal (IMC) y determine la categoría (bajo peso, normal, sobrepeso, obesidad).\n",
        "#Al final, el programa debe imprimir: el nombre del usuario, su categoría y una breve descripción de lo que debe hacer de acuerdo a su categoría.\n",
        "## WHILE\n",
        "\n",
        "nombre= input(\"Ingrese su nombre: \")\n",
        "peso= float(input(\"Ingrese su peso en kg: \"))\n",
        "estatura= float(input(\"Ingrese su estatura en metros: \"))\n",
        "\n",
        "IMC= peso/(estatura**2)\n",
        "\n",
        "categorias= [\"bajo peso\", \"normal\", \"sobrepeso\", \"obesidad\"]\n",
        "rango= [18.5, 24.9, 29.9, float('inf')]\n",
        "i= 0\n",
        "\n",
        "while i < len(categorias):\n",
        "  if IMC < rango[i]:\n",
        "    categoria = categorias[i]\n",
        "    break\n",
        "  i= i + 1\n",
        "\n",
        "recomendaciones = {\"bajo peso\": \"Le recomendamos consultar un nutricionista que le ayude a subir de peso de manera saludable.\", \"normal\": \"¡Felicidades!, usted está en su peso ideal.\", \"sobrepeso\": \"Le recomendamos aumentar actividad física y disminuir consumo de calorías.\", \"obesidad\": \"Le recomendamos consultar un especialista en salud que le ayude a bajar de peso.\"}\n",
        "\n",
        "print(f\"{nombre}, su IMC es de {IMC}, está en la categoria: {categoria}.\")\n",
        "print(recomendaciones[categoria])"
      ],
      "metadata": {
        "colab": {
          "base_uri": "https://localhost:8080/"
        },
        "id": "p9i7qU5U_Owv",
        "outputId": "5ad9b0ed-c3a4-42eb-f354-75026bd3fa00"
      },
      "execution_count": null,
      "outputs": [
        {
          "output_type": "stream",
          "name": "stdout",
          "text": [
            "Ingrese su nombre: Angélica\n",
            "Ingrese su peso en kg: 89\n",
            "Ingrese su estatura en metros: 1.6\n",
            "Angélica, su IMC es de 34.76562499999999, está en la categoria: obesidad.\n",
            "Le recomendamos consultar un especialista en salud que le ayude a bajar de peso.\n"
          ]
        }
      ]
    },
    {
      "cell_type": "code",
      "source": [
        "#Desarrolla un programa que simule una calculadora simple (+, -, *, /) con dos números.\n",
        "## FOR\n",
        "\n",
        "n1= float(input(\"Ingrese el primer numero: \"))\n",
        "n2= float(input(\"Ingrese el segundo numero: \"))\n",
        "\n",
        "operaciones= [\"suma\", \"resta\", \"multiplicacion\", \"division\"]\n",
        "\n",
        "for i in range(len(operaciones)):\n",
        "  if i == 0:\n",
        "    print(f\"{n1} + {n2} = {n1+n2}\")\n",
        "  elif i == 1:\n",
        "    print(f\"{n1} - {n2} = {n1-n2}\")\n",
        "  elif i == 2:\n",
        "    print(f\"{n1} * {n2} = {n1*n2}\")\n",
        "  else:\n",
        "    print(f\"{n1} / {n2} = {n1/n2}\")"
      ],
      "metadata": {
        "colab": {
          "base_uri": "https://localhost:8080/"
        },
        "id": "9hE0W9qY_Q4s",
        "outputId": "d5854478-2f00-49d8-ff76-482a66b497c6"
      },
      "execution_count": null,
      "outputs": [
        {
          "output_type": "stream",
          "name": "stdout",
          "text": [
            "Ingrese el primer numero: 3\n",
            "Ingrese el segundo numero: 3\n",
            "3.0 + 3.0 = 6.0\n",
            "3.0 - 3.0 = 0.0\n",
            "3.0 * 3.0 = 9.0\n",
            "3.0 / 3.0 = 1.0\n"
          ]
        }
      ]
    },
    {
      "cell_type": "code",
      "source": [
        "#Desarrolla un programa que simule una calculadora simple (+, -, *, /) con dos números.\n",
        "## WHILE\n",
        "\n",
        "n1= float(input(\"Ingrese el primer numero: \"))\n",
        "n2= float(input(\"Ingrese el segundo numero: \"))\n",
        "\n",
        "operaciones= [\"suma\", \"resta\", \"multiplicacion\", \"division\"]\n",
        "i= 0\n",
        "\n",
        "while i < len(operaciones):\n",
        "  if i == 0:\n",
        "    print(f\"{n1} + {n2} = {n1+n2}\")\n",
        "  elif i == 1:\n",
        "    print(f\"{n1} - {n2} = {n1-n2}\")\n",
        "  elif i == 2:\n",
        "    print(f\"{n1} * {n2} = {n1*n2}\")\n",
        "  else:\n",
        "    print(f\"{n1} / {n2} = {n1/n2}\")\n",
        "  i= i + 1"
      ],
      "metadata": {
        "colab": {
          "base_uri": "https://localhost:8080/"
        },
        "id": "b1hjog_X_WxW",
        "outputId": "825fb085-a5ae-4505-c80a-d26b3b741dff"
      },
      "execution_count": null,
      "outputs": [
        {
          "output_type": "stream",
          "name": "stdout",
          "text": [
            "Ingrese el primer numero: 4\n",
            "Ingrese el segundo numero: 4\n",
            "4.0 + 4.0 = 8.0\n",
            "4.0 - 4.0 = 0.0\n",
            "4.0 * 4.0 = 16.0\n",
            "4.0 / 4.0 = 1.0\n"
          ]
        }
      ]
    },
    {
      "cell_type": "code",
      "source": [
        "#Crea un programa que determine la calificación en letras (A, B, C, D, F) según una nota numérica (0-100).\n",
        "## FOR\n",
        "\n",
        "nota= int(input(\"Ingrese su nota(0-100): \"))\n",
        "\n",
        "calificaciones= [\"A\", \"B\", \"C\", \"D\", \"F\"]\n",
        "rango= [80, 70, 50, 20, 0]\n",
        "\n",
        "for i in range(len(calificaciones)):\n",
        "  if nota >= rango[i]:\n",
        "    calificacion = calificaciones[i]\n",
        "    break\n",
        "\n",
        "print(f\"Su calificacion es: {calificacion}\")"
      ],
      "metadata": {
        "colab": {
          "base_uri": "https://localhost:8080/"
        },
        "id": "qNOYLKRc_ciV",
        "outputId": "8b1b5cd1-d9f5-4ff5-e54a-69fb4e32c0c6"
      },
      "execution_count": null,
      "outputs": [
        {
          "output_type": "stream",
          "name": "stdout",
          "text": [
            "Ingrese su nota(0-100): 100\n",
            "Su calificacion es: A\n"
          ]
        }
      ]
    },
    {
      "cell_type": "code",
      "source": [
        "#Crea un programa que determine la calificación en letras (A, B, C, D, F) según una nota numérica (0-100).\n",
        "## WHILE\n",
        "\n",
        "nota= int(input(\"Ingrese su nota(0-100): \"))\n",
        "\n",
        "calificaciones= [\"A\", \"B\", \"C\", \"D\", \"F\"]\n",
        "rango= [80, 70, 50, 20, 0]\n",
        "i= 0\n",
        "\n",
        "while i <len(calificaciones):\n",
        "  if nota >= rango[i]:\n",
        "    calificacion = calificaciones[i]\n",
        "    break\n",
        "  i= i + 1\n",
        "\n",
        "print(f\"Su calificacion es: {calificacion}\")"
      ],
      "metadata": {
        "colab": {
          "base_uri": "https://localhost:8080/"
        },
        "id": "pJkfUkNf_hCY",
        "outputId": "7cc8333d-63c3-4814-8489-f6e194d4e854"
      },
      "execution_count": null,
      "outputs": [
        {
          "output_type": "stream",
          "name": "stdout",
          "text": [
            "Ingrese su nota(0-100): 78\n",
            "Su calificacion es: B\n"
          ]
        }
      ]
    },
    {
      "cell_type": "code",
      "source": [
        "#Escribe un programa que determine el día de la semana según un número (1-7).\n",
        "## FOR\n",
        "\n",
        "numero= int(input(\"Ingrese un numero del 1 al 7: \"))\n",
        "\n",
        "dias= [\"Lunes \\U0001F62C\", \"Martes\", \"Miercoles\", \"Jueves\", \"Viernes \\U0001F929\", \"Sabado \\U0001F929\", \"Domingo \\U0001F929\"]\n",
        "\n",
        "for i in range(len(dias)):\n",
        "  if numero == i + 1:\n",
        "    dia = dias[i]\n",
        "    break\n",
        "\n",
        "print(f\"El dia de la semana es: {dia}\")"
      ],
      "metadata": {
        "colab": {
          "base_uri": "https://localhost:8080/"
        },
        "id": "ICiGpuGT_n8z",
        "outputId": "89a27408-b635-4e21-a3bd-aff571ce5eec"
      },
      "execution_count": null,
      "outputs": [
        {
          "output_type": "stream",
          "name": "stdout",
          "text": [
            "Ingrese un numero del 1 al 7: 6\n",
            "El dia de la semana es: Sabado 🤩\n"
          ]
        }
      ]
    },
    {
      "cell_type": "code",
      "source": [
        "#Escribe un programa que determine el día de la semana según un número (1-7).\n",
        "## WHILE\n",
        "\n",
        "numero= int(input(\"Ingrese un numero del 1 al 7: \"))\n",
        "\n",
        "dias= [\"Lunes \\U0001F62C\", \"Martes\", \"Miercoles\", \"Jueves\", \"Viernes \\U0001F929\", \"Sabado \\U0001F929\", \"Domingo \\U0001F929\"]\n",
        "i= 0\n",
        "\n",
        "while i < len(dias):\n",
        "  if numero == i + 1:\n",
        "    dia = dias[i]\n",
        "    break\n",
        "  i= i + 1\n",
        "\n",
        "print(f\"El dia de la semana es: {dia}\")"
      ],
      "metadata": {
        "colab": {
          "base_uri": "https://localhost:8080/"
        },
        "id": "2wotsXXJ_soZ",
        "outputId": "76895475-d94f-43e7-e2ff-ab99a5d072b8"
      },
      "execution_count": null,
      "outputs": [
        {
          "output_type": "stream",
          "name": "stdout",
          "text": [
            "Ingrese un numero del 1 al 7: 7\n",
            "El dia de la semana es: Domingo 🤩\n"
          ]
        }
      ]
    },
    {
      "cell_type": "code",
      "source": [
        "#Desarrolla un programa que valide si tres números pueden formar un triángulo y de qué tipo es.\n",
        "## FOR\n",
        "\n",
        "n1= int(input(\"Ingrese el primer numero: \"))\n",
        "n2= int(input(\"Ingrese el segundo numero: \"))\n",
        "n3= int(input(\"Ingrese el tercer numero: \"))\n",
        "\n",
        "triangulos= [\"Equilatero\", \"Isosceles\", \"Escaleno\"]\n",
        "\n",
        "if n1+ n2 > n3 and n1+ n3 > n2 and n2+ n3 > n1:\n",
        "  for i in range(len(triangulos)):\n",
        "    if n1 == n2 == n3:\n",
        "      triangulo = triangulos[0]\n",
        "    elif n1 == n2 or n1 == n3 or n2 == n3:\n",
        "      triangulo = triangulos[1]\n",
        "    else:\n",
        "      triangulo = triangulos[2]\n",
        "  print(f\"Los números si pueden formar un triángulo y su tipo es: {triangulo}\")\n",
        "\n",
        "else:\n",
        "  print(f\"Los números no forman un triángulo\")"
      ],
      "metadata": {
        "colab": {
          "base_uri": "https://localhost:8080/"
        },
        "id": "MIsc2e6iLY8T",
        "outputId": "c732f5fe-c1bc-42ac-9f0b-818340d2b403"
      },
      "execution_count": null,
      "outputs": [
        {
          "output_type": "stream",
          "name": "stdout",
          "text": [
            "Ingrese el primer numero: 4\n",
            "Ingrese el segundo numero: 7\n",
            "Ingrese el tercer numero: 6\n",
            "Los números si pueden formar un triángulo y su tipo es: Escaleno\n"
          ]
        }
      ]
    },
    {
      "cell_type": "code",
      "source": [
        "#Desarrolla un programa que valide si tres números pueden formar un triángulo y de qué tipo es.\n",
        "## WHILE\n",
        "\n",
        "n1= int(input(\"Ingrese el primer numero: \"))\n",
        "n2= int(input(\"Ingrese el segundo numero: \"))\n",
        "n3= int(input(\"Ingrese el tercer numero: \"))\n",
        "\n",
        "triangulos= [\"Equilatero\", \"Isosceles\", \"Escaleno\"]\n",
        "\n",
        "while n1+ n2 > n3 and n1+ n3 > n2 and n2+ n3 > n1:\n",
        "  if n1 == n2 == n3:\n",
        "    triangulo = triangulos[0]\n",
        "  elif n1 == n2 or n1 == n3 or n2 == n3:\n",
        "    triangulo = triangulos[1]\n",
        "  else:\n",
        "    triangulo = triangulos[2]\n",
        "  print(f\"Los números si pueden formar un triángulo y su tipo es: {triangulo}\")\n",
        "  break\n",
        "\n",
        "else:\n",
        "  print(f\"Los números no forman un triángulo\")"
      ],
      "metadata": {
        "colab": {
          "base_uri": "https://localhost:8080/"
        },
        "id": "M75Hf454_zNf",
        "outputId": "de7c2933-523e-4397-a8a3-ad8a7aaa7856"
      },
      "execution_count": null,
      "outputs": [
        {
          "output_type": "stream",
          "name": "stdout",
          "text": [
            "Ingrese el primer numero: 3\n",
            "Ingrese el segundo numero: 4\n",
            "Ingrese el tercer numero: 19\n",
            "Los números no forman un triángulo\n"
          ]
        }
      ]
    },
    {
      "cell_type": "code",
      "source": [
        "#Crea un programa que muestre la tabla de multiplicar de un número hasta el 10.\n",
        "## FOR\n",
        "\n",
        "y=int(input(\"Ingrese un numero\\U0001F600: \"))\n",
        "for num in range(1,11):\n",
        "  print(f\"{y}*{num}={y*num}\")"
      ],
      "metadata": {
        "id": "SmdKyRtqAFlC",
        "colab": {
          "base_uri": "https://localhost:8080/"
        },
        "outputId": "2cb7c84b-ca1d-4aeb-a23e-5d8b8731706f"
      },
      "execution_count": 3,
      "outputs": [
        {
          "output_type": "stream",
          "name": "stdout",
          "text": [
            "Ingrese un numero😀: 7\n",
            "7*1=7\n",
            "7*2=14\n",
            "7*3=21\n",
            "7*4=28\n",
            "7*5=35\n",
            "7*6=42\n",
            "7*7=49\n",
            "7*8=56\n",
            "7*9=63\n",
            "7*10=70\n"
          ]
        }
      ]
    },
    {
      "cell_type": "code",
      "source": [
        "#Crea un programa que muestre la tabla de multiplicar de un número hasta el 10.\n",
        "## WHILE\n",
        "\n",
        "z= int(input(\"Ingrese un numero\\U0001F600: \"))\n",
        "i= 1\n",
        "\n",
        "while i <= 10:\n",
        "  print(f\"{z}*{i}={z*i}\")\n",
        "  i= i + 1"
      ],
      "metadata": {
        "id": "B3kS66hFAHKw",
        "colab": {
          "base_uri": "https://localhost:8080/"
        },
        "outputId": "ec9f73fd-536f-4392-d1f9-300c53294cbf"
      },
      "execution_count": 4,
      "outputs": [
        {
          "output_type": "stream",
          "name": "stdout",
          "text": [
            "Ingrese un numero😀: 9\n",
            "9*1=9\n",
            "9*2=18\n",
            "9*3=27\n",
            "9*4=36\n",
            "9*5=45\n",
            "9*6=54\n",
            "9*7=63\n",
            "9*8=72\n",
            "9*9=81\n",
            "9*10=90\n"
          ]
        }
      ]
    },
    {
      "cell_type": "code",
      "source": [
        "#Escribe un programa que calcule la suma de números naturales hasta n.\n",
        "## FOR\n",
        "\n",
        "n = int(input(\"Ingrese un número: \"))\n",
        "suma = 0\n",
        "\n",
        "for i in range(1, n + 1):\n",
        "    suma = suma + i\n",
        "\n",
        "print(f\"La suma de los números naturales desde 1 hasta {n} es: {suma}\")"
      ],
      "metadata": {
        "id": "gW3BzeC6AJG0",
        "colab": {
          "base_uri": "https://localhost:8080/"
        },
        "outputId": "3d573438-abc0-43f3-bfd7-ebf653139a55"
      },
      "execution_count": 7,
      "outputs": [
        {
          "output_type": "stream",
          "name": "stdout",
          "text": [
            "Ingrese un número: 8\n",
            "La suma de los números naturales desde 1 hasta 8 es: 36\n"
          ]
        }
      ]
    },
    {
      "cell_type": "code",
      "source": [
        "#Escribe un programa que calcule la suma de números naturales hasta n.\n",
        "## WHILE\n",
        "\n",
        "n = int(input(\"Ingrese un número: \"))\n",
        "suma= 0\n",
        "i= 1\n",
        "\n",
        "while i<= n:\n",
        "  suma= suma + i\n",
        "  i= i + 1\n",
        "\n",
        "print(f\"La suma de los números naturales desde 1 hasta {n} es: {suma}\")"
      ],
      "metadata": {
        "id": "s50vg6-wAMTI",
        "colab": {
          "base_uri": "https://localhost:8080/"
        },
        "outputId": "7f124119-67d5-496c-f8cf-ea1b96cf4023"
      },
      "execution_count": 8,
      "outputs": [
        {
          "output_type": "stream",
          "name": "stdout",
          "text": [
            "Ingrese un número: 4\n",
            "La suma de los números naturales desde 1 hasta 4 es: 10\n"
          ]
        }
      ]
    },
    {
      "cell_type": "code",
      "source": [
        "#Desarrolla un programa que calcule el factorial de un número. Recuerda que el factorial de 0 es 1 y no existen factoriales negativos.\n",
        "## FOR\n",
        "\n",
        "x= int(input(\"Ingrese un número: \"))\n",
        "factorial = 1\n",
        "\n",
        "for i in range(1, x + 1):\n",
        "  factorial = factorial * i\n",
        "\n",
        "print(f\"El factorial de {x} es: {factorial}\")"
      ],
      "metadata": {
        "id": "Xu_FLrooAOQ8",
        "colab": {
          "base_uri": "https://localhost:8080/"
        },
        "outputId": "bb7e9903-8ea1-4409-9b68-a622373227d3"
      },
      "execution_count": 13,
      "outputs": [
        {
          "output_type": "stream",
          "name": "stdout",
          "text": [
            "Ingrese un número: 7\n",
            "El factorial de 7 es: 5040\n"
          ]
        }
      ]
    },
    {
      "cell_type": "code",
      "source": [
        "#Desarrolla un programa que calcule el factorial de un número. Recuerda que el factorial de 0 es 1 y no existen factoriales negativos.\n",
        "## WHILE\n",
        "\n",
        "x= int(input(\"Ingrese un número: \"))\n",
        "factorial = 1\n",
        "i= 1\n",
        "\n",
        "while i <= x:\n",
        "  factorial = factorial * i\n",
        "  i= i + 1\n",
        "\n",
        "print(f\"El factorial de {x} es: {factorial}\")"
      ],
      "metadata": {
        "id": "8teVQhkrASp_",
        "colab": {
          "base_uri": "https://localhost:8080/"
        },
        "outputId": "d2ba475f-65c8-410c-d1f8-2b18bf6bedb6"
      },
      "execution_count": 17,
      "outputs": [
        {
          "output_type": "stream",
          "name": "stdout",
          "text": [
            "Ingrese un número: 4\n",
            "El factorial de 4 es: 24\n"
          ]
        }
      ]
    },
    {
      "cell_type": "code",
      "source": [
        "#Crea un programa que muestre los primeros n números de la serie Fibonacci.\n",
        "## FOR\n",
        "\n",
        "n= int(input(\"Ingrese la cantidad de números de la serie Fibonacci que desea ver: \"))\n",
        "a, b = 0, 1\n",
        "\n",
        "for i in range(n):\n",
        "  print(a)\n",
        "  a, b = b, a + b"
      ],
      "metadata": {
        "id": "RZwneT51AXAf",
        "colab": {
          "base_uri": "https://localhost:8080/"
        },
        "outputId": "a480675d-4901-4792-ccd9-c860900d2f28"
      },
      "execution_count": 20,
      "outputs": [
        {
          "output_type": "stream",
          "name": "stdout",
          "text": [
            "Ingrese la cantidad de números de la serie Fibonacci que desea ver: 10\n",
            "0\n",
            "1\n",
            "1\n",
            "2\n",
            "3\n",
            "5\n",
            "8\n",
            "13\n",
            "21\n",
            "34\n"
          ]
        }
      ]
    },
    {
      "cell_type": "code",
      "source": [
        "#Crea un programa que muestre los primeros n números de la serie Fibonacci.\n",
        "## WHILE\n",
        "\n",
        "\n",
        "n= int(input(\"Ingrese la cantidad de números de la serie Fibonacci que desea ver: \"))\n",
        "a, b = 0, 1\n",
        "i = 1\n",
        "\n",
        "while i <= n:\n",
        "  print(a)\n",
        "  a, b = b, a + b\n",
        "  i= i + 1"
      ],
      "metadata": {
        "id": "GAseBxb5Aa35",
        "colab": {
          "base_uri": "https://localhost:8080/"
        },
        "outputId": "545fb628-4afc-4e7b-ddd9-36e64c7e4f85"
      },
      "execution_count": 22,
      "outputs": [
        {
          "output_type": "stream",
          "name": "stdout",
          "text": [
            "Ingrese la cantidad de números de la serie Fibonacci que desea ver: 11\n",
            "0\n",
            "1\n",
            "1\n",
            "2\n",
            "3\n",
            "5\n",
            "8\n",
            "13\n",
            "21\n",
            "34\n",
            "55\n"
          ]
        }
      ]
    },
    {
      "cell_type": "code",
      "source": [
        "#Escribe un programa que adivine entre un conjunto de diez colores definidos por el usuario, con un máximo de 10 intentos.\n",
        "## FOR\n",
        "\n",
        "import random\n",
        "\n",
        "print (\"Ingresa 10 colores ;): \")\n",
        "colores = [input(\"Color: \") for i in range(10)]\n",
        "\n",
        "color_usuario = input(\"Elige un color secreto: \")\n",
        "print(\"Ahora intentaré adivinarlo, solo tendré 10 intentos, deseame suerte\")\n",
        "\n",
        "for intento in range (1,11):\n",
        "  intento_adivinar= random.choice(colores)\n",
        "  print(f\"intento {intento}: Será el color {intento_adivinar}?\")\n",
        "\n",
        "  if intento_adivinar == color_usuario:\n",
        "    print(f\"Pude adivinar tu color en {intento} intentos, y el color era el {intento_adivinar}\")\n",
        "    break\n",
        "\n",
        "  else:\n",
        "    print(f\"El color no era {intento_adivinar}, trataré otra vez (si puedo)\")\n",
        "    colores.remove(intento_adivinar)\n",
        "\n",
        "else:\n",
        "  print(f\"No pude adivinar tu color, el color era {color_usuario}\")"
      ],
      "metadata": {
        "id": "EYn7phh8AdkI",
        "colab": {
          "base_uri": "https://localhost:8080/"
        },
        "outputId": "8c874387-d881-4775-8dfe-4c780245c060"
      },
      "execution_count": 26,
      "outputs": [
        {
          "output_type": "stream",
          "name": "stdout",
          "text": [
            "Ingresa 10 colores ;): \n",
            "Color: azul\n",
            "Color: verde\n",
            "Color: morado\n",
            "Color: rosado\n",
            "Color: negro\n",
            "Color: blanco\n",
            "Color: rojo\n",
            "Color: naranja\n",
            "Color: verde lima\n",
            "Color: maxi\n",
            "Elige un color secreto: maxi\n",
            "Ahora intentaré adivinarlo, solo tendré 10 intentos, deseame suerte\n",
            "intento 1: Será el color verde lima?\n",
            "El color no era verde lima, trataré otra vez (si puedo)\n",
            "intento 2: Será el color blanco?\n",
            "El color no era blanco, trataré otra vez (si puedo)\n",
            "intento 3: Será el color maxi?\n",
            "Pude adivinar tu color en 3 intentos, y el color era el maxi\n"
          ]
        }
      ]
    },
    {
      "cell_type": "code",
      "source": [
        "#Escribe un programa que adivine entre un conjunto de diez colores definidos por el usuario, con un máximo de 10 intentos.\n",
        "## WHILE\n",
        "\n",
        "import random\n",
        "\n",
        "print (\"Ingresa 10 colores ;): \")\n",
        "colores = [input(\"Color: \") for i in range(10)]\n",
        "\n",
        "color_usuario = input(\"Elige un color secreto: \")\n",
        "print(\"Ahora intentaré adivinarlo, solo tendré 10 intentos, deseame suerte\")\n",
        "i= 1\n",
        "\n",
        "while i <= 10:\n",
        "  intento_adivinar= random.choice(colores)\n",
        "  print(f\"intento {i}: Será el color {intento_adivinar}?\")\n",
        "\n",
        "  if intento_adivinar == color_usuario:\n",
        "    print(f\"Pude adivinar tu color en {i} intentos, y el color era el {intento_adivinar}\")\n",
        "    break\n",
        "\n",
        "  else:\n",
        "    print(f\"El color no era {intento_adivinar}, trataré otra vez (si puedo)\")\n",
        "    colores.remove(intento_adivinar)\n",
        "    i= i + 1\n",
        "\n",
        "else:\n",
        "  print(f\"No pude adivinar tu color, el color era {color_usuario}\")"
      ],
      "metadata": {
        "id": "_alwqPGdAib_",
        "colab": {
          "base_uri": "https://localhost:8080/"
        },
        "outputId": "3d8cbd07-2d89-4bd7-ed4f-b931293eed57"
      },
      "execution_count": 28,
      "outputs": [
        {
          "output_type": "stream",
          "name": "stdout",
          "text": [
            "Ingresa 10 colores ;): \n",
            "Color: azul\n",
            "Color: verde\n",
            "Color: morado\n",
            "Color: rosado\n",
            "Color: rojo\n",
            "Color: naranja\n",
            "Color: amarillo\n",
            "Color: marron\n",
            "Color: blanco\n",
            "Color: negro\n",
            "Elige un color secreto: morado\n",
            "Ahora intentaré adivinarlo, solo tendré 10 intentos, deseame suerte\n",
            "intento 1: Será el color rojo?\n",
            "El color no era rojo, trataré otra vez (si puedo)\n",
            "intento 2: Será el color blanco?\n",
            "El color no era blanco, trataré otra vez (si puedo)\n",
            "intento 3: Será el color naranja?\n",
            "El color no era naranja, trataré otra vez (si puedo)\n",
            "intento 4: Será el color amarillo?\n",
            "El color no era amarillo, trataré otra vez (si puedo)\n",
            "intento 5: Será el color marron?\n",
            "El color no era marron, trataré otra vez (si puedo)\n",
            "intento 6: Será el color negro?\n",
            "El color no era negro, trataré otra vez (si puedo)\n",
            "intento 7: Será el color verde?\n",
            "El color no era verde, trataré otra vez (si puedo)\n",
            "intento 8: Será el color morado?\n",
            "Pude adivinar tu color en 8 intentos, y el color era el morado\n"
          ]
        }
      ]
    }
  ]
}