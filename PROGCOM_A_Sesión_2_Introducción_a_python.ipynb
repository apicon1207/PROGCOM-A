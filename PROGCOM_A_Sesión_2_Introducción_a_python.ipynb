{
  "nbformat": 4,
  "nbformat_minor": 0,
  "metadata": {
    "colab": {
      "provenance": []
    },
    "kernelspec": {
      "name": "python3",
      "display_name": "Python 3"
    },
    "language_info": {
      "name": "python"
    }
  },
  "cells": [
    {
      "cell_type": "markdown",
      "source": [
        "## Angélica Lucía Picón Pérez\n",
        "U00181171\n",
        "\n",
        "### Switches\n",
        "Estructuras de selección que sirven para evaluar más de una condición de verdad y ofrecer diferentes evaluaciones de verdad\n",
        "\n",
        "```\n",
        "if (condición):\n",
        "  Aquí entra si la condición es verdadera\n",
        "\n",
        "elif (condición2):\n",
        "  Aquí entra si la condición2 es verdadera\n",
        "\n",
        "elif (condición3):\n",
        "  Aquí entra si la condición3 es verdadera\n",
        "\n",
        "else:\n",
        "  Aquí va cuando ninguna de las condiciones es verdadera\n",
        "\n",
        "```\n",
        "Versión 2:\n",
        "\n",
        "```\n",
        "match(variable):\n",
        "  case(valor):\n",
        "    aqui pasa algo si variable = valor\n",
        "  \n",
        "  case(valor2):\n",
        "    aqui pasa algo si variable = valor2\n",
        "  \n",
        "  case(valor3):\n",
        "    aqui pasa algo si variable = valor3\n",
        "  \n",
        "  case(valorn):\n",
        "    aqui pasa algo si variable = valorn\n",
        "  \n",
        "  case_: Ninguna de las anteriores\n",
        "```\n",
        "\n",
        "##recuerda == es comparar, = asignar"
      ],
      "metadata": {
        "id": "ne17HhZdCWZA"
      }
    },
    {
      "cell_type": "code",
      "source": [
        "#elegir un sabor de helado\n",
        "opc=input(\"Elije un sabor de helado: \")\n",
        "\n",
        "if opc== \"oreo\":\n",
        "  print(f\"usted eligió {opc} y debe pagar $4500\")\n",
        "\n",
        "elif opc== \"frutos del bosque\":\n",
        "  print(f\"usted eligió {opc} y debe pagar $3500\")\n",
        "\n",
        "elif opc== \"menta con chocolate\":\n",
        "  print(f\"usted eligió {opc} y debe pagar $5000\")\n",
        "\n",
        "elif opc== \"cookie monster\":\n",
        "  print(f\"usted eligió {opc} y debe pagar $5500\")\n",
        "\n",
        "else:\n",
        "  print(f\"No tenemos ese sabor :(\")"
      ],
      "metadata": {
        "colab": {
          "base_uri": "https://localhost:8080/"
        },
        "id": "fDHTFCMZJLJ5",
        "outputId": "07fc05c2-8134-46aa-b983-b1766e292a15"
      },
      "execution_count": null,
      "outputs": [
        {
          "output_type": "stream",
          "name": "stdout",
          "text": [
            "Elije un sabor de helado: macadamia\n",
            "No tenemos ese sabor :(\n"
          ]
        }
      ]
    },
    {
      "cell_type": "code",
      "source": [
        "match opc:\n",
        "  case \"oreo\":\n",
        "    print(f\"usted eligió {opc} y debe pagar $4500\")\n",
        "\n",
        "  case \"frutos del bosque\":\n",
        "    print(f\"usted eligió {opc} y debe pagar $3500\")\n",
        "\n",
        "  case \"menta con chocolate\":\n",
        "    print(f\"usted eligió {opc} y debe pagar $5000\")\n",
        "\n",
        "  case \"cookie monster\":\n",
        "    print(f\"usted eligió {opc} y debe pagar $5500\")\n",
        "\n",
        "  case _:\n",
        "    print(f\"No tenemos ese sabor :(\")"
      ],
      "metadata": {
        "colab": {
          "base_uri": "https://localhost:8080/"
        },
        "id": "kv4YgwacLhDu",
        "outputId": "96cad79e-be5d-481e-c6df-93034b100ff8"
      },
      "execution_count": null,
      "outputs": [
        {
          "output_type": "stream",
          "name": "stdout",
          "text": [
            "usted eligió oreo y debe pagar $4500\n"
          ]
        }
      ]
    },
    {
      "cell_type": "code",
      "execution_count": 11,
      "metadata": {
        "id": "XWcsPgGZCOYT",
        "colab": {
          "base_uri": "https://localhost:8080/"
        },
        "outputId": "a30d4619-a0d1-4d03-9aff-59ec249b6c32"
      },
      "outputs": [
        {
          "output_type": "stream",
          "name": "stdout",
          "text": [
            "Ingrese un número.3\n",
            "3 es impar\n"
          ]
        }
      ],
      "source": [
        "#Desarrolla un programa que determine si un número es par o impar.\n",
        "#elif\n",
        "num= int(input(\"Ingrese un número.\"))\n",
        "if num%2==0:\n",
        "  prin(f\"{num} es par\")\n",
        "\n",
        "else:\n",
        "  print(f\"{num} es impar\")"
      ]
    },
    {
      "cell_type": "code",
      "source": [
        "#Desarrolla un programa que determine si un número es par o impar.\n",
        "#case\n",
        "match num%2:\n",
        "  case 0:\n",
        "    print(f\"{num} es par\")\n",
        "\n",
        "  case _:\n",
        "    print(f\"{num} es impar\")"
      ],
      "metadata": {
        "id": "brnPcDSWIxAY",
        "colab": {
          "base_uri": "https://localhost:8080/"
        },
        "outputId": "96b33e35-ed0e-462f-85f5-a9cd13ce369f"
      },
      "execution_count": 16,
      "outputs": [
        {
          "output_type": "stream",
          "name": "stdout",
          "text": [
            "3 es impar\n"
          ]
        }
      ]
    },
    {
      "cell_type": "code",
      "source": [
        "#Crea un programa que determine si un año es bisiesto (divisible por 4 y no por 100, o divisible por 400).\n",
        "#elif\n",
        "año= int(input(\"Ingrese un año.\"))\n",
        "if año%4==0 and año%100!=0 or año%400==0:\n",
        "  print(f\"{año} es bisiesto\")\n",
        "\n",
        "else:\n",
        "  print(f\"{año} no es bisiesto\")"
      ],
      "metadata": {
        "id": "eig1rCgQI0sQ",
        "colab": {
          "base_uri": "https://localhost:8080/"
        },
        "outputId": "9da69ac1-0951-431c-e85f-cbfd3d0b97ba"
      },
      "execution_count": 17,
      "outputs": [
        {
          "output_type": "stream",
          "name": "stdout",
          "text": [
            "Ingrese un año.1980\n",
            "1980 es bisiesto\n"
          ]
        }
      ]
    },
    {
      "cell_type": "code",
      "source": [
        "#Crea un programa que determine si un año es bisiesto (divisible por 4 y no por 100, o divisible por 400).\n",
        "#case\n",
        "match año%4:\n",
        "  case 0:\n",
        "    print(f\"{año} es bisiesto\")\n",
        "\n",
        "  case _:\n",
        "    print(f\"{año} no es bisiesto\")"
      ],
      "metadata": {
        "id": "N5S9nwL_I8oA",
        "colab": {
          "base_uri": "https://localhost:8080/"
        },
        "outputId": "9a4e16de-d606-436a-d2e3-4d1836a691d9"
      },
      "execution_count": 19,
      "outputs": [
        {
          "output_type": "stream",
          "name": "stdout",
          "text": [
            "1980 es bisiesto\n"
          ]
        }
      ]
    },
    {
      "cell_type": "code",
      "source": [
        "#Escribe un programa que solicite el nombre del usuario y determine si una persona pertenece a la tercera edad (70 años o más) y si se cumple la condición, imprima que se le da prioridad en la fila.\n",
        "#elif\n",
        "nom= input(\"Ingrese su nombre \")\n",
        "edad= int(input(\"Ingrese su edad \"))\n",
        "\n",
        "if edad>=70:\n",
        "  print(f\"{nom} usted tiene prioridad en la fila\")\n",
        "\n",
        "else:\n",
        "  print(f\"{nom} no tiene prioridad en la fila, espere\")"
      ],
      "metadata": {
        "id": "YTp1cp5fI9pg",
        "colab": {
          "base_uri": "https://localhost:8080/"
        },
        "outputId": "05d8e0b3-eef3-482a-a254-005a8ea03f09"
      },
      "execution_count": 22,
      "outputs": [
        {
          "output_type": "stream",
          "name": "stdout",
          "text": [
            "Ingrese su nombre Ange\n",
            "Ingrese su edad 76\n",
            "Ange usted tiene prioridad en la fila\n"
          ]
        }
      ]
    },
    {
      "cell_type": "code",
      "source": [
        "#Escribe un programa que solicite el nombre del usuario y determine si una persona pertenece a la tercera edad (70 años o más) y si se cumple la condición, imprima que se le da prioridad en la fila.\n",
        "#case\n",
        "match edad>=70:\n",
        "  case True:\n",
        "    print(f\"{nom} usted tiene prioridad en la fila\")\n",
        "\n",
        "  case _:\n",
        "    print(f\"{nom} no tiene prioridad en la fila, espere\")"
      ],
      "metadata": {
        "id": "Of2xwdgrI_Ug",
        "colab": {
          "base_uri": "https://localhost:8080/"
        },
        "outputId": "bc53925d-784b-4afa-9ed9-fa53f08c4f11"
      },
      "execution_count": 28,
      "outputs": [
        {
          "output_type": "stream",
          "name": "stdout",
          "text": [
            "Ange usted tiene prioridad en la fila\n"
          ]
        }
      ]
    },
    {
      "cell_type": "code",
      "source": [
        "#Desarrolla un programa que compare tres números y muestre el mayor.\n",
        "#elif\n",
        "n1= int(input(\"Ingrese el primer número.\"))\n",
        "n2= int(input(\"Ingrese el segundo número.\"))\n",
        "n3= int(input(\"Ingrese el tercer número.\"))\n",
        "\n",
        "if n1>n2 and n1>n3:\n",
        "  print(f\"{n1} es el número mayor\")\n",
        "\n",
        "elif n2>n1 and n2>n3:\n",
        "  print(f\"{n2} es el número mayor\")\n",
        "\n",
        "elif n3>n1 and n3>n2:\n",
        "  print(f\"{n3} es el número mayor\")\n",
        "\n",
        "elif n1==n2 and n2<n3:\n",
        "  print(f\"{n1} y {n2} son iguales y el mayor es {n3}\")\n",
        "\n",
        "elif n1==n3 and n3<n2:\n",
        "  print(f\"{n1} y {n3} son iguales y el mayor es {n2}\")\n",
        "\n",
        "elif n2==n3 and n3<n1:\n",
        "  print(f\"{n2} y {n3} son iguales y el mayor es {n1}\")\n",
        "\n",
        "elif n1==n2 and n2>n3:\n",
        "  print(f\"{n1} y {n2} son iguales, el número mayor es {n1} y el menor {n3}\")\n",
        "\n",
        "elif n1==n3 and n3>n2:\n",
        "  print(f\"{n1} y {n3} son iguales, el número mayor es {n1} y el menor {n2}\")\n",
        "\n",
        "elif n2==n3 and n3>n1:\n",
        "  print(f\"{n2} y {n3} son iguales, el número mayor es {n2} y el menor {n1}\")\n",
        "\n",
        "else:\n",
        "  print(\"Todos los números son iguales\")"
      ],
      "metadata": {
        "id": "U6WvVzQeI_0Q",
        "colab": {
          "base_uri": "https://localhost:8080/"
        },
        "outputId": "a4098d54-74ed-4451-b697-3756dc4e7c56"
      },
      "execution_count": 4,
      "outputs": [
        {
          "output_type": "stream",
          "name": "stdout",
          "text": [
            "Ingrese el primer número.1\n",
            "Ingrese el segundo número.0\n",
            "Ingrese el tercer número.1\n",
            "1 y 1 son iguales, el número mayor es 1 y el menor 0\n"
          ]
        }
      ]
    },
    {
      "cell_type": "code",
      "source": [
        "#Desarrolla un programa que compare tres números y muestre el mayor.\n",
        "#case\n",
        "n1= int(input(\"Ingrese el primer número.\"))\n",
        "n2= int(input(\"Ingrese el segundo número.\"))\n",
        "n3= int(input(\"Ingrese el tercer número.\"))\n",
        "\n",
        "match (n1,n2,n3):\n",
        "  case (n1,n2,n3) if n1>n2 and n1>n3:\n",
        "    print(f\"{n1} es el número mayor\")\n",
        "\n",
        "  case (n1,n2,n3) if n2>n1 and n2>n3:\n",
        "    print(f\"{n2} es el número mayor\")\n",
        "\n",
        "  case (n1,n2,n3) if n3>n1 and n3>n2:\n",
        "    print(f\"{n3} es el número mayor\")\n",
        "\n",
        "  case (n1,n2,n3) if n1==n2 and n2<n3:\n",
        "    print(f\"{n1} y {n2} son iguales y el mayor es {n3}\")\n",
        "\n",
        "  case (n1,n2,n3) if n1==n3 and n3<n2:\n",
        "    print(f\"{n1} y {n3} son iguales y el mayor es {n2}\")\n",
        "\n",
        "  case (n1,n2,n3) if n2==n3 and n3<n1:\n",
        "    print(f\"{n2} y {n3} son iguales y el mayor es {n1}\")\n",
        "\n",
        "  case (n1,n2,n3) if n1==n2 and n2>n3:\n",
        "    print(f\"{n1} y {n2} son iguales, el número mayor es {n1} y el menor {n3}\")\n",
        "\n",
        "  case (n1,n2,n3) if n1==n3 and n3>n2:\n",
        "    print(f\"{n1} y {n3} son iguales, el número mayor es {n1} y el menor {n2}\")\n",
        "\n",
        "  case (n1,n2,n3) if n2==n3 and n3>n1:\n",
        "    print(f\"{n2} y {n3} son iguales, el número mayor es {n2} y el menor {n1}\")\n",
        "\n",
        "  case _:\n",
        "    print(\"Todos los números son iguales\")"
      ],
      "metadata": {
        "id": "q0gXBDCMJALy",
        "colab": {
          "base_uri": "https://localhost:8080/"
        },
        "outputId": "ae9213e8-20c4-4fbe-a5fe-4b2aeb6734fb"
      },
      "execution_count": 5,
      "outputs": [
        {
          "output_type": "stream",
          "name": "stdout",
          "text": [
            "Ingrese el primer número.0\n",
            "Ingrese el segundo número.1\n",
            "Ingrese el tercer número.2\n",
            "2 es el número mayor\n"
          ]
        }
      ]
    },
    {
      "cell_type": "code",
      "source": [
        "#Crea un programa que determine si un triángulo es equilátero, isósceles o escaleno según sus lados.\n",
        "#elif\n",
        "l1= int(input(\"Ingrese el primer lado.\"))\n",
        "l2= int(input(\"Ingrese el segundo lado.\"))\n",
        "l3= int(input(\"Ingrese el tercer lado.\"))\n",
        "\n",
        "if l1==l2 and l2==l3:\n",
        "  print(\"El triángulo es equilátero\")\n",
        "\n",
        "elif l1 != l2 and l2 != l3 and l1 != l3:\n",
        "  print(\"El triángulo es escaleno\")\n",
        "\n",
        "else:\n",
        "  print(\"El triángulo es isósceles\")"
      ],
      "metadata": {
        "colab": {
          "base_uri": "https://localhost:8080/"
        },
        "id": "XAjlD9Q09ISA",
        "outputId": "202f40a5-4071-4649-8467-5433e8626a70"
      },
      "execution_count": 30,
      "outputs": [
        {
          "output_type": "stream",
          "name": "stdout",
          "text": [
            "Ingrese el primer lado.3\n",
            "Ingrese el segundo lado.3\n",
            "Ingrese el tercer lado.3\n",
            "El triángulo es equilátero\n"
          ]
        }
      ]
    },
    {
      "cell_type": "code",
      "source": [
        "#Crea un programa que determine si un triángulo es equilátero, isósceles o escaleno según sus lados.\n",
        "#case\n",
        "#ESTÁ BIEN ASÍ?????\n",
        "match (l1,l2,l3):\n",
        "  case (l1,l2,l3) if l1==l2 and l2==l3:\n",
        "    print(\"El triángulo es equilátero\")\n",
        "\n",
        "  case (l1,l2,l3) if l1 != l2 and l2 != l3 and l1 != l3:\n",
        "    print(\"El triángulo es escaleno\")\n",
        "\n",
        "  case _:\n",
        "    print(\"El triángulo es isósceles\")"
      ],
      "metadata": {
        "id": "FKmQXzhxJA7K",
        "colab": {
          "base_uri": "https://localhost:8080/"
        },
        "outputId": "064cf696-8020-4132-e523-0d739a900ed4"
      },
      "execution_count": 33,
      "outputs": [
        {
          "output_type": "stream",
          "name": "stdout",
          "text": [
            "El triángulo es equilátero\n"
          ]
        }
      ]
    }
  ]
}