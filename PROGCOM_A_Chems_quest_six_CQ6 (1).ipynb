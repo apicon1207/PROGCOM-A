{
  "nbformat": 4,
  "nbformat_minor": 0,
  "metadata": {
    "colab": {
      "provenance": []
    },
    "kernelspec": {
      "name": "python3",
      "display_name": "Python 3"
    },
    "language_info": {
      "name": "python"
    }
  },
  "cells": [
    {
      "cell_type": "markdown",
      "source": [
        "#DEFINICIÓN DE PALABRAS EN PYTHON\n"
      ],
      "metadata": {
        "id": "WSuCqbr9_XE3"
      }
    },
    {
      "cell_type": "markdown",
      "source": [
        "### False\n",
        "Es un valor booleano que representa la falsedad en Python. Es equivalente a 0 en evaluaciones de verdad."
      ],
      "metadata": {
        "id": "kcKcpaBjAqHN"
      }
    },
    {
      "cell_type": "code",
      "execution_count": null,
      "metadata": {
        "colab": {
          "base_uri": "https://localhost:8080/"
        },
        "id": "nMZGumda_Jew",
        "outputId": "4a5466fd-78bd-4cb5-8d9a-c10018a9ed6b"
      },
      "outputs": [
        {
          "output_type": "stream",
          "name": "stdout",
          "text": [
            "Puedes salir sin sombrilla.\n"
          ]
        }
      ],
      "source": [
        "lluvia = False\n",
        "if not lluvia:\n",
        "    print(\"Puedes salir sin sombrilla.\")"
      ]
    },
    {
      "cell_type": "markdown",
      "source": [
        "### class\n",
        "Se usa para definir una nueva clase en Python."
      ],
      "metadata": {
        "id": "A2ZMkxHaAumO"
      }
    },
    {
      "cell_type": "code",
      "source": [
        "class Perro:\n",
        "    def __init__(self, nombre):\n",
        "        self.nombre = nombre\n",
        "\n",
        "    def ladrar(self):\n",
        "        print(f\"{self.nombre} dice: ¡Guau!\")\n",
        "\n",
        "mi_perro = Perro(\"Oso\")\n",
        "mi_perro.ladrar()"
      ],
      "metadata": {
        "colab": {
          "base_uri": "https://localhost:8080/"
        },
        "id": "85v25ap_A4Wx",
        "outputId": "9eb2c11c-3b9d-40a2-ee44-703d7f1903c3"
      },
      "execution_count": null,
      "outputs": [
        {
          "output_type": "stream",
          "name": "stdout",
          "text": [
            "Oso dice: ¡Guau!\n"
          ]
        }
      ]
    },
    {
      "cell_type": "markdown",
      "source": [
        "### finally\n",
        "Se usa en bloques try-except para definir un bloque de código que siempre se ejecutará, independientemente de si ocurre una excepción o no."
      ],
      "metadata": {
        "id": "uATSBZeYBOHt"
      }
    },
    {
      "cell_type": "code",
      "source": [
        "try:\n",
        "    x = 1 / 0\n",
        "except ZeroDivisionError:\n",
        "    print(\"No se puede dividir por cero\")\n",
        "finally:\n",
        "    print(\"Este mensaje de print siempre aparecerá\")"
      ],
      "metadata": {
        "colab": {
          "base_uri": "https://localhost:8080/"
        },
        "id": "Mn6eVP88BWsX",
        "outputId": "9bde3e01-f08a-4328-8647-d45e6a119362"
      },
      "execution_count": null,
      "outputs": [
        {
          "output_type": "stream",
          "name": "stdout",
          "text": [
            "No se puede dividir por cero\n",
            "Este mensaje de print siempre aparecerá\n"
          ]
        }
      ]
    },
    {
      "cell_type": "markdown",
      "source": [
        "### is\n",
        "Es un operador de identidad que verifica si dos variables apuntan al mismo objeto en memoria."
      ],
      "metadata": {
        "id": "A6DM5YvjBWQC"
      }
    },
    {
      "cell_type": "code",
      "source": [
        "a = [1, 2, 3]\n",
        "b = a\n",
        "print(a is b)\n",
        "# En el print dará como resultado \"True\", ya que 'b' apunta a 'a'"
      ],
      "metadata": {
        "colab": {
          "base_uri": "https://localhost:8080/"
        },
        "id": "OS04MUKBBnUG",
        "outputId": "5c510e55-49c3-424e-a481-3990fad4f7da"
      },
      "execution_count": null,
      "outputs": [
        {
          "output_type": "stream",
          "name": "stdout",
          "text": [
            "True\n"
          ]
        }
      ]
    },
    {
      "cell_type": "markdown",
      "source": [
        "### return\n",
        "Se usa dentro de una función para devolver un valor."
      ],
      "metadata": {
        "id": "-HMBWEW8B40G"
      }
    },
    {
      "cell_type": "code",
      "source": [
        "def año():\n",
        "  año= int(input(\"Ingrese un año \"))\n",
        "  return año\n",
        "\n",
        "def bisiesto(año):\n",
        "  match año%4:\n",
        "    case 0:\n",
        "      print(f\"{año} es bisiesto\")\n",
        "    case _:\n",
        "      print(f\"{año} no es bisiesto\")\n",
        "\n",
        "año= año()\n",
        "bisiesto(año)"
      ],
      "metadata": {
        "colab": {
          "base_uri": "https://localhost:8080/"
        },
        "id": "KNnnihl7B4cc",
        "outputId": "45c9c8d6-8b8f-4645-cb8d-163e3691e291"
      },
      "execution_count": null,
      "outputs": [
        {
          "output_type": "stream",
          "name": "stdout",
          "text": [
            "Ingrese un año 1980\n",
            "1980 es bisiesto\n"
          ]
        }
      ]
    },
    {
      "cell_type": "markdown",
      "source": [
        "### None\n",
        "Representa la ausencia de valor o un objeto vacío."
      ],
      "metadata": {
        "id": "8J0emvx_CeWX"
      }
    },
    {
      "cell_type": "code",
      "source": [
        "x= int(input(\"Ingrese un número \"))\n",
        "resultado = x * 2 if x > 0 else None\n",
        "if resultado is None:\n",
        "    print(\"No hay valor definido\")"
      ],
      "metadata": {
        "colab": {
          "base_uri": "https://localhost:8080/"
        },
        "id": "e8DIdvSzCiDm",
        "outputId": "9b1957f2-a633-4dac-c5e3-d211602265d3"
      },
      "execution_count": null,
      "outputs": [
        {
          "output_type": "stream",
          "name": "stdout",
          "text": [
            "Ingrese un número 0\n",
            "No hay valor definido\n"
          ]
        }
      ]
    },
    {
      "cell_type": "markdown",
      "source": [
        "### continue\n",
        "Se usa en bucles para saltar la iteración actual y pasar a la siguiente."
      ],
      "metadata": {
        "id": "bc9yvNMCCiaz"
      }
    },
    {
      "cell_type": "code",
      "source": [
        "for i in range(5):\n",
        "    if i == 2:\n",
        "        continue\n",
        "    print(i)\n",
        "# El continue salta la iteración cuando i es igual a 2"
      ],
      "metadata": {
        "colab": {
          "base_uri": "https://localhost:8080/"
        },
        "id": "gMPIN_J9C-9F",
        "outputId": "2abd7e15-ee63-4e99-fc4a-1c5b97fde5ef"
      },
      "execution_count": null,
      "outputs": [
        {
          "output_type": "stream",
          "name": "stdout",
          "text": [
            "0\n",
            "1\n",
            "3\n",
            "4\n"
          ]
        }
      ]
    },
    {
      "cell_type": "markdown",
      "source": [
        "### for\n",
        "Inicia un bucle que itera sobre una secuencia (listas, tuplas, cadenas, etc.)."
      ],
      "metadata": {
        "id": "dMBUHJxJDMEu"
      }
    },
    {
      "cell_type": "code",
      "source": [
        "x=int(input(\"ingrese un numero\\U0001F600: \"))\n",
        "for num in range(1,11,1):\n",
        "  print(f\"{x}*{num}={x*num}\")"
      ],
      "metadata": {
        "colab": {
          "base_uri": "https://localhost:8080/"
        },
        "id": "zOf_YJDMDP37",
        "outputId": "506fbe87-0a2f-44ea-a49d-1c221b43599a"
      },
      "execution_count": null,
      "outputs": [
        {
          "output_type": "stream",
          "name": "stdout",
          "text": [
            "ingrese un numero😀: 7\n",
            "7*1=7\n",
            "7*2=14\n",
            "7*3=21\n",
            "7*4=28\n",
            "7*5=35\n",
            "7*6=42\n",
            "7*7=49\n",
            "7*8=56\n",
            "7*9=63\n",
            "7*10=70\n"
          ]
        }
      ]
    },
    {
      "cell_type": "markdown",
      "source": [
        "### lambda\n",
        "Define funciones anónimas en una sola línea."
      ],
      "metadata": {
        "id": "pHObxFw3Dbyd"
      }
    },
    {
      "cell_type": "code",
      "source": [
        "cuadrado = lambda x: x * x\n",
        "print(cuadrado(5))"
      ],
      "metadata": {
        "colab": {
          "base_uri": "https://localhost:8080/"
        },
        "id": "D4SSt8NQDhCB",
        "outputId": "32811b2c-bd1f-4ced-aa35-3149d5a14367"
      },
      "execution_count": null,
      "outputs": [
        {
          "output_type": "stream",
          "name": "stdout",
          "text": [
            "25\n"
          ]
        }
      ]
    },
    {
      "cell_type": "markdown",
      "source": [
        "### try\n",
        "Se usa para manejar excepciones."
      ],
      "metadata": {
        "id": "2r19wVf6DgMa"
      }
    },
    {
      "cell_type": "code",
      "source": [
        "try:\n",
        "    print(1 / 0)\n",
        "except ZeroDivisionError:\n",
        "    print(\"Error: división por cero\")"
      ],
      "metadata": {
        "colab": {
          "base_uri": "https://localhost:8080/"
        },
        "id": "8xelZn7NDuXd",
        "outputId": "2db2224e-560e-450b-e666-4606a642fdf3"
      },
      "execution_count": null,
      "outputs": [
        {
          "output_type": "stream",
          "name": "stdout",
          "text": [
            "Error: división por cero\n"
          ]
        }
      ]
    },
    {
      "cell_type": "markdown",
      "source": [
        "### True\n",
        "Representa el valor booleano verdadero. Equivalente a 1 en evaluaciones de verdad."
      ],
      "metadata": {
        "id": "9U8HpjkoD5ww"
      }
    },
    {
      "cell_type": "code",
      "source": [
        "es_de_dia = True\n",
        "if es_de_dia:\n",
        "    print(\"¡Es hora de salir a jugar!\")"
      ],
      "metadata": {
        "id": "0WX4CqglD-jh"
      },
      "execution_count": null,
      "outputs": []
    },
    {
      "cell_type": "markdown",
      "source": [
        "### def\n",
        "Se usa para definir funciones en Python."
      ],
      "metadata": {
        "id": "_IUpToqUEEEG"
      }
    },
    {
      "cell_type": "code",
      "source": [
        "def par_impar():\n",
        "  num= int(input(\"Ingrese un número \"))\n",
        "  if num%2==0:\n",
        "    print(f\"{num} es par\")\n",
        "  else:\n",
        "    print(f\"{num} es impar\")\n",
        "par_impar()"
      ],
      "metadata": {
        "colab": {
          "base_uri": "https://localhost:8080/"
        },
        "id": "02mHxGS2EIZ8",
        "outputId": "f818163d-9d88-441a-f43d-136bad6eec00"
      },
      "execution_count": null,
      "outputs": [
        {
          "output_type": "stream",
          "name": "stdout",
          "text": [
            "Ingrese un número 8\n",
            "8 es par\n"
          ]
        }
      ]
    },
    {
      "cell_type": "markdown",
      "source": [
        "### from\n",
        "Se usa para importar partes específicas de un módulo."
      ],
      "metadata": {
        "id": "5_sCgNVVEW6x"
      }
    },
    {
      "cell_type": "code",
      "source": [
        "from math import sqrt\n",
        "print(sqrt(16))\n",
        "# sqrt es el cuadrado de un número"
      ],
      "metadata": {
        "colab": {
          "base_uri": "https://localhost:8080/"
        },
        "id": "EwmYstfpEadY",
        "outputId": "19f632b2-ef05-4bb3-93cc-f23b3b7be238"
      },
      "execution_count": null,
      "outputs": [
        {
          "output_type": "stream",
          "name": "stdout",
          "text": [
            "4.0\n"
          ]
        }
      ]
    },
    {
      "cell_type": "markdown",
      "source": [
        "### nonlocal\n",
        "Modifica variables en ámbitos superiores (pero no globales)."
      ],
      "metadata": {
        "id": "SUlEpid2Ea5j"
      }
    },
    {
      "cell_type": "code",
      "source": [
        "def exterior():\n",
        "    x = 10\n",
        "    def interior():\n",
        "        nonlocal x\n",
        "        x = x + 5\n",
        "    interior()\n",
        "    print(x)\n",
        "exterior()"
      ],
      "metadata": {
        "colab": {
          "base_uri": "https://localhost:8080/"
        },
        "id": "8m-A1InbEgdx",
        "outputId": "d7729a81-42a9-4d72-f28e-2cae832f0dc6"
      },
      "execution_count": null,
      "outputs": [
        {
          "output_type": "stream",
          "name": "stdout",
          "text": [
            "15\n"
          ]
        }
      ]
    },
    {
      "cell_type": "markdown",
      "source": [
        "### while\n",
        "Crea bucles que se ejecutan mientras la condición sea verdadera."
      ],
      "metadata": {
        "id": "Ow_Tcm9kESyY"
      }
    },
    {
      "cell_type": "code",
      "source": [
        "z= int(input(\"Ingrese un numero\\U0001F600: \"))\n",
        "i= 1\n",
        "\n",
        "while i <= 10:\n",
        "  print(f\"{z}*{i}={z*i}\")\n",
        "  i= i + 1"
      ],
      "metadata": {
        "id": "YV53gz_JEUlV"
      },
      "execution_count": null,
      "outputs": []
    },
    {
      "cell_type": "markdown",
      "source": [
        "### and\n",
        "Operador lógico que devuelve True si ambas condiciones son verdaderas, de lo contrario, devuelve False."
      ],
      "metadata": {
        "id": "Vt8NPmNpFObr"
      }
    },
    {
      "cell_type": "code",
      "source": [
        "edad = 25\n",
        "tiene_identificacion = True\n",
        "if edad >= 18 and tiene_identificacion:\n",
        "    print(\"Puedes entrar al evento.\")"
      ],
      "metadata": {
        "colab": {
          "base_uri": "https://localhost:8080/"
        },
        "id": "H7RJxmaOFO3z",
        "outputId": "9bf5ac68-808b-494b-c978-6c7a2d7080f9"
      },
      "execution_count": null,
      "outputs": [
        {
          "output_type": "stream",
          "name": "stdout",
          "text": [
            "Puedes entrar al evento.\n"
          ]
        }
      ]
    },
    {
      "cell_type": "markdown",
      "source": [
        "### del\n",
        "Elimina una variable o un elemento de una estructura de datos."
      ],
      "metadata": {
        "id": "_nzHsqh0FUlu"
      }
    },
    {
      "cell_type": "code",
      "source": [
        "lista = [1, 2, 3]\n",
        "del lista[1]\n",
        "print(lista)"
      ],
      "metadata": {
        "colab": {
          "base_uri": "https://localhost:8080/"
        },
        "id": "gkM1KkbAFeEh",
        "outputId": "de58028b-ec98-4871-b212-560d369d2c9c"
      },
      "execution_count": null,
      "outputs": [
        {
          "output_type": "stream",
          "name": "stdout",
          "text": [
            "[1, 3]\n"
          ]
        }
      ]
    },
    {
      "cell_type": "markdown",
      "source": [
        "### global\n",
        "Permite modificar variables globales dentro de funciones."
      ],
      "metadata": {
        "id": "wqmpWpmzFpY5"
      }
    },
    {
      "cell_type": "code",
      "source": [
        "x = 5\n",
        "def cambiar():\n",
        "    global x\n",
        "    x = 10\n",
        "cambiar()\n",
        "print(x)"
      ],
      "metadata": {
        "colab": {
          "base_uri": "https://localhost:8080/"
        },
        "id": "FdghW6HbFodV",
        "outputId": "b231a8de-0606-4698-afce-96e07785b75e"
      },
      "execution_count": null,
      "outputs": [
        {
          "output_type": "stream",
          "name": "stdout",
          "text": [
            "10\n"
          ]
        }
      ]
    },
    {
      "cell_type": "markdown",
      "source": [
        "### not\n",
        "Operador lógico de negación."
      ],
      "metadata": {
        "id": "2kRv5WVjFz4v"
      }
    },
    {
      "cell_type": "code",
      "source": [
        "llueve = False\n",
        "if not llueve:\n",
        "    print(\"Puedes salir sin sombrilla.\")"
      ],
      "metadata": {
        "colab": {
          "base_uri": "https://localhost:8080/"
        },
        "id": "StRijCzkF0Vk",
        "outputId": "e5014b34-ddf8-41d7-d8bb-a085791e187a"
      },
      "execution_count": null,
      "outputs": [
        {
          "output_type": "stream",
          "name": "stdout",
          "text": [
            "Puedes salir sin sombrilla.\n"
          ]
        }
      ]
    },
    {
      "cell_type": "markdown",
      "source": [
        "### with\n",
        "Maneja contextos como archivos o conexiones."
      ],
      "metadata": {
        "id": "wcCvyNM1F4Pa"
      }
    },
    {
      "cell_type": "code",
      "source": [
        "with open(\"archivo.txt\", \"w\") as archivo:\n",
        "    archivo.write(\"Hola, mundo!\")"
      ],
      "metadata": {
        "id": "AzK0UNEUF8L7"
      },
      "execution_count": null,
      "outputs": []
    },
    {
      "cell_type": "markdown",
      "source": [
        "### as\n",
        "Se usa para dar un alias a módulos importados."
      ],
      "metadata": {
        "id": "33HdzKN0F-k0"
      }
    },
    {
      "cell_type": "code",
      "source": [
        "import numpy as np\n",
        "print(np.array([1, 2, 3]))\n",
        "# np.array toma una secuencia de Python y la convierte en un array NumPy."
      ],
      "metadata": {
        "colab": {
          "base_uri": "https://localhost:8080/"
        },
        "id": "ry80_CYqGC1M",
        "outputId": "c76e1bf4-38ff-472b-daa1-0862b95f2703"
      },
      "execution_count": null,
      "outputs": [
        {
          "output_type": "stream",
          "name": "stdout",
          "text": [
            "[1 2 3]\n"
          ]
        }
      ]
    },
    {
      "cell_type": "markdown",
      "source": [
        "### elif\n",
        "Agrega condiciones adicionales en una estructura if."
      ],
      "metadata": {
        "id": "XHZBptH7GCL0"
      }
    },
    {
      "cell_type": "code",
      "source": [
        "l1= int(input(\"Ingrese el primer lado \"))\n",
        "l2= int(input(\"Ingrese el segundo lado \"))\n",
        "l3= int(input(\"Ingrese el tercer lado \"))\n",
        "if l1==l2==l3:\n",
        "  print(\"El triángulo es equilátero\")\n",
        "elif l1==l2 or l1==l3 or l2==l3:\n",
        "  print(\"El triángulo es isósceles\")\n",
        "else:\n",
        "  print(\"El triángulo es escaleno\")"
      ],
      "metadata": {
        "colab": {
          "base_uri": "https://localhost:8080/"
        },
        "id": "myYaV2LiGail",
        "outputId": "45861010-059e-49ca-f0d6-006119e365a8"
      },
      "execution_count": null,
      "outputs": [
        {
          "output_type": "stream",
          "name": "stdout",
          "text": [
            "Ingrese el primer lado 3\n",
            "Ingrese el segundo lado 4\n",
            "Ingrese el tercer lado 5\n",
            "El triángulo es escaleno\n"
          ]
        }
      ]
    },
    {
      "cell_type": "markdown",
      "source": [
        "### if\n",
        "Sentencia condicional que permite ejecutar un código específico si se cumple una condición."
      ],
      "metadata": {
        "id": "yKdPX73hJKuy"
      }
    },
    {
      "cell_type": "code",
      "source": [
        "nom= input(\"Ingrese su nombre \")\n",
        "edad= int(input(\"Ingrese su edad \"))\n",
        "\n",
        "if edad>=70:\n",
        "  print(f\"{nom} usted tiene prioridad en la fila\")\n",
        "else:\n",
        "  print(f\"{nom} no tiene prioridad en la fila, espere\")"
      ],
      "metadata": {
        "id": "t77snZ4-JKL_"
      },
      "execution_count": null,
      "outputs": []
    },
    {
      "cell_type": "markdown",
      "source": [
        "### else\n",
        "Se usa para ejecutar un bloque de código si no se cumple ninguna de las condiciones de las sentencias if y elif."
      ],
      "metadata": {
        "id": "qkcerdyjJTqd"
      }
    },
    {
      "cell_type": "code",
      "source": [
        "opc=input(\"Elije un sabor de helado: \")\n",
        "\n",
        "if opc== \"oreo\":\n",
        "  print(f\"usted eligió {opc} y debe pagar $4500\")\n",
        "elif opc== \"cookie monster\":\n",
        "  print(f\"usted eligió {opc} y debe pagar $5500\")\n",
        "else:\n",
        "  print(f\"No tenemos ese sabor :(\")"
      ],
      "metadata": {
        "colab": {
          "base_uri": "https://localhost:8080/"
        },
        "id": "7hgZrjiiJTEb",
        "outputId": "3f9009e0-56ec-461d-eea9-6b1f96a3d92f"
      },
      "execution_count": null,
      "outputs": [
        {
          "output_type": "stream",
          "name": "stdout",
          "text": [
            "Elije un sabor de helado: oreo\n",
            "usted eligió oreo y debe pagar $4500\n"
          ]
        }
      ]
    },
    {
      "cell_type": "markdown",
      "source": [
        "### or\n",
        "Operador lógico de disyunción."
      ],
      "metadata": {
        "id": "jPT14h7AGvNX"
      }
    },
    {
      "cell_type": "code",
      "source": [
        "es_finde = True\n",
        "tengo_vacaciones = False\n",
        "if es_finde or tengo_vacaciones:\n",
        "    print(\"¡Hoy puedo descansar!\")"
      ],
      "metadata": {
        "colab": {
          "base_uri": "https://localhost:8080/"
        },
        "id": "zQrc2TY_Gy8k",
        "outputId": "f12e9f86-4ceb-440a-b3eb-d483fd9077b5"
      },
      "execution_count": null,
      "outputs": [
        {
          "output_type": "stream",
          "name": "stdout",
          "text": [
            "¡Hoy puedo descansar!\n"
          ]
        }
      ]
    },
    {
      "cell_type": "markdown",
      "source": [
        "### yield\n",
        "Pausa una función generadora y devuelve un valor."
      ],
      "metadata": {
        "id": "lfsD9jcyGzOz"
      }
    },
    {
      "cell_type": "code",
      "source": [
        "def contar():\n",
        "    for i in range(3):\n",
        "        yield i\n",
        "generador = contar()\n",
        "\n",
        "print(next(generador))\n",
        "print(next(generador))\n",
        "print(next(generador))"
      ],
      "metadata": {
        "colab": {
          "base_uri": "https://localhost:8080/"
        },
        "id": "aee_FWwxG3ge",
        "outputId": "baf23495-3fdd-4247-ceff-fd0f39febbce"
      },
      "execution_count": null,
      "outputs": [
        {
          "output_type": "stream",
          "name": "stdout",
          "text": [
            "0\n",
            "1\n",
            "2\n"
          ]
        }
      ]
    },
    {
      "cell_type": "markdown",
      "source": [
        "### assert\n",
        "Se usa para verificar que una condición sea True durante la ejecución del programa. Si la condición es False, lanza un AssertionError."
      ],
      "metadata": {
        "id": "5WBLTadsJOEq"
      }
    },
    {
      "cell_type": "code",
      "source": [
        "edad = 20\n",
        "assert edad >= 18\n",
        "print(\"Acceso permitido\")"
      ],
      "metadata": {
        "colab": {
          "base_uri": "https://localhost:8080/"
        },
        "id": "CV8eg1GuJWTC",
        "outputId": "2695abfa-1616-449f-b8c7-13a894c47444"
      },
      "execution_count": null,
      "outputs": [
        {
          "output_type": "stream",
          "name": "stdout",
          "text": [
            "Acceso permitido\n"
          ]
        }
      ]
    },
    {
      "cell_type": "markdown",
      "source": [
        "### import\n",
        "Se usa para importar módulos en Python, permitiendo el uso de funciones y clases de otros archivos o bibliotecas."
      ],
      "metadata": {
        "id": "1FCN4y7ZJV46"
      }
    },
    {
      "cell_type": "code",
      "source": [
        "import math\n",
        "print(math.sqrt(16))"
      ],
      "metadata": {
        "id": "4E5ZMW-xJY1u"
      },
      "execution_count": null,
      "outputs": []
    },
    {
      "cell_type": "markdown",
      "source": [
        "### pass\n",
        "Se usa como un marcador de posición en bloques de código vacíos, evitando errores de sintaxis."
      ],
      "metadata": {
        "id": "_xMtadl-JZGI"
      }
    },
    {
      "cell_type": "code",
      "source": [
        "def funcion_a_definir():\n",
        "    pass\n",
        "    # Evita que marque un error"
      ],
      "metadata": {
        "id": "VUzmhj8aJaz1"
      },
      "execution_count": null,
      "outputs": []
    },
    {
      "cell_type": "markdown",
      "source": [
        "### break\n",
        "Se usa para salir de un bucle antes de que termine su ejecución normal."
      ],
      "metadata": {
        "id": "UACF_8yDJbgm"
      }
    },
    {
      "cell_type": "code",
      "source": [
        "for i in range(5):\n",
        "    if i == 4:\n",
        "        break\n",
        "    print(i)"
      ],
      "metadata": {
        "colab": {
          "base_uri": "https://localhost:8080/"
        },
        "id": "7x0zkwkMJgsQ",
        "outputId": "fab26411-3927-488f-9565-622ee73ca6df"
      },
      "execution_count": null,
      "outputs": [
        {
          "output_type": "stream",
          "name": "stdout",
          "text": [
            "0\n",
            "1\n",
            "2\n",
            "3\n"
          ]
        }
      ]
    },
    {
      "cell_type": "markdown",
      "source": [
        "### except\n",
        "Se usa para manejar excepciones en un bloque try-except, evitando que el programa se detenga abruptamente.\n"
      ],
      "metadata": {
        "id": "8x0maMAoJhEw"
      }
    },
    {
      "cell_type": "code",
      "source": [
        "try:\n",
        "    print(1 / 0)\n",
        "except ZeroDivisionError:\n",
        "    print(\"No se puede dividir por cero\")"
      ],
      "metadata": {
        "colab": {
          "base_uri": "https://localhost:8080/"
        },
        "id": "uiDpLtFeJkm5",
        "outputId": "2a3b6890-b0cc-4c0e-d25e-f65f9c59d3f9"
      },
      "execution_count": null,
      "outputs": [
        {
          "output_type": "stream",
          "name": "stdout",
          "text": [
            "No se puede dividir por cero\n"
          ]
        }
      ]
    },
    {
      "cell_type": "markdown",
      "source": [
        "###in\n",
        "Se usa para verificar si un elemento está en una secuencia (listas, tuplas, cadenas, etc.)."
      ],
      "metadata": {
        "id": "o6YJIRAPJkNS"
      }
    },
    {
      "cell_type": "code",
      "source": [
        "frutas = [\"manzana\", \"pera\", \"uva\"]\n",
        "if \"pera\" in frutas:\n",
        "    print(\"Pera está en la lista\")"
      ],
      "metadata": {
        "colab": {
          "base_uri": "https://localhost:8080/"
        },
        "id": "BtTdK4BsJm5F",
        "outputId": "37f9fc4f-3b5a-456e-ede7-9d2f1e877b80"
      },
      "execution_count": null,
      "outputs": [
        {
          "output_type": "stream",
          "name": "stdout",
          "text": [
            "Pera está en la lista\n"
          ]
        }
      ]
    },
    {
      "cell_type": "markdown",
      "source": [
        "### raise\n",
        "Se usa para lanzar excepciones de forma manual."
      ],
      "metadata": {
        "id": "9wlguSIKJmYn"
      }
    },
    {
      "cell_type": "code",
      "source": [
        "def verificar_edad(edad):\n",
        "    if edad < 18:\n",
        "      raise ValueError(\"Debes ser mayor de edad\")\n",
        "    print(\"Acceso permitido\")\n",
        "\n",
        "verificar_edad(20)"
      ],
      "metadata": {
        "colab": {
          "base_uri": "https://localhost:8080/"
        },
        "id": "7Fdc0QM0LY5z",
        "outputId": "58478226-2b94-4678-9b6b-066af2904b0a"
      },
      "execution_count": null,
      "outputs": [
        {
          "output_type": "stream",
          "name": "stdout",
          "text": [
            "Acceso permitido\n"
          ]
        }
      ]
    },
    {
      "cell_type": "markdown",
      "source": [
        "###match\n",
        "En Python, match es una estructura de control que permite hacer coincidencias de patrones. Se usa para evaluar una variable y ejecutar un bloque de código dependiendo del patrón que coincida."
      ],
      "metadata": {
        "id": "dweLF7KmOa7v"
      }
    },
    {
      "cell_type": "code",
      "source": [
        "def clasificar_dia(dia):\n",
        "    match dia:\n",
        "        case \"lunes\" | \"martes\" | \"miércoles\" | \"jueves\" | \"viernes\":\n",
        "            return \"Es un día laborable.\"\n",
        "        case \"sábado\" | \"domingo\":\n",
        "            return \"Es un día de descanso.\"\n",
        "        case _:\n",
        "            return \"Día no válido.\"\n",
        "\n",
        "print(clasificar_dia(\"lunes\"))\n",
        "print(clasificar_dia(\"domingo\"))\n",
        "print(clasificar_dia(\"fiesta\"))"
      ],
      "metadata": {
        "colab": {
          "base_uri": "https://localhost:8080/"
        },
        "id": "EJIj1fCdOQon",
        "outputId": "d9d1225e-282a-478c-9c4e-d0521ca04c2d"
      },
      "execution_count": 1,
      "outputs": [
        {
          "output_type": "stream",
          "name": "stdout",
          "text": [
            "Es un día laborable.\n",
            "Es un día de descanso.\n",
            "Día no válido.\n"
          ]
        }
      ]
    },
    {
      "cell_type": "markdown",
      "source": [
        "###async\n",
        "Define una función asincrónica."
      ],
      "metadata": {
        "id": "wMSFg3M_P0Hk"
      }
    },
    {
      "cell_type": "code",
      "source": [
        "async def hola():\n",
        "    print(\"Hola, mundo!\")"
      ],
      "metadata": {
        "id": "s-jhLE94PzzN"
      },
      "execution_count": 2,
      "outputs": []
    },
    {
      "cell_type": "markdown",
      "source": [
        "###await\n",
        "Se usa dentro de funciones async para esperar una operación asincrónica.\n",
        "\n"
      ],
      "metadata": {
        "id": "u-t9z5ZMP9Q7"
      }
    },
    {
      "cell_type": "code",
      "source": [
        "import asyncio\n",
        "\n",
        "async def espera():\n",
        "    await asyncio.sleep(1)\n",
        "    print(\"Terminó la espera\")\n",
        "\n",
        "await espera()"
      ],
      "metadata": {
        "colab": {
          "base_uri": "https://localhost:8080/"
        },
        "id": "nRDyDXT4QAM8",
        "outputId": "f8c23f46-1cff-40f9-ebe6-c449c443bcdf"
      },
      "execution_count": 6,
      "outputs": [
        {
          "output_type": "stream",
          "name": "stdout",
          "text": [
            "Terminó la espera\n"
          ]
        }
      ]
    },
    {
      "cell_type": "markdown",
      "source": [
        "###case\n",
        "Se usa dentro de match para definir los diferentes patrones.\n"
      ],
      "metadata": {
        "id": "D91pW_6xQMwb"
      }
    },
    {
      "cell_type": "code",
      "source": [
        "match \"Python\":\n",
        "  case \"Java\":\n",
        "    print(\"Es Java\")\n",
        "  case \"Python\":\n",
        "    print(\"Es Python\")"
      ],
      "metadata": {
        "colab": {
          "base_uri": "https://localhost:8080/"
        },
        "id": "KBfbQo7ZQDm7",
        "outputId": "ff07cc64-1b43-4cd4-89c2-f3235d43e41e"
      },
      "execution_count": 4,
      "outputs": [
        {
          "output_type": "stream",
          "name": "stdout",
          "text": [
            "Es Python\n"
          ]
        }
      ]
    },
    {
      "cell_type": "markdown",
      "source": [
        "###except\n",
        "Maneja errores en bloques try-except.\n"
      ],
      "metadata": {
        "id": "pJ9iCGVWQY1r"
      }
    },
    {
      "cell_type": "code",
      "source": [
        "try:\n",
        "    x = 1 / 0\n",
        "except ZeroDivisionError:\n",
        "    print(\"Error: División por cero\")"
      ],
      "metadata": {
        "colab": {
          "base_uri": "https://localhost:8080/"
        },
        "id": "zalPUkKaQYkX",
        "outputId": "373bcc09-63d7-4df6-d72c-91a549eeab93"
      },
      "execution_count": 5,
      "outputs": [
        {
          "output_type": "stream",
          "name": "stdout",
          "text": [
            "Error: División por cero\n"
          ]
        }
      ]
    },
    {
      "cell_type": "markdown",
      "source": [
        "###int\n",
        "En Python, int es un tipo de dato que representa números enteros. También es una función incorporada que se usa para convertir otros tipos de datos en enteros."
      ],
      "metadata": {
        "id": "gzlCxxlHQpr6"
      }
    },
    {
      "cell_type": "code",
      "source": [
        "decimal = 3.9\n",
        "entero = int(decimal)\n",
        "print(entero)"
      ],
      "metadata": {
        "colab": {
          "base_uri": "https://localhost:8080/"
        },
        "id": "SQ__JeSXQpd6",
        "outputId": "9eb5b306-ad81-4f72-e810-1c01666a4ef6"
      },
      "execution_count": 7,
      "outputs": [
        {
          "output_type": "stream",
          "name": "stdout",
          "text": [
            "3\n"
          ]
        }
      ]
    },
    {
      "cell_type": "markdown",
      "source": [
        "###float\n",
        "En Python, float es un tipo de dato que representa números con decimales (números de punto flotante). También es una función que se usa para convertir otros tipos de datos en números de punto flotante."
      ],
      "metadata": {
        "id": "upJdN5RMRY9i"
      }
    },
    {
      "cell_type": "code",
      "source": [
        "entero = 10\n",
        "decimal = float(entero)\n",
        "print(decimal)"
      ],
      "metadata": {
        "colab": {
          "base_uri": "https://localhost:8080/"
        },
        "id": "i3eViMtiRqQq",
        "outputId": "5d0f7a14-662e-4b7d-95ef-9e8ea18babfd"
      },
      "execution_count": 8,
      "outputs": [
        {
          "output_type": "stream",
          "name": "stdout",
          "text": [
            "10.0\n"
          ]
        }
      ]
    }
  ]
}