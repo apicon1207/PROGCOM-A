{
  "nbformat": 4,
  "nbformat_minor": 0,
  "metadata": {
    "colab": {
      "provenance": []
    },
    "kernelspec": {
      "name": "python3",
      "display_name": "Python 3"
    },
    "language_info": {
      "name": "python"
    }
  },
  "cells": [
    {
      "cell_type": "markdown",
      "source": [
        "## Baile de tiktok: Mamado"
      ],
      "metadata": {
        "id": "T2ZIHRr8TE75"
      }
    },
    {
      "cell_type": "code",
      "execution_count": 39,
      "metadata": {
        "id": "BUs15SN3JULL"
      },
      "outputs": [],
      "source": [
        "def cadera_cute(lado,rep):\n",
        "    primera_vez = True\n",
        "    for m in range(rep):\n",
        "        for i in range(lado):\n",
        "            if primera_vez:\n",
        "                print(\"brazo peinándose con caderita a la derecha\")\n",
        "                primera_vez = False\n",
        "            else:\n",
        "                print(\"caderita a la derecha\")\n",
        "        for j in range(lado):\n",
        "            print(\"caderita a la izquierda\")\n",
        "\n",
        "def manitas(lado,rep):\n",
        "  for m in range(rep):\n",
        "    for i in range(lado):\n",
        "      print(\"manitas en puñito arriba\")\n",
        "      print(\"manitas en puñito arriba\")\n",
        "    for j in range(lado):\n",
        "      print(\"manitas en puñito en el pecho\")\n",
        "      print(\"manitas en puñito en el pecho\")\n",
        "      print(\"abro manos, como un abrazo\")\n",
        "\n",
        "def deditos(lado,rep):\n",
        "  for m in range(rep):\n",
        "    for i in range(lado):\n",
        "      print(\"dedito derecho arriba\")\n",
        "    for j in range(lado):\n",
        "      print(\"dedito izquierdo arriba\")\n",
        "    for k in range(lado):\n",
        "      print(\"uno deditos\")\n",
        "    for l in range(lado):\n",
        "      print(\"abro deditos\")\n",
        "\n",
        "def bailecito(lado,rep):\n",
        "  for m in range(rep):\n",
        "    for i in range(lado):\n",
        "      print(\"bailecito final\")\n",
        "    for j in range(lado):\n",
        "      print(\"salto a un lado\")\n",
        "    for k in range(lado):\n",
        "      print(\"bailecito final de lado\")\n"
      ]
    },
    {
      "cell_type": "code",
      "source": [
        "cadera_cute(2,2)\n",
        "print()\n",
        "manitas(1,1)\n",
        "print()\n",
        "deditos(1,1)\n",
        "print()\n",
        "cadera_cute(1,2)\n",
        "manitas(1,1)\n",
        "print()\n",
        "deditos(1,1)\n",
        "print()\n",
        "bailecito(1,1)"
      ],
      "metadata": {
        "colab": {
          "base_uri": "https://localhost:8080/"
        },
        "id": "fOpp1kpiNPev",
        "outputId": "64a29f7d-6804-4a68-d65e-7828f7230697"
      },
      "execution_count": 40,
      "outputs": [
        {
          "output_type": "stream",
          "name": "stdout",
          "text": [
            "brazo peinándose con caderita a la derecha\n",
            "caderita a la derecha\n",
            "caderita a la izquierda\n",
            "caderita a la izquierda\n",
            "caderita a la derecha\n",
            "caderita a la derecha\n",
            "caderita a la izquierda\n",
            "caderita a la izquierda\n",
            "\n",
            "manitas en puñito arriba\n",
            "manitas en puñito arriba\n",
            "manitas en puñito en el pecho\n",
            "manitas en puñito en el pecho\n",
            "abro manos, como un abrazo\n",
            "\n",
            "dedito derecho arriba\n",
            "dedito izquierdo arriba\n",
            "uno deditos\n",
            "abro deditos\n",
            "\n",
            "brazo peinándose con caderita a la derecha\n",
            "caderita a la izquierda\n",
            "caderita a la derecha\n",
            "caderita a la izquierda\n",
            "manitas en puñito arriba\n",
            "manitas en puñito arriba\n",
            "manitas en puñito en el pecho\n",
            "manitas en puñito en el pecho\n",
            "abro manos, como un abrazo\n",
            "\n",
            "dedito derecho arriba\n",
            "dedito izquierdo arriba\n",
            "uno deditos\n",
            "abro deditos\n",
            "\n",
            "bailecito final\n",
            "salto a un lado\n",
            "bailecito final de lado\n"
          ]
        }
      ]
    }
  ]
}